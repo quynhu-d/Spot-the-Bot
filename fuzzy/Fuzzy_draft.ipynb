{
 "cells": [
  {
   "cell_type": "markdown",
   "metadata": {},
   "source": [
    "27/04/2021"
   ]
  },
  {
   "cell_type": "code",
   "execution_count": 2,
   "metadata": {},
   "outputs": [
    {
     "data": {
      "text/plain": [
       "array(4.)"
      ]
     },
     "execution_count": 2,
     "metadata": {},
     "output_type": "execute_result"
    }
   ],
   "source": [
    "from pynverse import inversefunc    # to get inverse function\n",
    "inv = inversefunc((lambda x: x** 2))\n",
    "inv(16)"
   ]
  },
  {
   "cell_type": "code",
   "execution_count": 3,
   "metadata": {},
   "outputs": [],
   "source": [
    "from scipy.integrate import quad    # for integrating"
   ]
  },
  {
   "cell_type": "code",
   "execution_count": 6,
   "metadata": {},
   "outputs": [],
   "source": [
    "import numpy as np\n",
    "from numpy.linalg import norm\n",
    "\n",
    "def fuzzy_distance(x_1, x_2, lambda_, ro_, L=None, R=None):\n",
    "    cl_1, cr_1, l_1, r_1 = x_1\n",
    "    cl_2, cr_2, l_2, r_2 = x_2\n",
    "    if lambda_ is None:\n",
    "        if L != None:\n",
    "            L_inv = inversefunc(L)\n",
    "            lambda_ = quad(L_inv, 0, 1)\n",
    "        else:\n",
    "            raise NameError('No information about L-side')\n",
    "    if ro_ is None:\n",
    "        if R != None:\n",
    "            R_inv = inversefunc(R)\n",
    "            ro_ = quad(R_inv, 0, 1)\n",
    "        else:\n",
    "            raise NameError('No information about R-side')\n",
    "            \n",
    "    return np.sqrt(\n",
    "        norm(cl_1 - cl_2) ** 2 + norm(cr_1 - cr_2) ** 2 + \\\n",
    "        norm((cl_1 - lambda_ * l_1) - (cl_2 - lambda_ * l_2)) ** 2 +\\\n",
    "        norm((cr_1 - ro_ * r_1) - (cr_2 - ro_ * r_2)) ** 2\n",
    "    )"
   ]
  },
  {
   "cell_type": "code",
   "execution_count": 5,
   "metadata": {},
   "outputs": [
    {
     "data": {
      "text/plain": [
       "array([-1.43685402, -0.8064303 ,  1.51192337,  0.01469104, -1.12447267,\n",
       "        0.64721798,  0.07152012,  0.44883416, -1.33512064, -2.57017734])"
      ]
     },
     "execution_count": 5,
     "metadata": {},
     "output_type": "execute_result"
    }
   ],
   "source": [
    "x = np.random.normal(0,1,10)\n",
    "y = np.random.normal(0,1,10)"
   ]
  },
  {
   "cell_type": "code",
   "execution_count": 7,
   "metadata": {},
   "outputs": [
    {
     "data": {
      "text/plain": [
       "3.150396800404673"
      ]
     },
     "execution_count": 7,
     "metadata": {},
     "output_type": "execute_result"
    }
   ],
   "source": [
    "x = (2, 5, 0.5, 0.5)\n",
    "y = (1,3,0.2,0.6)\n",
    "fuzzy_distance(x, y, 0.5, 0.5)"
   ]
  },
  {
   "cell_type": "code",
   "execution_count": null,
   "metadata": {},
   "outputs": [],
   "source": [
    "x = ()"
   ]
  },
  {
   "cell_type": "code",
   "execution_count": null,
   "metadata": {},
   "outputs": [],
   "source": []
  },
  {
   "cell_type": "markdown",
   "metadata": {},
   "source": [
    "18/05/2021"
   ]
  },
  {
   "cell_type": "markdown",
   "metadata": {},
   "source": [
    "$d(x_i,x_j) = \\big(||m_{1,i}-m_{1,j}||^2 + ||m_{2,i}-m_{2,j}||^2 + ||(m_{1,i}-\\lambda \\ell_i) -(m_{1,j}-\\lambda\\ell_{j})||^2 + ||(m_{1,i}+\\rho r_i) -(m_{1,j}+\\rho r_{j})||^2\\big)^{1/2}$"
   ]
  },
  {
   "cell_type": "markdown",
   "metadata": {},
   "source": [
    "0. fuzzify (params: $\\lambda, \\rho (L, R), m, \\Delta c)$\n",
    "1. calculate distances\n",
    "2. wishart on distances"
   ]
  },
  {
   "cell_type": "code",
   "execution_count": 3,
   "metadata": {},
   "outputs": [],
   "source": [
    "from sklearn.datasets import make_classification\n",
    "X, y = make_classification(n_features=1,n_samples=100, n_informative=1,n_redundant=0,n_repeated=0, n_clusters_per_class=1)"
   ]
  },
  {
   "cell_type": "code",
   "execution_count": 7,
   "metadata": {},
   "outputs": [
    {
     "data": {
      "image/png": "[encoded data removed]",
      "text/plain": [
       "<Figure size 432x288 with 1 Axes>"
      ]
     },
     "metadata": {
      "needs_background": "light"
     },
     "output_type": "display_data"
    }
   ],
   "source": [
    "import matplotlib.pyplot as plt\n",
    "plt.hist(X)\n",
    "plt.show()"
   ]
  },
  {
   "cell_type": "code",
   "execution_count": 10,
   "metadata": {},
   "outputs": [
    {
     "data": {
      "text/plain": [
       "0.13219593213298406"
      ]
     },
     "execution_count": 10,
     "metadata": {},
     "output_type": "execute_result"
    }
   ],
   "source": [
    "import numpy as np\n",
    "np.std(X[y == 1])"
   ]
  },
  {
   "cell_type": "markdown",
   "metadata": {},
   "source": [
    "19/05/2021 FCM"
   ]
  },
  {
   "cell_type": "code",
   "execution_count": 93,
   "metadata": {},
   "outputs": [],
   "source": [
    "?fuzz.cluster.cmeans"
   ]
  },
  {
   "cell_type": "code",
   "execution_count": 55,
   "metadata": {},
   "outputs": [
    {
     "data": {
      "text/plain": [
       "Text(0.5, 1.0, 'Test data: 200 points x3 clusters.')"
      ]
     },
     "execution_count": 55,
     "metadata": {},
     "output_type": "execute_result"
    },
    {
     "data": {
      "image/png": "[encoded data removed]",
      "text/plain": [
       "<Figure size 432x288 with 1 Axes>"
      ]
     },
     "metadata": {
      "needs_background": "light"
     },
     "output_type": "display_data"
    }
   ],
   "source": [
    "import matplotlib.pyplot as plt\n",
    "import numpy as np\n",
    "import skfuzzy as fuzz\n",
    "\n",
    "colors = ['b', 'orange', 'g', 'r', 'c', 'm', 'y', 'k', 'Brown', 'ForestGreen']\n",
    "\n",
    "# Define three cluster centers\n",
    "centers = [[4, 2],\n",
    "           [1, 7],\n",
    "           [5, 6]]\n",
    "\n",
    "# Define three cluster sigmas in x and y, respectively\n",
    "sigmas = [[0.8, 0.3],\n",
    "          [0.3, 0.5],\n",
    "          [1.1, 0.7]]\n",
    "\n",
    "# Generate test data\n",
    "np.random.seed(42)  # Set seed for reproducibility\n",
    "xpts = np.zeros(1)\n",
    "ypts = np.zeros(1)\n",
    "labels = np.zeros(1)\n",
    "for i, ((xmu, ymu), (xsigma, ysigma)) in enumerate(zip(centers, sigmas)):\n",
    "    xpts = np.hstack((xpts, np.random.standard_normal(200) * xsigma + xmu))\n",
    "    ypts = np.hstack((ypts, np.random.standard_normal(200) * ysigma + ymu))\n",
    "    labels = np.hstack((labels, np.ones(200) * i))\n",
    "\n",
    "# Visualize the test data\n",
    "fig0, ax0 = plt.subplots()\n",
    "for label in range(3):\n",
    "    ax0.plot(xpts[labels == label], ypts[labels == label], '.',\n",
    "             color=colors[label])\n",
    "ax0.set_title('Test data: 200 points x3 clusters.')"
   ]
  },
  {
   "cell_type": "code",
   "execution_count": 57,
   "metadata": {
    "scrolled": true
   },
   "outputs": [
    {
     "data": {
      "image/png": "[encoded data removed]",
      "text/plain": [
       "<Figure size 576x576 with 9 Axes>"
      ]
     },
     "metadata": {
      "needs_background": "light"
     },
     "output_type": "display_data"
    }
   ],
   "source": [
    "fig1, axes1 = plt.subplots(3, 3, figsize=(8, 8))\n",
    "alldata = np.vstack((xpts, ypts))\n",
    "fpcs = []\n",
    "\n",
    "for ncenters, ax in enumerate(axes1.reshape(-1), 2):\n",
    "    cntr, u, u0, d, jm, p, fpc = fuzz.cluster.cmeans(\n",
    "        alldata, ncenters, 2, error=0.005, maxiter=1000, init=None)\n",
    "\n",
    "    # Store fpc values for later\n",
    "    fpcs.append(fpc)\n",
    "\n",
    "    # Plot assigned clusters, for each data point in training set\n",
    "    cluster_membership = np.argmax(u, axis=0)\n",
    "    for j in range(ncenters):\n",
    "        ax.plot(xpts[cluster_membership == j],\n",
    "                ypts[cluster_membership == j], '.', color=colors[j])\n",
    "\n",
    "    # Mark the center of each fuzzy cluster\n",
    "    for pt in cntr:\n",
    "        ax.plot(pt[0], pt[1], 'rs')\n",
    "\n",
    "    ax.set_title('Centers = {0}; FPC = {1:.2f}'.format(ncenters, fpc))\n",
    "    ax.axis('off')\n",
    "\n",
    "fig1.tight_layout()"
   ]
  },
  {
   "cell_type": "code",
   "execution_count": 91,
   "metadata": {},
   "outputs": [
    {
     "data": {
      "image/png": "[encoded data removed]",
      "text/plain": [
       "<Figure size 1152x360 with 2 Axes>"
      ]
     },
     "metadata": {
      "needs_background": "light"
     },
     "output_type": "display_data"
    }
   ],
   "source": [
    "import tables\n",
    "with tables.open_file('../ENG/embs/lit/the_sorrows_of_young_werther_en_boylan' + '/e%d_%d.h5' % (1, 2), mode='r') as f:\n",
    "    X = (f.root.data[:,:])\n",
    "with tables.open_file('../ENG/embs/bot/processed_lstm__anna_karenina' + '/e%d_%d.h5' % (1, 2), mode='r') as f:\n",
    "    X_bot = (f.root.data[:,:])\n",
    "import seaborn as sns\n",
    "fig, axs = plt.subplots(1,2,figsize=(16,5))\n",
    "sns.scatterplot(x=X[:,0], y=X[:,1], ax=axs[0])\n",
    "axs[0].set_title('Literature')\n",
    "sns.scatterplot(x=X_bot[:,0], y=X_bot[:,1], ax=axs[1])\n",
    "axs[1].set_title('Bot')\n",
    "plt.show()"
   ]
  },
  {
   "cell_type": "code",
   "execution_count": 58,
   "metadata": {
    "scrolled": true
   },
   "outputs": [
    {
     "data": {
      "image/png": "[encoded data removed]",
      "text/plain": [
       "<Figure size 576x576 with 9 Axes>"
      ]
     },
     "metadata": {
      "needs_background": "light"
     },
     "output_type": "display_data"
    }
   ],
   "source": [
    "fig1, axes1 = plt.subplots(3, 3, figsize=(8, 8))\n",
    "xpts, ypts = X[:,0], X[:,1]\n",
    "alldata = X.T\n",
    "fpcs = []\n",
    "\n",
    "for ncenters, ax in enumerate(axes1.reshape(-1), 2):\n",
    "    cntr, u, u0, d, jm, p, fpc = fuzz.cluster.cmeans(\n",
    "        alldata, ncenters, 2, error=0.005, maxiter=1000, init=None)\n",
    "\n",
    "    # Store fpc values for later\n",
    "    fpcs.append(fpc)\n",
    "\n",
    "    # Plot assigned clusters, for each data point in training set\n",
    "    cluster_membership = np.argmax(u, axis=0)\n",
    "    for j in range(ncenters):\n",
    "        ax.plot(xpts[cluster_membership == j],\n",
    "                ypts[cluster_membership == j], '.', color=colors[j])\n",
    "\n",
    "    # Mark the center of each fuzzy cluster\n",
    "    for pt in cntr:\n",
    "        ax.plot(pt[0], pt[1], 'rs')\n",
    "\n",
    "    ax.set_title('Centers = {0}; FPC = {1:.2f}'.format(ncenters, fpc))\n",
    "    ax.axis('off')\n",
    "\n",
    "fig1.tight_layout()"
   ]
  },
  {
   "cell_type": "code",
   "execution_count": 59,
   "metadata": {
    "scrolled": true
   },
   "outputs": [
    {
     "data": {
      "image/png": "[encoded data removed]",
      "text/plain": [
       "<Figure size 576x576 with 9 Axes>"
      ]
     },
     "metadata": {
      "needs_background": "light"
     },
     "output_type": "display_data"
    }
   ],
   "source": [
    "fig2, axes2 = plt.subplots(3, 3, figsize=(8, 8))\n",
    "xpts, ypts = X_bot[:,0], X_bot[:,1]\n",
    "alldata = X_bot.T\n",
    "fpcs = []\n",
    "\n",
    "for ncenters, ax in enumerate(axes2.reshape(-1), 2):\n",
    "    cntr, u, u0, d, jm, p, fpc = fuzz.cluster.cmeans(\n",
    "        alldata, ncenters, 2, error=0.005, maxiter=1000, init=None)\n",
    "\n",
    "    # Store fpc values for later\n",
    "    fpcs.append(fpc)\n",
    "\n",
    "    # Plot assigned clusters, for each data point in training set\n",
    "    cluster_membership = np.argmax(u, axis=0)\n",
    "    for j in range(ncenters):\n",
    "        ax.plot(xpts[cluster_membership == j],\n",
    "                ypts[cluster_membership == j], '.', color=colors[j])\n",
    "\n",
    "    # Mark the center of each fuzzy cluster\n",
    "    for pt in cntr:\n",
    "        ax.plot(pt[0], pt[1], 'rs')\n",
    "\n",
    "    ax.set_title('Centers = {0}; FPC = {1:.2f}'.format(ncenters, fpc))\n",
    "    ax.axis('off')\n",
    "\n",
    "fig2.tight_layout()"
   ]
  },
  {
   "cell_type": "code",
   "execution_count": 87,
   "metadata": {
    "scrolled": true
   },
   "outputs": [
    {
     "data": {
      "image/png": "[encoded data removed]",
      "text/plain": [
       "<Figure size 576x2160 with 18 Axes>"
      ]
     },
     "metadata": {
      "needs_background": "light"
     },
     "output_type": "display_data"
    }
   ],
   "source": [
    "fig, axes = plt.subplots(9, 2, figsize=(8, 30))\n",
    "xpts, ypts = X[:,0], X[:,1]\n",
    "alldata = X.T\n",
    "xpts_bot, ypts_bot = X_bot[:,0], X_bot[:,1]\n",
    "alldata_bot = X_bot.T\n",
    "fpcs = []\n",
    "fpcs_bot = []\n",
    "\n",
    "for ncenters, (ax, ax_) in enumerate(zip(axes[:,0], axes[:,1]), 2):\n",
    "    cntr, u, u0, d, jm, p, fpc = fuzz.cluster.cmeans(\n",
    "        alldata, ncenters, 2, error=0.005, maxiter=1000, init=None)\n",
    "\n",
    "    # Store fpc values for later\n",
    "    fpcs.append(fpc)\n",
    "\n",
    "    # Plot assigned clusters, for each data point in training set\n",
    "    cluster_membership = np.argmax(u, axis=0)\n",
    "    for j in range(ncenters):\n",
    "        ax.plot(xpts[cluster_membership == j],\n",
    "                ypts[cluster_membership == j], '.', color=colors[j])\n",
    "\n",
    "    # Mark the center of each fuzzy cluster\n",
    "    for pt in cntr:\n",
    "        ax.plot(pt[0], pt[1], 'rs')\n",
    "\n",
    "    ax.set_title('Centers = {0}; FPC = {1:.2f}'.format(ncenters, fpc))\n",
    "    ax.axis('off')\n",
    "\n",
    "    cntr_, u_, u0_, d_, jm_, p_, fpc_ = fuzz.cluster.cmeans(\n",
    "        alldata_bot, ncenters, 2, error=0.005, maxiter=1000, init=None)\n",
    "\n",
    "    # Store fpc values for later\n",
    "    fpcs_bot.append(fpc_)\n",
    "\n",
    "    # Plot assigned clusters, for each data point in training set\n",
    "    cluster_membership_ = np.argmax(u_, axis=0)\n",
    "    for j in range(ncenters):\n",
    "        ax_.plot(xpts_bot[cluster_membership_ == j],\n",
    "                ypts_bot[cluster_membership_ == j], '.', color=colors[j])\n",
    "        \n",
    "    # Mark the center of each fuzzy cluster\n",
    "    for pt in cntr_:\n",
    "        ax_.plot(pt[0], pt[1], 'rs')\n",
    "\n",
    "    ax_.set_title('Centers = {0}; FPC = {1:.2f}'.format(ncenters, fpc_))\n",
    "    ax_.axis('off')\n",
    "\n",
    "fig.tight_layout()"
   ]
  },
  {
   "cell_type": "code",
   "execution_count": 92,
   "metadata": {},
   "outputs": [
    {
     "data": {
      "image/png": "[encoded data removed]",
      "text/plain": [
       "<Figure size 432x288 with 1 Axes>"
      ]
     },
     "metadata": {
      "needs_background": "light"
     },
     "output_type": "display_data"
    }
   ],
   "source": [
    "plt.title('FPC')\n",
    "plt.plot(range(2,11), fpcs, label='Literature')\n",
    "plt.plot(range(2,11), fpcs_bot, label='Bot')\n",
    "plt.legend()\n",
    "plt.show()"
   ]
  },
  {
   "cell_type": "code",
   "execution_count": 104,
   "metadata": {},
   "outputs": [],
   "source": [
    "import pandas as pd\n",
    "clusters = pd.DataFrame(u.T).describe()\n",
    "\n",
    "clusters_bot = pd.DataFrame(u_.T).describe()"
   ]
  },
  {
   "cell_type": "code",
   "execution_count": 103,
   "metadata": {},
   "outputs": [],
   "source": [
    "from IPython.display import display_html\n",
    "from itertools import chain,cycle\n",
    "def display_side_by_side(*args,titles=cycle([''])):\n",
    "    html_str=''\n",
    "    for df,title in zip(args, chain(titles,cycle(['</br>'])) ):\n",
    "        html_str+='<th style=\"text-align:center\"><td style=\"vertical-align:top\">'\n",
    "        html_str+=f'<h2>{title}</h2>'\n",
    "        html_str+=df.to_html().replace('table','table style=\"display:inline\"')\n",
    "        html_str+='</td></th>'\n",
    "    display_html(html_str,raw=True)"
   ]
  },
  {
   "cell_type": "code",
   "execution_count": 109,
   "metadata": {},
   "outputs": [],
   "source": [
    "from tqdm.notebook import tqdm, trange"
   ]
  },
  {
   "cell_type": "code",
   "execution_count": 110,
   "metadata": {},
   "outputs": [
    {
     "data": {
      "application/vnd.jupyter.widget-view+json": {
       "model_id": "719c2e4d565b42b6955e47cf3049e3ac",
       "version_major": 2,
       "version_minor": 0
      },
      "text/plain": [
       "  0%|          | 0/9 [00:00<?, ?it/s]"
      ]
     },
     "metadata": {},
     "output_type": "display_data"
    }
   ],
   "source": [
    "lit_data = []\n",
    "bot_data = []\n",
    "for ncenters in trange(2,11):\n",
    "    lit_data.append(fuzz.cluster.cmeans(    # cntr, u, u0, d, jm, p, fpc\n",
    "        alldata, ncenters, 2, error=0.005, maxiter=1000, init=None))\n",
    "    bot_data.append(fuzz.cluster.cmeans(\n",
    "        alldata_bot, ncenters, 2, error=0.005, maxiter=1000, init=None))"
   ]
  },
  {
   "cell_type": "code",
   "execution_count": 122,
   "metadata": {},
   "outputs": [
    {
     "data": {
      "text/html": [
       "<th style=\"text-align:center\"><td style=\"vertical-align:top\"><h2></h2><table style=\"display:inline\" border=\"1\" class=\"dataframe\">\n",
       "  <thead>\n",
       "    <tr style=\"text-align: right;\">\n",
       "      <th></th>\n",
       "      <th>0</th>\n",
       "      <th>1</th>\n",
       "    </tr>\n",
       "  </thead>\n",
       "  <tbody>\n",
       "    <tr>\n",
       "      <th>count</th>\n",
       "      <td>34703.000000</td>\n",
       "      <td>34703.000000</td>\n",
       "    </tr>\n",
       "    <tr>\n",
       "      <th>mean</th>\n",
       "      <td>0.690534</td>\n",
       "      <td>0.309466</td>\n",
       "    </tr>\n",
       "    <tr>\n",
       "      <th>std</th>\n",
       "      <td>0.333914</td>\n",
       "      <td>0.333914</td>\n",
       "    </tr>\n",
       "    <tr>\n",
       "      <th>min</th>\n",
       "      <td>0.001251</td>\n",
       "      <td>0.000578</td>\n",
       "    </tr>\n",
       "    <tr>\n",
       "      <th>25%</th>\n",
       "      <td>0.522458</td>\n",
       "      <td>0.069636</td>\n",
       "    </tr>\n",
       "    <tr>\n",
       "      <th>50%</th>\n",
       "      <td>0.871724</td>\n",
       "      <td>0.128276</td>\n",
       "    </tr>\n",
       "    <tr>\n",
       "      <th>75%</th>\n",
       "      <td>0.930364</td>\n",
       "      <td>0.477542</td>\n",
       "    </tr>\n",
       "    <tr>\n",
       "      <th>max</th>\n",
       "      <td>0.999422</td>\n",
       "      <td>0.998749</td>\n",
       "    </tr>\n",
       "  </tbody>\n",
       "</table style=\"display:inline\"></td></th><th style=\"text-align:center\"><td style=\"vertical-align:top\"><h2></h2><table style=\"display:inline\" border=\"1\" class=\"dataframe\">\n",
       "  <thead>\n",
       "    <tr style=\"text-align: right;\">\n",
       "      <th></th>\n",
       "      <th>0</th>\n",
       "      <th>1</th>\n",
       "    </tr>\n",
       "  </thead>\n",
       "  <tbody>\n",
       "    <tr>\n",
       "      <th>count</th>\n",
       "      <td>8626.000000</td>\n",
       "      <td>8626.000000</td>\n",
       "    </tr>\n",
       "    <tr>\n",
       "      <th>mean</th>\n",
       "      <td>0.461194</td>\n",
       "      <td>0.538806</td>\n",
       "    </tr>\n",
       "    <tr>\n",
       "      <th>std</th>\n",
       "      <td>0.367081</td>\n",
       "      <td>0.367081</td>\n",
       "    </tr>\n",
       "    <tr>\n",
       "      <th>min</th>\n",
       "      <td>0.012129</td>\n",
       "      <td>0.010230</td>\n",
       "    </tr>\n",
       "    <tr>\n",
       "      <th>25%</th>\n",
       "      <td>0.114290</td>\n",
       "      <td>0.150396</td>\n",
       "    </tr>\n",
       "    <tr>\n",
       "      <th>50%</th>\n",
       "      <td>0.305166</td>\n",
       "      <td>0.694834</td>\n",
       "    </tr>\n",
       "    <tr>\n",
       "      <th>75%</th>\n",
       "      <td>0.849604</td>\n",
       "      <td>0.885710</td>\n",
       "    </tr>\n",
       "    <tr>\n",
       "      <th>max</th>\n",
       "      <td>0.989770</td>\n",
       "      <td>0.987871</td>\n",
       "    </tr>\n",
       "  </tbody>\n",
       "</table style=\"display:inline\"></td></th>"
      ]
     },
     "metadata": {},
     "output_type": "display_data"
    },
    {
     "data": {
      "text/html": [
       "<th style=\"text-align:center\"><td style=\"vertical-align:top\"><h2></h2><table style=\"display:inline\" border=\"1\" class=\"dataframe\">\n",
       "  <thead>\n",
       "    <tr style=\"text-align: right;\">\n",
       "      <th></th>\n",
       "      <th>0</th>\n",
       "      <th>1</th>\n",
       "      <th>2</th>\n",
       "    </tr>\n",
       "  </thead>\n",
       "  <tbody>\n",
       "    <tr>\n",
       "      <th>count</th>\n",
       "      <td>34703.000000</td>\n",
       "      <td>34703.000000</td>\n",
       "      <td>34703.000000</td>\n",
       "    </tr>\n",
       "    <tr>\n",
       "      <th>mean</th>\n",
       "      <td>0.561821</td>\n",
       "      <td>0.213849</td>\n",
       "      <td>0.224330</td>\n",
       "    </tr>\n",
       "    <tr>\n",
       "      <th>std</th>\n",
       "      <td>0.425315</td>\n",
       "      <td>0.346028</td>\n",
       "      <td>0.349907</td>\n",
       "    </tr>\n",
       "    <tr>\n",
       "      <th>min</th>\n",
       "      <td>0.016011</td>\n",
       "      <td>0.000027</td>\n",
       "      <td>0.000030</td>\n",
       "    </tr>\n",
       "    <tr>\n",
       "      <th>25%</th>\n",
       "      <td>0.066064</td>\n",
       "      <td>0.006724</td>\n",
       "      <td>0.007378</td>\n",
       "    </tr>\n",
       "    <tr>\n",
       "      <th>50%</th>\n",
       "      <td>0.659296</td>\n",
       "      <td>0.026411</td>\n",
       "      <td>0.027249</td>\n",
       "    </tr>\n",
       "    <tr>\n",
       "      <th>75%</th>\n",
       "      <td>0.985807</td>\n",
       "      <td>0.251548</td>\n",
       "      <td>0.280871</td>\n",
       "    </tr>\n",
       "    <tr>\n",
       "      <th>max</th>\n",
       "      <td>0.999944</td>\n",
       "      <td>0.974426</td>\n",
       "      <td>0.970521</td>\n",
       "    </tr>\n",
       "  </tbody>\n",
       "</table style=\"display:inline\"></td></th><th style=\"text-align:center\"><td style=\"vertical-align:top\"><h2></h2><table style=\"display:inline\" border=\"1\" class=\"dataframe\">\n",
       "  <thead>\n",
       "    <tr style=\"text-align: right;\">\n",
       "      <th></th>\n",
       "      <th>0</th>\n",
       "      <th>1</th>\n",
       "      <th>2</th>\n",
       "    </tr>\n",
       "  </thead>\n",
       "  <tbody>\n",
       "    <tr>\n",
       "      <th>count</th>\n",
       "      <td>8626.000000</td>\n",
       "      <td>8626.000000</td>\n",
       "      <td>8626.000000</td>\n",
       "    </tr>\n",
       "    <tr>\n",
       "      <th>mean</th>\n",
       "      <td>0.366962</td>\n",
       "      <td>0.282570</td>\n",
       "      <td>0.350469</td>\n",
       "    </tr>\n",
       "    <tr>\n",
       "      <th>std</th>\n",
       "      <td>0.367104</td>\n",
       "      <td>0.342638</td>\n",
       "      <td>0.386381</td>\n",
       "    </tr>\n",
       "    <tr>\n",
       "      <th>min</th>\n",
       "      <td>0.000458</td>\n",
       "      <td>0.000364</td>\n",
       "      <td>0.000323</td>\n",
       "    </tr>\n",
       "    <tr>\n",
       "      <th>25%</th>\n",
       "      <td>0.014227</td>\n",
       "      <td>0.008409</td>\n",
       "      <td>0.026252</td>\n",
       "    </tr>\n",
       "    <tr>\n",
       "      <th>50%</th>\n",
       "      <td>0.209998</td>\n",
       "      <td>0.114110</td>\n",
       "      <td>0.091240</td>\n",
       "    </tr>\n",
       "    <tr>\n",
       "      <th>75%</th>\n",
       "      <td>0.745672</td>\n",
       "      <td>0.539063</td>\n",
       "      <td>0.713507</td>\n",
       "    </tr>\n",
       "    <tr>\n",
       "      <th>max</th>\n",
       "      <td>0.999068</td>\n",
       "      <td>0.979735</td>\n",
       "      <td>0.999178</td>\n",
       "    </tr>\n",
       "  </tbody>\n",
       "</table style=\"display:inline\"></td></th>"
      ]
     },
     "metadata": {},
     "output_type": "display_data"
    },
    {
     "data": {
      "text/html": [
       "<th style=\"text-align:center\"><td style=\"vertical-align:top\"><h2></h2><table style=\"display:inline\" border=\"1\" class=\"dataframe\">\n",
       "  <thead>\n",
       "    <tr style=\"text-align: right;\">\n",
       "      <th></th>\n",
       "      <th>0</th>\n",
       "      <th>1</th>\n",
       "      <th>2</th>\n",
       "      <th>3</th>\n",
       "    </tr>\n",
       "  </thead>\n",
       "  <tbody>\n",
       "    <tr>\n",
       "      <th>count</th>\n",
       "      <td>34703.000000</td>\n",
       "      <td>34703.000000</td>\n",
       "      <td>34703.000000</td>\n",
       "      <td>34703.000000</td>\n",
       "    </tr>\n",
       "    <tr>\n",
       "      <th>mean</th>\n",
       "      <td>0.519335</td>\n",
       "      <td>0.195268</td>\n",
       "      <td>0.113474</td>\n",
       "      <td>0.171922</td>\n",
       "    </tr>\n",
       "    <tr>\n",
       "      <th>std</th>\n",
       "      <td>0.435907</td>\n",
       "      <td>0.337901</td>\n",
       "      <td>0.259205</td>\n",
       "      <td>0.293987</td>\n",
       "    </tr>\n",
       "    <tr>\n",
       "      <th>min</th>\n",
       "      <td>0.001152</td>\n",
       "      <td>0.000005</td>\n",
       "      <td>0.000004</td>\n",
       "      <td>0.000011</td>\n",
       "    </tr>\n",
       "    <tr>\n",
       "      <th>25%</th>\n",
       "      <td>0.036284</td>\n",
       "      <td>0.003672</td>\n",
       "      <td>0.003408</td>\n",
       "      <td>0.009473</td>\n",
       "    </tr>\n",
       "    <tr>\n",
       "      <th>50%</th>\n",
       "      <td>0.570816</td>\n",
       "      <td>0.007497</td>\n",
       "      <td>0.015514</td>\n",
       "      <td>0.026754</td>\n",
       "    </tr>\n",
       "    <tr>\n",
       "      <th>75%</th>\n",
       "      <td>0.981665</td>\n",
       "      <td>0.179149</td>\n",
       "      <td>0.058974</td>\n",
       "      <td>0.131953</td>\n",
       "    </tr>\n",
       "    <tr>\n",
       "      <th>max</th>\n",
       "      <td>0.999981</td>\n",
       "      <td>0.974028</td>\n",
       "      <td>0.985410</td>\n",
       "      <td>0.996195</td>\n",
       "    </tr>\n",
       "  </tbody>\n",
       "</table style=\"display:inline\"></td></th><th style=\"text-align:center\"><td style=\"vertical-align:top\"><h2></h2><table style=\"display:inline\" border=\"1\" class=\"dataframe\">\n",
       "  <thead>\n",
       "    <tr style=\"text-align: right;\">\n",
       "      <th></th>\n",
       "      <th>0</th>\n",
       "      <th>1</th>\n",
       "      <th>2</th>\n",
       "      <th>3</th>\n",
       "    </tr>\n",
       "  </thead>\n",
       "  <tbody>\n",
       "    <tr>\n",
       "      <th>count</th>\n",
       "      <td>8626.000000</td>\n",
       "      <td>8626.000000</td>\n",
       "      <td>8626.000000</td>\n",
       "      <td>8626.000000</td>\n",
       "    </tr>\n",
       "    <tr>\n",
       "      <th>mean</th>\n",
       "      <td>0.238418</td>\n",
       "      <td>0.280157</td>\n",
       "      <td>0.296289</td>\n",
       "      <td>0.185136</td>\n",
       "    </tr>\n",
       "    <tr>\n",
       "      <th>std</th>\n",
       "      <td>0.333211</td>\n",
       "      <td>0.374586</td>\n",
       "      <td>0.358029</td>\n",
       "      <td>0.266306</td>\n",
       "    </tr>\n",
       "    <tr>\n",
       "      <th>min</th>\n",
       "      <td>0.000777</td>\n",
       "      <td>0.000259</td>\n",
       "      <td>0.001141</td>\n",
       "      <td>0.000915</td>\n",
       "    </tr>\n",
       "    <tr>\n",
       "      <th>25%</th>\n",
       "      <td>0.004433</td>\n",
       "      <td>0.010717</td>\n",
       "      <td>0.019264</td>\n",
       "      <td>0.012880</td>\n",
       "    </tr>\n",
       "    <tr>\n",
       "      <th>50%</th>\n",
       "      <td>0.049163</td>\n",
       "      <td>0.059029</td>\n",
       "      <td>0.130995</td>\n",
       "      <td>0.048327</td>\n",
       "    </tr>\n",
       "    <tr>\n",
       "      <th>75%</th>\n",
       "      <td>0.362374</td>\n",
       "      <td>0.459385</td>\n",
       "      <td>0.503282</td>\n",
       "      <td>0.183562</td>\n",
       "    </tr>\n",
       "    <tr>\n",
       "      <th>max</th>\n",
       "      <td>0.966501</td>\n",
       "      <td>0.994456</td>\n",
       "      <td>0.998050</td>\n",
       "      <td>0.994872</td>\n",
       "    </tr>\n",
       "  </tbody>\n",
       "</table style=\"display:inline\"></td></th>"
      ]
     },
     "metadata": {},
     "output_type": "display_data"
    },
    {
     "data": {
      "text/html": [
       "<th style=\"text-align:center\"><td style=\"vertical-align:top\"><h2></h2><table style=\"display:inline\" border=\"1\" class=\"dataframe\">\n",
       "  <thead>\n",
       "    <tr style=\"text-align: right;\">\n",
       "      <th></th>\n",
       "      <th>0</th>\n",
       "      <th>1</th>\n",
       "      <th>2</th>\n",
       "      <th>3</th>\n",
       "      <th>4</th>\n",
       "    </tr>\n",
       "  </thead>\n",
       "  <tbody>\n",
       "    <tr>\n",
       "      <th>count</th>\n",
       "      <td>3.470300e+04</td>\n",
       "      <td>34703.000000</td>\n",
       "      <td>34703.000000</td>\n",
       "      <td>3.470300e+04</td>\n",
       "      <td>34703.000000</td>\n",
       "    </tr>\n",
       "    <tr>\n",
       "      <th>mean</th>\n",
       "      <td>1.183927e-01</td>\n",
       "      <td>0.139225</td>\n",
       "      <td>0.482622</td>\n",
       "      <td>1.037436e-01</td>\n",
       "      <td>0.156016</td>\n",
       "    </tr>\n",
       "    <tr>\n",
       "      <th>std</th>\n",
       "      <td>2.868022e-01</td>\n",
       "      <td>0.276650</td>\n",
       "      <td>0.446681</td>\n",
       "      <td>2.583793e-01</td>\n",
       "      <td>0.296844</td>\n",
       "    </tr>\n",
       "    <tr>\n",
       "      <th>min</th>\n",
       "      <td>5.922663e-07</td>\n",
       "      <td>0.000002</td>\n",
       "      <td>0.000008</td>\n",
       "      <td>6.038499e-07</td>\n",
       "      <td>0.000002</td>\n",
       "    </tr>\n",
       "    <tr>\n",
       "      <th>25%</th>\n",
       "      <td>1.910158e-03</td>\n",
       "      <td>0.005730</td>\n",
       "      <td>0.009637</td>\n",
       "      <td>1.731909e-03</td>\n",
       "      <td>0.004307</td>\n",
       "    </tr>\n",
       "    <tr>\n",
       "      <th>50%</th>\n",
       "      <td>6.406971e-03</td>\n",
       "      <td>0.011828</td>\n",
       "      <td>0.321911</td>\n",
       "      <td>4.059745e-03</td>\n",
       "      <td>0.015117</td>\n",
       "    </tr>\n",
       "    <tr>\n",
       "      <th>75%</th>\n",
       "      <td>3.595329e-02</td>\n",
       "      <td>0.074511</td>\n",
       "      <td>0.980790</td>\n",
       "      <td>2.850653e-02</td>\n",
       "      <td>0.078819</td>\n",
       "    </tr>\n",
       "    <tr>\n",
       "      <th>max</th>\n",
       "      <td>9.859088e-01</td>\n",
       "      <td>0.988916</td>\n",
       "      <td>0.999995</td>\n",
       "      <td>9.812284e-01</td>\n",
       "      <td>0.999969</td>\n",
       "    </tr>\n",
       "  </tbody>\n",
       "</table style=\"display:inline\"></td></th><th style=\"text-align:center\"><td style=\"vertical-align:top\"><h2></h2><table style=\"display:inline\" border=\"1\" class=\"dataframe\">\n",
       "  <thead>\n",
       "    <tr style=\"text-align: right;\">\n",
       "      <th></th>\n",
       "      <th>0</th>\n",
       "      <th>1</th>\n",
       "      <th>2</th>\n",
       "      <th>3</th>\n",
       "      <th>4</th>\n",
       "    </tr>\n",
       "  </thead>\n",
       "  <tbody>\n",
       "    <tr>\n",
       "      <th>count</th>\n",
       "      <td>8626.000000</td>\n",
       "      <td>8626.000000</td>\n",
       "      <td>8626.000000</td>\n",
       "      <td>8626.000000</td>\n",
       "      <td>8626.000000</td>\n",
       "    </tr>\n",
       "    <tr>\n",
       "      <th>mean</th>\n",
       "      <td>0.147256</td>\n",
       "      <td>0.261362</td>\n",
       "      <td>0.126652</td>\n",
       "      <td>0.253041</td>\n",
       "      <td>0.211689</td>\n",
       "    </tr>\n",
       "    <tr>\n",
       "      <th>std</th>\n",
       "      <td>0.255156</td>\n",
       "      <td>0.351886</td>\n",
       "      <td>0.213512</td>\n",
       "      <td>0.374175</td>\n",
       "      <td>0.320180</td>\n",
       "    </tr>\n",
       "    <tr>\n",
       "      <th>min</th>\n",
       "      <td>0.000009</td>\n",
       "      <td>0.000388</td>\n",
       "      <td>0.000005</td>\n",
       "      <td>0.000002</td>\n",
       "      <td>0.000006</td>\n",
       "    </tr>\n",
       "    <tr>\n",
       "      <th>25%</th>\n",
       "      <td>0.005137</td>\n",
       "      <td>0.019006</td>\n",
       "      <td>0.010135</td>\n",
       "      <td>0.012553</td>\n",
       "      <td>0.003105</td>\n",
       "    </tr>\n",
       "    <tr>\n",
       "      <th>50%</th>\n",
       "      <td>0.059829</td>\n",
       "      <td>0.075059</td>\n",
       "      <td>0.034298</td>\n",
       "      <td>0.036990</td>\n",
       "      <td>0.032207</td>\n",
       "    </tr>\n",
       "    <tr>\n",
       "      <th>75%</th>\n",
       "      <td>0.096688</td>\n",
       "      <td>0.447860</td>\n",
       "      <td>0.113494</td>\n",
       "      <td>0.347196</td>\n",
       "      <td>0.307415</td>\n",
       "    </tr>\n",
       "    <tr>\n",
       "      <th>max</th>\n",
       "      <td>0.998097</td>\n",
       "      <td>0.999979</td>\n",
       "      <td>0.967958</td>\n",
       "      <td>0.996029</td>\n",
       "      <td>0.953044</td>\n",
       "    </tr>\n",
       "  </tbody>\n",
       "</table style=\"display:inline\"></td></th>"
      ]
     },
     "metadata": {},
     "output_type": "display_data"
    },
    {
     "data": {
      "text/html": [
       "<th style=\"text-align:center\"><td style=\"vertical-align:top\"><h2></h2><table style=\"display:inline\" border=\"1\" class=\"dataframe\">\n",
       "  <thead>\n",
       "    <tr style=\"text-align: right;\">\n",
       "      <th></th>\n",
       "      <th>0</th>\n",
       "      <th>1</th>\n",
       "      <th>2</th>\n",
       "      <th>3</th>\n",
       "      <th>4</th>\n",
       "      <th>5</th>\n",
       "    </tr>\n",
       "  </thead>\n",
       "  <tbody>\n",
       "    <tr>\n",
       "      <th>count</th>\n",
       "      <td>34703.000000</td>\n",
       "      <td>34703.000000</td>\n",
       "      <td>34703.000000</td>\n",
       "      <td>34703.000000</td>\n",
       "      <td>34703.000000</td>\n",
       "      <td>34703.000000</td>\n",
       "    </tr>\n",
       "    <tr>\n",
       "      <th>mean</th>\n",
       "      <td>0.112523</td>\n",
       "      <td>0.111183</td>\n",
       "      <td>0.125807</td>\n",
       "      <td>0.093384</td>\n",
       "      <td>0.126243</td>\n",
       "      <td>0.430860</td>\n",
       "    </tr>\n",
       "    <tr>\n",
       "      <th>std</th>\n",
       "      <td>0.285790</td>\n",
       "      <td>0.218027</td>\n",
       "      <td>0.283570</td>\n",
       "      <td>0.252512</td>\n",
       "      <td>0.272913</td>\n",
       "      <td>0.438940</td>\n",
       "    </tr>\n",
       "    <tr>\n",
       "      <th>min</th>\n",
       "      <td>0.000004</td>\n",
       "      <td>0.000044</td>\n",
       "      <td>0.000009</td>\n",
       "      <td>0.000004</td>\n",
       "      <td>0.000011</td>\n",
       "      <td>0.000123</td>\n",
       "    </tr>\n",
       "    <tr>\n",
       "      <th>25%</th>\n",
       "      <td>0.001329</td>\n",
       "      <td>0.008890</td>\n",
       "      <td>0.002514</td>\n",
       "      <td>0.001171</td>\n",
       "      <td>0.003374</td>\n",
       "      <td>0.007406</td>\n",
       "    </tr>\n",
       "    <tr>\n",
       "      <th>50%</th>\n",
       "      <td>0.003731</td>\n",
       "      <td>0.017206</td>\n",
       "      <td>0.011952</td>\n",
       "      <td>0.005167</td>\n",
       "      <td>0.008743</td>\n",
       "      <td>0.197688</td>\n",
       "    </tr>\n",
       "    <tr>\n",
       "      <th>75%</th>\n",
       "      <td>0.025631</td>\n",
       "      <td>0.097385</td>\n",
       "      <td>0.049690</td>\n",
       "      <td>0.017620</td>\n",
       "      <td>0.034093</td>\n",
       "      <td>0.972504</td>\n",
       "    </tr>\n",
       "    <tr>\n",
       "      <th>max</th>\n",
       "      <td>0.985540</td>\n",
       "      <td>0.998764</td>\n",
       "      <td>0.981457</td>\n",
       "      <td>0.978830</td>\n",
       "      <td>0.999443</td>\n",
       "      <td>0.999929</td>\n",
       "    </tr>\n",
       "  </tbody>\n",
       "</table style=\"display:inline\"></td></th><th style=\"text-align:center\"><td style=\"vertical-align:top\"><h2></h2><table style=\"display:inline\" border=\"1\" class=\"dataframe\">\n",
       "  <thead>\n",
       "    <tr style=\"text-align: right;\">\n",
       "      <th></th>\n",
       "      <th>0</th>\n",
       "      <th>1</th>\n",
       "      <th>2</th>\n",
       "      <th>3</th>\n",
       "      <th>4</th>\n",
       "      <th>5</th>\n",
       "    </tr>\n",
       "  </thead>\n",
       "  <tbody>\n",
       "    <tr>\n",
       "      <th>count</th>\n",
       "      <td>8626.000000</td>\n",
       "      <td>8626.000000</td>\n",
       "      <td>8626.000000</td>\n",
       "      <td>8626.000000</td>\n",
       "      <td>8626.000000</td>\n",
       "      <td>8626.000000</td>\n",
       "    </tr>\n",
       "    <tr>\n",
       "      <th>mean</th>\n",
       "      <td>0.084456</td>\n",
       "      <td>0.243230</td>\n",
       "      <td>0.131896</td>\n",
       "      <td>0.243066</td>\n",
       "      <td>0.117020</td>\n",
       "      <td>0.180332</td>\n",
       "    </tr>\n",
       "    <tr>\n",
       "      <th>std</th>\n",
       "      <td>0.210113</td>\n",
       "      <td>0.357175</td>\n",
       "      <td>0.251480</td>\n",
       "      <td>0.375950</td>\n",
       "      <td>0.218029</td>\n",
       "      <td>0.313306</td>\n",
       "    </tr>\n",
       "    <tr>\n",
       "      <th>min</th>\n",
       "      <td>0.000005</td>\n",
       "      <td>0.000038</td>\n",
       "      <td>0.000651</td>\n",
       "      <td>0.000014</td>\n",
       "      <td>0.000025</td>\n",
       "      <td>0.000010</td>\n",
       "    </tr>\n",
       "    <tr>\n",
       "      <th>25%</th>\n",
       "      <td>0.002320</td>\n",
       "      <td>0.007791</td>\n",
       "      <td>0.003708</td>\n",
       "      <td>0.007907</td>\n",
       "      <td>0.008826</td>\n",
       "      <td>0.004207</td>\n",
       "    </tr>\n",
       "    <tr>\n",
       "      <th>50%</th>\n",
       "      <td>0.010643</td>\n",
       "      <td>0.055813</td>\n",
       "      <td>0.027701</td>\n",
       "      <td>0.021597</td>\n",
       "      <td>0.018317</td>\n",
       "      <td>0.030723</td>\n",
       "    </tr>\n",
       "    <tr>\n",
       "      <th>75%</th>\n",
       "      <td>0.036835</td>\n",
       "      <td>0.361114</td>\n",
       "      <td>0.085059</td>\n",
       "      <td>0.305068</td>\n",
       "      <td>0.097025</td>\n",
       "      <td>0.189446</td>\n",
       "    </tr>\n",
       "    <tr>\n",
       "      <th>max</th>\n",
       "      <td>0.989732</td>\n",
       "      <td>0.992218</td>\n",
       "      <td>0.999908</td>\n",
       "      <td>0.995575</td>\n",
       "      <td>0.959848</td>\n",
       "      <td>0.965732</td>\n",
       "    </tr>\n",
       "  </tbody>\n",
       "</table style=\"display:inline\"></td></th>"
      ]
     },
     "metadata": {},
     "output_type": "display_data"
    },
    {
     "data": {
      "text/html": [
       "<th style=\"text-align:center\"><td style=\"vertical-align:top\"><h2></h2><table style=\"display:inline\" border=\"1\" class=\"dataframe\">\n",
       "  <thead>\n",
       "    <tr style=\"text-align: right;\">\n",
       "      <th></th>\n",
       "      <th>0</th>\n",
       "      <th>1</th>\n",
       "      <th>2</th>\n",
       "      <th>3</th>\n",
       "      <th>4</th>\n",
       "      <th>5</th>\n",
       "      <th>6</th>\n",
       "    </tr>\n",
       "  </thead>\n",
       "  <tbody>\n",
       "    <tr>\n",
       "      <th>count</th>\n",
       "      <td>34703.000000</td>\n",
       "      <td>34703.000000</td>\n",
       "      <td>3.470300e+04</td>\n",
       "      <td>3.470300e+04</td>\n",
       "      <td>34703.000000</td>\n",
       "      <td>3.470300e+04</td>\n",
       "      <td>3.470300e+04</td>\n",
       "    </tr>\n",
       "    <tr>\n",
       "      <th>mean</th>\n",
       "      <td>0.096834</td>\n",
       "      <td>0.088293</td>\n",
       "      <td>1.189097e-01</td>\n",
       "      <td>9.440133e-02</td>\n",
       "      <td>0.407090</td>\n",
       "      <td>1.044986e-01</td>\n",
       "      <td>8.997265e-02</td>\n",
       "    </tr>\n",
       "    <tr>\n",
       "      <th>std</th>\n",
       "      <td>0.254283</td>\n",
       "      <td>0.214762</td>\n",
       "      <td>2.822043e-01</td>\n",
       "      <td>2.157793e-01</td>\n",
       "      <td>0.441612</td>\n",
       "      <td>2.827292e-01</td>\n",
       "      <td>2.513309e-01</td>\n",
       "    </tr>\n",
       "    <tr>\n",
       "      <th>min</th>\n",
       "      <td>0.000002</td>\n",
       "      <td>0.000019</td>\n",
       "      <td>3.069352e-07</td>\n",
       "      <td>7.950328e-07</td>\n",
       "      <td>0.000001</td>\n",
       "      <td>3.457619e-07</td>\n",
       "      <td>1.468352e-07</td>\n",
       "    </tr>\n",
       "    <tr>\n",
       "      <th>25%</th>\n",
       "      <td>0.002407</td>\n",
       "      <td>0.005364</td>\n",
       "      <td>2.039603e-03</td>\n",
       "      <td>5.950727e-03</td>\n",
       "      <td>0.006915</td>\n",
       "      <td>1.022414e-03</td>\n",
       "      <td>9.197423e-04</td>\n",
       "    </tr>\n",
       "    <tr>\n",
       "      <th>50%</th>\n",
       "      <td>0.005549</td>\n",
       "      <td>0.009215</td>\n",
       "      <td>6.226753e-03</td>\n",
       "      <td>1.242374e-02</td>\n",
       "      <td>0.074570</td>\n",
       "      <td>3.070914e-03</td>\n",
       "      <td>2.617358e-03</td>\n",
       "    </tr>\n",
       "    <tr>\n",
       "      <th>75%</th>\n",
       "      <td>0.032448</td>\n",
       "      <td>0.044928</td>\n",
       "      <td>4.165676e-02</td>\n",
       "      <td>4.844763e-02</td>\n",
       "      <td>0.971755</td>\n",
       "      <td>1.480252e-02</td>\n",
       "      <td>1.316931e-02</td>\n",
       "    </tr>\n",
       "    <tr>\n",
       "      <th>max</th>\n",
       "      <td>0.972290</td>\n",
       "      <td>0.999995</td>\n",
       "      <td>9.750362e-01</td>\n",
       "      <td>9.867082e-01</td>\n",
       "      <td>0.999944</td>\n",
       "      <td>9.838318e-01</td>\n",
       "      <td>9.774219e-01</td>\n",
       "    </tr>\n",
       "  </tbody>\n",
       "</table style=\"display:inline\"></td></th><th style=\"text-align:center\"><td style=\"vertical-align:top\"><h2></h2><table style=\"display:inline\" border=\"1\" class=\"dataframe\">\n",
       "  <thead>\n",
       "    <tr style=\"text-align: right;\">\n",
       "      <th></th>\n",
       "      <th>0</th>\n",
       "      <th>1</th>\n",
       "      <th>2</th>\n",
       "      <th>3</th>\n",
       "      <th>4</th>\n",
       "      <th>5</th>\n",
       "      <th>6</th>\n",
       "    </tr>\n",
       "  </thead>\n",
       "  <tbody>\n",
       "    <tr>\n",
       "      <th>count</th>\n",
       "      <td>8626.000000</td>\n",
       "      <td>8626.000000</td>\n",
       "      <td>8626.000000</td>\n",
       "      <td>8626.000000</td>\n",
       "      <td>8626.000000</td>\n",
       "      <td>8626.000000</td>\n",
       "      <td>8626.000000</td>\n",
       "    </tr>\n",
       "    <tr>\n",
       "      <th>mean</th>\n",
       "      <td>0.233483</td>\n",
       "      <td>0.173205</td>\n",
       "      <td>0.114044</td>\n",
       "      <td>0.066646</td>\n",
       "      <td>0.220423</td>\n",
       "      <td>0.078270</td>\n",
       "      <td>0.113928</td>\n",
       "    </tr>\n",
       "    <tr>\n",
       "      <th>std</th>\n",
       "      <td>0.357363</td>\n",
       "      <td>0.316470</td>\n",
       "      <td>0.244515</td>\n",
       "      <td>0.210394</td>\n",
       "      <td>0.377665</td>\n",
       "      <td>0.209268</td>\n",
       "      <td>0.226576</td>\n",
       "    </tr>\n",
       "    <tr>\n",
       "      <th>min</th>\n",
       "      <td>0.000018</td>\n",
       "      <td>0.000010</td>\n",
       "      <td>0.000026</td>\n",
       "      <td>0.000005</td>\n",
       "      <td>0.000013</td>\n",
       "      <td>0.000005</td>\n",
       "      <td>0.000035</td>\n",
       "    </tr>\n",
       "    <tr>\n",
       "      <th>25%</th>\n",
       "      <td>0.006092</td>\n",
       "      <td>0.002879</td>\n",
       "      <td>0.002279</td>\n",
       "      <td>0.001334</td>\n",
       "      <td>0.005769</td>\n",
       "      <td>0.001354</td>\n",
       "      <td>0.002999</td>\n",
       "    </tr>\n",
       "    <tr>\n",
       "      <th>50%</th>\n",
       "      <td>0.033491</td>\n",
       "      <td>0.018823</td>\n",
       "      <td>0.025128</td>\n",
       "      <td>0.004872</td>\n",
       "      <td>0.021603</td>\n",
       "      <td>0.009368</td>\n",
       "      <td>0.018863</td>\n",
       "    </tr>\n",
       "    <tr>\n",
       "      <th>75%</th>\n",
       "      <td>0.332502</td>\n",
       "      <td>0.121409</td>\n",
       "      <td>0.068002</td>\n",
       "      <td>0.020945</td>\n",
       "      <td>0.141648</td>\n",
       "      <td>0.022734</td>\n",
       "      <td>0.057164</td>\n",
       "    </tr>\n",
       "    <tr>\n",
       "      <th>max</th>\n",
       "      <td>0.992911</td>\n",
       "      <td>0.977727</td>\n",
       "      <td>0.999890</td>\n",
       "      <td>0.996947</td>\n",
       "      <td>0.999756</td>\n",
       "      <td>0.995038</td>\n",
       "      <td>0.998297</td>\n",
       "    </tr>\n",
       "  </tbody>\n",
       "</table style=\"display:inline\"></td></th>"
      ]
     },
     "metadata": {},
     "output_type": "display_data"
    },
    {
     "data": {
      "text/html": [
       "<th style=\"text-align:center\"><td style=\"vertical-align:top\"><h2></h2><table style=\"display:inline\" border=\"1\" class=\"dataframe\">\n",
       "  <thead>\n",
       "    <tr style=\"text-align: right;\">\n",
       "      <th></th>\n",
       "      <th>0</th>\n",
       "      <th>1</th>\n",
       "      <th>2</th>\n",
       "      <th>3</th>\n",
       "      <th>4</th>\n",
       "      <th>5</th>\n",
       "      <th>6</th>\n",
       "      <th>7</th>\n",
       "    </tr>\n",
       "  </thead>\n",
       "  <tbody>\n",
       "    <tr>\n",
       "      <th>count</th>\n",
       "      <td>3.470300e+04</td>\n",
       "      <td>3.470300e+04</td>\n",
       "      <td>3.470300e+04</td>\n",
       "      <td>3.470300e+04</td>\n",
       "      <td>3.470300e+04</td>\n",
       "      <td>34703.000000</td>\n",
       "      <td>3.470300e+04</td>\n",
       "      <td>3.470300e+04</td>\n",
       "    </tr>\n",
       "    <tr>\n",
       "      <th>mean</th>\n",
       "      <td>9.408710e-02</td>\n",
       "      <td>1.018852e-01</td>\n",
       "      <td>9.224890e-02</td>\n",
       "      <td>8.549733e-02</td>\n",
       "      <td>8.201597e-02</td>\n",
       "      <td>0.402113</td>\n",
       "      <td>1.139639e-01</td>\n",
       "      <td>2.818829e-02</td>\n",
       "    </tr>\n",
       "    <tr>\n",
       "      <th>std</th>\n",
       "      <td>2.544333e-01</td>\n",
       "      <td>2.822700e-01</td>\n",
       "      <td>2.150506e-01</td>\n",
       "      <td>2.145261e-01</td>\n",
       "      <td>2.467406e-01</td>\n",
       "      <td>0.441790</td>\n",
       "      <td>2.822053e-01</td>\n",
       "      <td>1.321995e-01</td>\n",
       "    </tr>\n",
       "    <tr>\n",
       "      <th>min</th>\n",
       "      <td>1.261096e-07</td>\n",
       "      <td>4.997918e-08</td>\n",
       "      <td>5.676988e-07</td>\n",
       "      <td>4.633966e-07</td>\n",
       "      <td>5.117373e-08</td>\n",
       "      <td>0.000057</td>\n",
       "      <td>1.285345e-07</td>\n",
       "      <td>3.695277e-08</td>\n",
       "    </tr>\n",
       "    <tr>\n",
       "      <th>25%</th>\n",
       "      <td>2.174484e-03</td>\n",
       "      <td>9.418851e-04</td>\n",
       "      <td>5.647197e-03</td>\n",
       "      <td>4.124552e-03</td>\n",
       "      <td>8.203566e-04</td>\n",
       "      <td>0.005124</td>\n",
       "      <td>1.855435e-03</td>\n",
       "      <td>7.387577e-04</td>\n",
       "    </tr>\n",
       "    <tr>\n",
       "      <th>50%</th>\n",
       "      <td>4.950355e-03</td>\n",
       "      <td>2.476106e-03</td>\n",
       "      <td>9.731704e-03</td>\n",
       "      <td>8.683758e-03</td>\n",
       "      <td>2.524204e-03</td>\n",
       "      <td>0.052428</td>\n",
       "      <td>5.492147e-03</td>\n",
       "      <td>2.738083e-03</td>\n",
       "    </tr>\n",
       "    <tr>\n",
       "      <th>75%</th>\n",
       "      <td>2.143654e-02</td>\n",
       "      <td>1.321469e-02</td>\n",
       "      <td>4.447663e-02</td>\n",
       "      <td>3.746128e-02</td>\n",
       "      <td>1.070064e-02</td>\n",
       "      <td>0.971614</td>\n",
       "      <td>3.345410e-02</td>\n",
       "      <td>7.716072e-03</td>\n",
       "    </tr>\n",
       "    <tr>\n",
       "      <th>max</th>\n",
       "      <td>9.730011e-01</td>\n",
       "      <td>9.838091e-01</td>\n",
       "      <td>9.969129e-01</td>\n",
       "      <td>9.998030e-01</td>\n",
       "      <td>9.696652e-01</td>\n",
       "      <td>0.999999</td>\n",
       "      <td>9.818965e-01</td>\n",
       "      <td>9.794463e-01</td>\n",
       "    </tr>\n",
       "  </tbody>\n",
       "</table style=\"display:inline\"></td></th><th style=\"text-align:center\"><td style=\"vertical-align:top\"><h2></h2><table style=\"display:inline\" border=\"1\" class=\"dataframe\">\n",
       "  <thead>\n",
       "    <tr style=\"text-align: right;\">\n",
       "      <th></th>\n",
       "      <th>0</th>\n",
       "      <th>1</th>\n",
       "      <th>2</th>\n",
       "      <th>3</th>\n",
       "      <th>4</th>\n",
       "      <th>5</th>\n",
       "      <th>6</th>\n",
       "      <th>7</th>\n",
       "    </tr>\n",
       "  </thead>\n",
       "  <tbody>\n",
       "    <tr>\n",
       "      <th>count</th>\n",
       "      <td>8626.000000</td>\n",
       "      <td>8626.000000</td>\n",
       "      <td>8626.000000</td>\n",
       "      <td>8626.000000</td>\n",
       "      <td>8626.000000</td>\n",
       "      <td>8626.000000</td>\n",
       "      <td>8626.000000</td>\n",
       "      <td>8626.000000</td>\n",
       "    </tr>\n",
       "    <tr>\n",
       "      <th>mean</th>\n",
       "      <td>0.080195</td>\n",
       "      <td>0.153793</td>\n",
       "      <td>0.064216</td>\n",
       "      <td>0.208793</td>\n",
       "      <td>0.107760</td>\n",
       "      <td>0.216980</td>\n",
       "      <td>0.063492</td>\n",
       "      <td>0.104770</td>\n",
       "    </tr>\n",
       "    <tr>\n",
       "      <th>std</th>\n",
       "      <td>0.202983</td>\n",
       "      <td>0.307768</td>\n",
       "      <td>0.209731</td>\n",
       "      <td>0.346163</td>\n",
       "      <td>0.226072</td>\n",
       "      <td>0.378811</td>\n",
       "      <td>0.196746</td>\n",
       "      <td>0.241425</td>\n",
       "    </tr>\n",
       "    <tr>\n",
       "      <th>min</th>\n",
       "      <td>0.000013</td>\n",
       "      <td>0.000021</td>\n",
       "      <td>0.000009</td>\n",
       "      <td>0.000019</td>\n",
       "      <td>0.000011</td>\n",
       "      <td>0.000008</td>\n",
       "      <td>0.000008</td>\n",
       "      <td>0.000011</td>\n",
       "    </tr>\n",
       "    <tr>\n",
       "      <th>25%</th>\n",
       "      <td>0.003327</td>\n",
       "      <td>0.003033</td>\n",
       "      <td>0.001399</td>\n",
       "      <td>0.003695</td>\n",
       "      <td>0.003208</td>\n",
       "      <td>0.003724</td>\n",
       "      <td>0.001454</td>\n",
       "      <td>0.003057</td>\n",
       "    </tr>\n",
       "    <tr>\n",
       "      <th>50%</th>\n",
       "      <td>0.021549</td>\n",
       "      <td>0.011295</td>\n",
       "      <td>0.003822</td>\n",
       "      <td>0.022996</td>\n",
       "      <td>0.010922</td>\n",
       "      <td>0.011136</td>\n",
       "      <td>0.006172</td>\n",
       "      <td>0.012407</td>\n",
       "    </tr>\n",
       "    <tr>\n",
       "      <th>75%</th>\n",
       "      <td>0.042979</td>\n",
       "      <td>0.089132</td>\n",
       "      <td>0.016292</td>\n",
       "      <td>0.111403</td>\n",
       "      <td>0.038849</td>\n",
       "      <td>0.146757</td>\n",
       "      <td>0.019145</td>\n",
       "      <td>0.044123</td>\n",
       "    </tr>\n",
       "    <tr>\n",
       "      <th>max</th>\n",
       "      <td>0.998112</td>\n",
       "      <td>0.958926</td>\n",
       "      <td>0.996558</td>\n",
       "      <td>0.950977</td>\n",
       "      <td>0.997915</td>\n",
       "      <td>0.999721</td>\n",
       "      <td>0.999798</td>\n",
       "      <td>0.999381</td>\n",
       "    </tr>\n",
       "  </tbody>\n",
       "</table style=\"display:inline\"></td></th>"
      ]
     },
     "metadata": {},
     "output_type": "display_data"
    },
    {
     "data": {
      "text/html": [
       "<th style=\"text-align:center\"><td style=\"vertical-align:top\"><h2></h2><table style=\"display:inline\" border=\"1\" class=\"dataframe\">\n",
       "  <thead>\n",
       "    <tr style=\"text-align: right;\">\n",
       "      <th></th>\n",
       "      <th>0</th>\n",
       "      <th>1</th>\n",
       "      <th>2</th>\n",
       "      <th>3</th>\n",
       "      <th>4</th>\n",
       "      <th>5</th>\n",
       "      <th>6</th>\n",
       "      <th>7</th>\n",
       "      <th>8</th>\n",
       "    </tr>\n",
       "  </thead>\n",
       "  <tbody>\n",
       "    <tr>\n",
       "      <th>count</th>\n",
       "      <td>3.470300e+04</td>\n",
       "      <td>3.470300e+04</td>\n",
       "      <td>34703.000000</td>\n",
       "      <td>34703.000000</td>\n",
       "      <td>3.470300e+04</td>\n",
       "      <td>3.470300e+04</td>\n",
       "      <td>34703.000000</td>\n",
       "      <td>3.470300e+04</td>\n",
       "      <td>34703.000000</td>\n",
       "    </tr>\n",
       "    <tr>\n",
       "      <th>mean</th>\n",
       "      <td>1.098521e-01</td>\n",
       "      <td>1.002132e-01</td>\n",
       "      <td>0.078136</td>\n",
       "      <td>0.330145</td>\n",
       "      <td>8.921901e-02</td>\n",
       "      <td>8.044407e-02</td>\n",
       "      <td>0.069953</td>\n",
       "      <td>2.708383e-02</td>\n",
       "      <td>0.114954</td>\n",
       "    </tr>\n",
       "    <tr>\n",
       "      <th>std</th>\n",
       "      <td>2.801360e-01</td>\n",
       "      <td>2.813065e-01</td>\n",
       "      <td>0.207776</td>\n",
       "      <td>0.405911</td>\n",
       "      <td>2.509947e-01</td>\n",
       "      <td>2.455864e-01</td>\n",
       "      <td>0.204336</td>\n",
       "      <td>1.311848e-01</td>\n",
       "      <td>0.209825</td>\n",
       "    </tr>\n",
       "    <tr>\n",
       "      <th>min</th>\n",
       "      <td>4.711022e-07</td>\n",
       "      <td>1.814252e-07</td>\n",
       "      <td>0.000002</td>\n",
       "      <td>0.000507</td>\n",
       "      <td>4.499400e-07</td>\n",
       "      <td>1.887574e-07</td>\n",
       "      <td>0.000001</td>\n",
       "      <td>1.348706e-07</td>\n",
       "      <td>0.000018</td>\n",
       "    </tr>\n",
       "    <tr>\n",
       "      <th>25%</th>\n",
       "      <td>1.216498e-03</td>\n",
       "      <td>5.930002e-04</td>\n",
       "      <td>0.003720</td>\n",
       "      <td>0.005179</td>\n",
       "      <td>1.323511e-03</td>\n",
       "      <td>6.533982e-04</td>\n",
       "      <td>0.003184</td>\n",
       "      <td>5.236061e-04</td>\n",
       "      <td>0.005406</td>\n",
       "    </tr>\n",
       "    <tr>\n",
       "      <th>50%</th>\n",
       "      <td>3.687616e-03</td>\n",
       "      <td>1.989865e-03</td>\n",
       "      <td>0.008205</td>\n",
       "      <td>0.044768</td>\n",
       "      <td>4.014175e-03</td>\n",
       "      <td>2.013516e-03</td>\n",
       "      <td>0.006249</td>\n",
       "      <td>1.716447e-03</td>\n",
       "      <td>0.022356</td>\n",
       "    </tr>\n",
       "    <tr>\n",
       "      <th>75%</th>\n",
       "      <td>2.656155e-02</td>\n",
       "      <td>7.919975e-03</td>\n",
       "      <td>0.027053</td>\n",
       "      <td>0.836875</td>\n",
       "      <td>1.825825e-02</td>\n",
       "      <td>1.028876e-02</td>\n",
       "      <td>0.028960</td>\n",
       "      <td>6.045984e-03</td>\n",
       "      <td>0.097152</td>\n",
       "    </tr>\n",
       "    <tr>\n",
       "      <th>max</th>\n",
       "      <td>9.766917e-01</td>\n",
       "      <td>9.827289e-01</td>\n",
       "      <td>0.997726</td>\n",
       "      <td>0.999977</td>\n",
       "      <td>9.628985e-01</td>\n",
       "      <td>9.677453e-01</td>\n",
       "      <td>0.993041</td>\n",
       "      <td>9.800513e-01</td>\n",
       "      <td>0.985265</td>\n",
       "    </tr>\n",
       "  </tbody>\n",
       "</table style=\"display:inline\"></td></th><th style=\"text-align:center\"><td style=\"vertical-align:top\"><h2></h2><table style=\"display:inline\" border=\"1\" class=\"dataframe\">\n",
       "  <thead>\n",
       "    <tr style=\"text-align: right;\">\n",
       "      <th></th>\n",
       "      <th>0</th>\n",
       "      <th>1</th>\n",
       "      <th>2</th>\n",
       "      <th>3</th>\n",
       "      <th>4</th>\n",
       "      <th>5</th>\n",
       "      <th>6</th>\n",
       "      <th>7</th>\n",
       "      <th>8</th>\n",
       "    </tr>\n",
       "  </thead>\n",
       "  <tbody>\n",
       "    <tr>\n",
       "      <th>count</th>\n",
       "      <td>8626.000000</td>\n",
       "      <td>8626.000000</td>\n",
       "      <td>8626.000000</td>\n",
       "      <td>8626.000000</td>\n",
       "      <td>8626.000000</td>\n",
       "      <td>8626.000000</td>\n",
       "      <td>8626.000000</td>\n",
       "      <td>8626.000000</td>\n",
       "      <td>8626.000000</td>\n",
       "    </tr>\n",
       "    <tr>\n",
       "      <th>mean</th>\n",
       "      <td>0.077716</td>\n",
       "      <td>0.060755</td>\n",
       "      <td>0.067440</td>\n",
       "      <td>0.082685</td>\n",
       "      <td>0.142998</td>\n",
       "      <td>0.123400</td>\n",
       "      <td>0.153046</td>\n",
       "      <td>0.211245</td>\n",
       "      <td>0.080714</td>\n",
       "    </tr>\n",
       "    <tr>\n",
       "      <th>std</th>\n",
       "      <td>0.207204</td>\n",
       "      <td>0.208270</td>\n",
       "      <td>0.201668</td>\n",
       "      <td>0.218240</td>\n",
       "      <td>0.284818</td>\n",
       "      <td>0.247609</td>\n",
       "      <td>0.309441</td>\n",
       "      <td>0.381417</td>\n",
       "      <td>0.228071</td>\n",
       "    </tr>\n",
       "    <tr>\n",
       "      <th>min</th>\n",
       "      <td>0.000035</td>\n",
       "      <td>0.000008</td>\n",
       "      <td>0.000005</td>\n",
       "      <td>0.000030</td>\n",
       "      <td>0.000011</td>\n",
       "      <td>0.000010</td>\n",
       "      <td>0.000011</td>\n",
       "      <td>0.000013</td>\n",
       "      <td>0.000015</td>\n",
       "    </tr>\n",
       "    <tr>\n",
       "      <th>25%</th>\n",
       "      <td>0.001357</td>\n",
       "      <td>0.000291</td>\n",
       "      <td>0.000164</td>\n",
       "      <td>0.000798</td>\n",
       "      <td>0.001038</td>\n",
       "      <td>0.001098</td>\n",
       "      <td>0.000393</td>\n",
       "      <td>0.002577</td>\n",
       "      <td>0.000765</td>\n",
       "    </tr>\n",
       "    <tr>\n",
       "      <th>50%</th>\n",
       "      <td>0.009574</td>\n",
       "      <td>0.002328</td>\n",
       "      <td>0.003414</td>\n",
       "      <td>0.005223</td>\n",
       "      <td>0.013977</td>\n",
       "      <td>0.011276</td>\n",
       "      <td>0.005509</td>\n",
       "      <td>0.006773</td>\n",
       "      <td>0.004159</td>\n",
       "    </tr>\n",
       "    <tr>\n",
       "      <th>75%</th>\n",
       "      <td>0.046012</td>\n",
       "      <td>0.015416</td>\n",
       "      <td>0.011052</td>\n",
       "      <td>0.034405</td>\n",
       "      <td>0.119555</td>\n",
       "      <td>0.061933</td>\n",
       "      <td>0.080737</td>\n",
       "      <td>0.155305</td>\n",
       "      <td>0.033942</td>\n",
       "    </tr>\n",
       "    <tr>\n",
       "      <th>max</th>\n",
       "      <td>0.996914</td>\n",
       "      <td>0.993708</td>\n",
       "      <td>0.998633</td>\n",
       "      <td>0.998493</td>\n",
       "      <td>0.998244</td>\n",
       "      <td>0.999384</td>\n",
       "      <td>0.954003</td>\n",
       "      <td>0.999829</td>\n",
       "      <td>0.999168</td>\n",
       "    </tr>\n",
       "  </tbody>\n",
       "</table style=\"display:inline\"></td></th>"
      ]
     },
     "metadata": {},
     "output_type": "display_data"
    },
    {
     "data": {
      "text/html": [
       "<th style=\"text-align:center\"><td style=\"vertical-align:top\"><h2></h2><table style=\"display:inline\" border=\"1\" class=\"dataframe\">\n",
       "  <thead>\n",
       "    <tr style=\"text-align: right;\">\n",
       "      <th></th>\n",
       "      <th>0</th>\n",
       "      <th>1</th>\n",
       "      <th>2</th>\n",
       "      <th>3</th>\n",
       "      <th>4</th>\n",
       "      <th>5</th>\n",
       "      <th>6</th>\n",
       "      <th>7</th>\n",
       "      <th>8</th>\n",
       "      <th>9</th>\n",
       "    </tr>\n",
       "  </thead>\n",
       "  <tbody>\n",
       "    <tr>\n",
       "      <th>count</th>\n",
       "      <td>34703.000000</td>\n",
       "      <td>3.470300e+04</td>\n",
       "      <td>3.470300e+04</td>\n",
       "      <td>3.470300e+04</td>\n",
       "      <td>3.470300e+04</td>\n",
       "      <td>3.470300e+04</td>\n",
       "      <td>3.470300e+04</td>\n",
       "      <td>34703.000000</td>\n",
       "      <td>34703.000000</td>\n",
       "      <td>3.470300e+04</td>\n",
       "    </tr>\n",
       "    <tr>\n",
       "      <th>mean</th>\n",
       "      <td>0.325319</td>\n",
       "      <td>1.083421e-01</td>\n",
       "      <td>1.782789e-02</td>\n",
       "      <td>2.533145e-02</td>\n",
       "      <td>6.814065e-02</td>\n",
       "      <td>7.915114e-02</td>\n",
       "      <td>9.748266e-02</td>\n",
       "      <td>0.116202</td>\n",
       "      <td>0.076440</td>\n",
       "      <td>8.576365e-02</td>\n",
       "    </tr>\n",
       "    <tr>\n",
       "      <th>std</th>\n",
       "      <td>0.403800</td>\n",
       "      <td>2.790578e-01</td>\n",
       "      <td>7.722009e-02</td>\n",
       "      <td>1.279737e-01</td>\n",
       "      <td>2.030369e-01</td>\n",
       "      <td>2.440628e-01</td>\n",
       "      <td>2.780830e-01</td>\n",
       "      <td>0.211627</td>\n",
       "      <td>0.206624</td>\n",
       "      <td>2.468623e-01</td>\n",
       "    </tr>\n",
       "    <tr>\n",
       "      <th>min</th>\n",
       "      <td>0.000541</td>\n",
       "      <td>3.353785e-07</td>\n",
       "      <td>2.154610e-07</td>\n",
       "      <td>9.505859e-08</td>\n",
       "      <td>9.858669e-07</td>\n",
       "      <td>1.342507e-07</td>\n",
       "      <td>1.283731e-07</td>\n",
       "      <td>0.000014</td>\n",
       "      <td>0.000001</td>\n",
       "      <td>3.209837e-07</td>\n",
       "    </tr>\n",
       "    <tr>\n",
       "      <th>25%</th>\n",
       "      <td>0.005052</td>\n",
       "      <td>1.152671e-03</td>\n",
       "      <td>1.159205e-03</td>\n",
       "      <td>4.857856e-04</td>\n",
       "      <td>2.884256e-03</td>\n",
       "      <td>5.905993e-04</td>\n",
       "      <td>5.622050e-04</td>\n",
       "      <td>0.005273</td>\n",
       "      <td>0.003595</td>\n",
       "      <td>1.234593e-03</td>\n",
       "    </tr>\n",
       "    <tr>\n",
       "      <th>50%</th>\n",
       "      <td>0.033890</td>\n",
       "      <td>3.609573e-03</td>\n",
       "      <td>4.039288e-03</td>\n",
       "      <td>1.720549e-03</td>\n",
       "      <td>6.188886e-03</td>\n",
       "      <td>2.060085e-03</td>\n",
       "      <td>1.868580e-03</td>\n",
       "      <td>0.022706</td>\n",
       "      <td>0.008002</td>\n",
       "      <td>3.938822e-03</td>\n",
       "    </tr>\n",
       "    <tr>\n",
       "      <th>75%</th>\n",
       "      <td>0.822685</td>\n",
       "      <td>2.460271e-02</td>\n",
       "      <td>1.175294e-02</td>\n",
       "      <td>5.952704e-03</td>\n",
       "      <td>2.790533e-02</td>\n",
       "      <td>9.600191e-03</td>\n",
       "      <td>7.565138e-03</td>\n",
       "      <td>0.096794</td>\n",
       "      <td>0.026687</td>\n",
       "      <td>1.797064e-02</td>\n",
       "    </tr>\n",
       "    <tr>\n",
       "      <th>max</th>\n",
       "      <td>0.999982</td>\n",
       "      <td>9.753860e-01</td>\n",
       "      <td>9.816448e-01</td>\n",
       "      <td>9.856408e-01</td>\n",
       "      <td>9.958239e-01</td>\n",
       "      <td>9.654949e-01</td>\n",
       "      <td>9.806866e-01</td>\n",
       "      <td>0.996480</td>\n",
       "      <td>0.997432</td>\n",
       "      <td>9.616165e-01</td>\n",
       "    </tr>\n",
       "  </tbody>\n",
       "</table style=\"display:inline\"></td></th><th style=\"text-align:center\"><td style=\"vertical-align:top\"><h2></h2><table style=\"display:inline\" border=\"1\" class=\"dataframe\">\n",
       "  <thead>\n",
       "    <tr style=\"text-align: right;\">\n",
       "      <th></th>\n",
       "      <th>0</th>\n",
       "      <th>1</th>\n",
       "      <th>2</th>\n",
       "      <th>3</th>\n",
       "      <th>4</th>\n",
       "      <th>5</th>\n",
       "      <th>6</th>\n",
       "      <th>7</th>\n",
       "      <th>8</th>\n",
       "      <th>9</th>\n",
       "    </tr>\n",
       "  </thead>\n",
       "  <tbody>\n",
       "    <tr>\n",
       "      <th>count</th>\n",
       "      <td>8626.000000</td>\n",
       "      <td>8626.000000</td>\n",
       "      <td>8626.000000</td>\n",
       "      <td>8626.000000</td>\n",
       "      <td>8626.000000</td>\n",
       "      <td>8.626000e+03</td>\n",
       "      <td>8626.000000</td>\n",
       "      <td>8.626000e+03</td>\n",
       "      <td>8626.000000</td>\n",
       "      <td>8626.000000</td>\n",
       "    </tr>\n",
       "    <tr>\n",
       "      <th>mean</th>\n",
       "      <td>0.079396</td>\n",
       "      <td>0.209371</td>\n",
       "      <td>0.073920</td>\n",
       "      <td>0.119749</td>\n",
       "      <td>0.064722</td>\n",
       "      <td>5.771121e-02</td>\n",
       "      <td>0.076187</td>\n",
       "      <td>5.917855e-02</td>\n",
       "      <td>0.119537</td>\n",
       "      <td>0.140228</td>\n",
       "    </tr>\n",
       "    <tr>\n",
       "      <th>std</th>\n",
       "      <td>0.217997</td>\n",
       "      <td>0.381941</td>\n",
       "      <td>0.206833</td>\n",
       "      <td>0.277191</td>\n",
       "      <td>0.199697</td>\n",
       "      <td>1.935418e-01</td>\n",
       "      <td>0.226583</td>\n",
       "      <td>2.077426e-01</td>\n",
       "      <td>0.280676</td>\n",
       "      <td>0.303200</td>\n",
       "    </tr>\n",
       "    <tr>\n",
       "      <th>min</th>\n",
       "      <td>0.000004</td>\n",
       "      <td>0.000002</td>\n",
       "      <td>0.000003</td>\n",
       "      <td>0.000004</td>\n",
       "      <td>0.000002</td>\n",
       "      <td>7.078781e-07</td>\n",
       "      <td>0.000005</td>\n",
       "      <td>6.040290e-07</td>\n",
       "      <td>0.000009</td>\n",
       "      <td>0.000001</td>\n",
       "    </tr>\n",
       "    <tr>\n",
       "      <th>25%</th>\n",
       "      <td>0.001011</td>\n",
       "      <td>0.001700</td>\n",
       "      <td>0.001369</td>\n",
       "      <td>0.001033</td>\n",
       "      <td>0.000540</td>\n",
       "      <td>1.670838e-04</td>\n",
       "      <td>0.000783</td>\n",
       "      <td>2.907231e-04</td>\n",
       "      <td>0.000991</td>\n",
       "      <td>0.000512</td>\n",
       "    </tr>\n",
       "    <tr>\n",
       "      <th>50%</th>\n",
       "      <td>0.003754</td>\n",
       "      <td>0.003553</td>\n",
       "      <td>0.005646</td>\n",
       "      <td>0.009526</td>\n",
       "      <td>0.008753</td>\n",
       "      <td>1.692939e-03</td>\n",
       "      <td>0.003996</td>\n",
       "      <td>1.368031e-03</td>\n",
       "      <td>0.010510</td>\n",
       "      <td>0.003214</td>\n",
       "    </tr>\n",
       "    <tr>\n",
       "      <th>75%</th>\n",
       "      <td>0.021672</td>\n",
       "      <td>0.150261</td>\n",
       "      <td>0.030939</td>\n",
       "      <td>0.035738</td>\n",
       "      <td>0.026295</td>\n",
       "      <td>1.155528e-02</td>\n",
       "      <td>0.021084</td>\n",
       "      <td>6.495359e-03</td>\n",
       "      <td>0.053768</td>\n",
       "      <td>0.033940</td>\n",
       "    </tr>\n",
       "    <tr>\n",
       "      <th>max</th>\n",
       "      <td>0.998087</td>\n",
       "      <td>0.999835</td>\n",
       "      <td>0.995420</td>\n",
       "      <td>0.943025</td>\n",
       "      <td>0.999900</td>\n",
       "      <td>9.994885e-01</td>\n",
       "      <td>0.999968</td>\n",
       "      <td>9.928997e-01</td>\n",
       "      <td>0.995753</td>\n",
       "      <td>0.943649</td>\n",
       "    </tr>\n",
       "  </tbody>\n",
       "</table style=\"display:inline\"></td></th>"
      ]
     },
     "metadata": {},
     "output_type": "display_data"
    }
   ],
   "source": [
    "for u, u_ in zip([x[1] for x in lit_data], [x[1] for x in bot_data]):\n",
    "    clusters = pd.DataFrame(u.T).describe()\n",
    "    clusters_bot = pd.DataFrame(u_.T).describe()\n",
    "    display_side_by_side(clusters, clusters_bot)"
   ]
  },
  {
   "cell_type": "code",
   "execution_count": null,
   "metadata": {},
   "outputs": [],
   "source": []
  },
  {
   "cell_type": "code",
   "execution_count": null,
   "metadata": {},
   "outputs": [],
   "source": []
  },
  {
   "cell_type": "markdown",
   "metadata": {},
   "source": [
    "*21/05/2021 Crisp clustering on fuzzy data*"
   ]
  },
  {
   "cell_type": "markdown",
   "metadata": {},
   "source": [
    "Pipeline: $x_i \\rightarrow \\mu_i \\rightarrow [\\text{with parameters } \\Delta c, L, R] \\xrightarrow{*} \\tilde{x_i} \\rightarrow distances(\\tilde{X}, \\tilde{X}) \\rightarrow Wishart$\n",
    "\n",
    "*$ \\mu_i \\text{ for left or right slope }$"
   ]
  },
  {
   "cell_type": "code",
   "execution_count": null,
   "metadata": {},
   "outputs": [],
   "source": []
  },
  {
   "cell_type": "code",
   "execution_count": 2,
   "metadata": {},
   "outputs": [],
   "source": [
    "?make_classification"
   ]
  },
  {
   "cell_type": "code",
   "execution_count": 3,
   "metadata": {},
   "outputs": [],
   "source": [
    "from sklearn.datasets import make_blobs\n",
    "#X, y = make_classification(n_features=1, n_classes = 5,n_samples=100, n_informative=1,n_redundant=0,n_repeated=0, n_clusters_per_class=1)"
   ]
  },
  {
   "cell_type": "code",
   "execution_count": 19,
   "metadata": {},
   "outputs": [],
   "source": [
    "?make_blobs"
   ]
  },
  {
   "cell_type": "code",
   "execution_count": 20,
   "metadata": {},
   "outputs": [],
   "source": [
    "X, y, centers = make_blobs(n_features=1, centers=5, return_centers=True)"
   ]
  },
  {
   "cell_type": "code",
   "execution_count": 21,
   "metadata": {},
   "outputs": [
    {
     "data": {
      "image/png": "[encoded data removed]",
      "text/plain": [
       "<Figure size 432x288 with 1 Axes>"
      ]
     },
     "metadata": {
      "needs_background": "light"
     },
     "output_type": "display_data"
    }
   ],
   "source": [
    "import matplotlib.pyplot as plt\n",
    "plt.hist(X)\n",
    "plt.show()"
   ]
  },
  {
   "cell_type": "code",
   "execution_count": 25,
   "metadata": {},
   "outputs": [
    {
     "data": {
      "text/plain": [
       "array([[-6.93000596],\n",
       "       [-7.52467733],\n",
       "       [-2.78021148],\n",
       "       [ 3.44041294],\n",
       "       [ 2.93550184]])"
      ]
     },
     "execution_count": 25,
     "metadata": {},
     "output_type": "execute_result"
    }
   ],
   "source": [
    "centers"
   ]
  },
  {
   "cell_type": "code",
   "execution_count": 29,
   "metadata": {},
   "outputs": [
    {
     "data": {
      "text/plain": [
       "<matplotlib.collections.PathCollection at 0x7f511e6af550>"
      ]
     },
     "execution_count": 29,
     "metadata": {},
     "output_type": "execute_result"
    },
    {
     "data": {
      "image/png": "[encoded data removed]",
      "text/plain": [
       "<Figure size 432x288 with 1 Axes>"
      ]
     },
     "metadata": {},
     "output_type": "display_data"
    }
   ],
   "source": [
    "import numpy as np\n",
    "import seaborn as sns\n",
    "sns.set_style('whitegrid')\n",
    "plt.plot(X, np.zeros_like(X), 'x',alpha=.5)\n",
    "plt.scatter(centers, np.zeros_like(centers), c='r',alpha=1)"
   ]
  },
  {
   "cell_type": "code",
   "execution_count": 18,
   "metadata": {
    "scrolled": true
   },
   "outputs": [
    {
     "data": {
      "text/plain": [
       "<matplotlib.collections.PathCollection at 0x7f5125adfe48>"
      ]
     },
     "execution_count": 18,
     "metadata": {},
     "output_type": "execute_result"
    },
    {
     "data": {
      "image/png": "[encoded data removed]",
      "text/plain": [
       "<Figure size 432x288 with 1 Axes>"
      ]
     },
     "metadata": {
      "needs_background": "light"
     },
     "output_type": "display_data"
    }
   ],
   "source": [
    "plt.scatter(X,np.zeros_like(X))"
   ]
  },
  {
   "cell_type": "code",
   "execution_count": 33,
   "metadata": {},
   "outputs": [],
   "source": [
    "mus = np.random.uniform(0,1,X.shape).reshape(-1)"
   ]
  },
  {
   "cell_type": "code",
   "execution_count": 37,
   "metadata": {},
   "outputs": [
    {
     "data": {
      "text/html": [
       "<div>\n",
       "<style scoped>\n",
       "    .dataframe tbody tr th:only-of-type {\n",
       "        vertical-align: middle;\n",
       "    }\n",
       "\n",
       "    .dataframe tbody tr th {\n",
       "        vertical-align: top;\n",
       "    }\n",
       "\n",
       "    .dataframe thead th {\n",
       "        text-align: right;\n",
       "    }\n",
       "</style>\n",
       "<table border=\"1\" class=\"dataframe\">\n",
       "  <thead>\n",
       "    <tr style=\"text-align: right;\">\n",
       "      <th></th>\n",
       "      <th>0</th>\n",
       "    </tr>\n",
       "  </thead>\n",
       "  <tbody>\n",
       "    <tr>\n",
       "      <th>count</th>\n",
       "      <td>100.000000</td>\n",
       "    </tr>\n",
       "    <tr>\n",
       "      <th>mean</th>\n",
       "      <td>-2.105099</td>\n",
       "    </tr>\n",
       "    <tr>\n",
       "      <th>std</th>\n",
       "      <td>4.800056</td>\n",
       "    </tr>\n",
       "    <tr>\n",
       "      <th>min</th>\n",
       "      <td>-10.171401</td>\n",
       "    </tr>\n",
       "    <tr>\n",
       "      <th>25%</th>\n",
       "      <td>-6.647888</td>\n",
       "    </tr>\n",
       "    <tr>\n",
       "      <th>50%</th>\n",
       "      <td>-2.242030</td>\n",
       "    </tr>\n",
       "    <tr>\n",
       "      <th>75%</th>\n",
       "      <td>2.754484</td>\n",
       "    </tr>\n",
       "    <tr>\n",
       "      <th>max</th>\n",
       "      <td>5.058928</td>\n",
       "    </tr>\n",
       "  </tbody>\n",
       "</table>\n",
       "</div>"
      ],
      "text/plain": [
       "                0\n",
       "count  100.000000\n",
       "mean    -2.105099\n",
       "std      4.800056\n",
       "min    -10.171401\n",
       "25%     -6.647888\n",
       "50%     -2.242030\n",
       "75%      2.754484\n",
       "max      5.058928"
      ]
     },
     "execution_count": 37,
     "metadata": {},
     "output_type": "execute_result"
    }
   ],
   "source": [
    "import pandas as pd\n",
    "pd.DataFrame(X).describe()"
   ]
  },
  {
   "cell_type": "code",
   "execution_count": 42,
   "metadata": {},
   "outputs": [
    {
     "data": {
      "text/plain": [
       "(array([-5.9690535]), array([0.81016266]))"
      ]
     },
     "execution_count": 42,
     "metadata": {},
     "output_type": "execute_result"
    }
   ],
   "source": [
    "X[0], mus[0]"
   ]
  },
  {
   "cell_type": "code",
   "execution_count": 10,
   "metadata": {},
   "outputs": [],
   "source": [
    "def trapmf(xs,mus,dc=3,l=2, r=2):\n",
    "    m1 = np.zeros(xs.shape)\n",
    "    m2 = np.zeros(xs.shape)\n",
    "    ps = np.random.binomial(n=1,size=xs.shape, p=0.5)    # probability for left/right slope\n",
    "    for i, (p, x, mu) in enumerate(zip(ps, xs, mus)):\n",
    "        for j, pj in enumerate(p):\n",
    "            if pj == 1:\n",
    "                m1[i][j] = l * (1 - mu[j]) + x[j]\n",
    "                m2[i][j] = (m1[i][j] + dc)\n",
    "            else:\n",
    "                m2[i][j] = r * (mu[j] - 1) + x[j]\n",
    "                m1[i][j] = (m2[i][j] - dc)\n",
    "    return m1, m2, ps"
   ]
  },
  {
   "cell_type": "code",
   "execution_count": 11,
   "metadata": {},
   "outputs": [
    {
     "name": "stdout",
     "output_type": "stream",
     "text": [
      "(100, 10)\n"
     ]
    },
    {
     "data": {
      "text/plain": [
       "(array([[-5.99595756e+00, -5.46928531e-01, -3.83283283e+00,\n",
       "         -5.88696972e+00, -3.34086804e+00,  6.07825273e-01,\n",
       "         -3.15225492e+00, -7.07831177e+00,  3.51410904e-01,\n",
       "          1.66640431e+00],\n",
       "        [ 1.94158049e+00, -1.94253367e+00, -4.20360291e+00,\n",
       "         -4.09965944e+00, -2.68866876e-01, -4.12941312e+00,\n",
       "         -2.22096512e+00, -2.52033178e-01, -1.37225515e+00,\n",
       "         -4.63065815e+00],\n",
       "        [-4.68744960e+00, -6.59694895e+00,  1.37017118e+00,\n",
       "         -5.21462828e+00, -5.26202510e+00, -5.17858389e+00,\n",
       "          2.00751780e+00, -6.84475880e-02,  8.09119571e-01,\n",
       "         -5.07532170e-01],\n",
       "        [ 4.01773497e+00,  1.17611399e+00, -4.94969170e+00,\n",
       "         -4.84089362e+00,  1.93826699e+00,  4.07102645e-01,\n",
       "         -4.80050614e+00, -6.47553280e+00, -3.11255913e+00,\n",
       "          1.57247140e+00],\n",
       "        [ 7.19970779e-02, -6.31182566e+00, -5.71839808e+00,\n",
       "         -1.78180820e+00, -5.07043757e+00,  2.39891165e+00,\n",
       "          1.31614979e-01,  8.45182328e-01, -4.12556906e+00,\n",
       "         -3.60369814e+00],\n",
       "        [ 1.17300952e+00,  9.66531908e-01, -4.45238450e+00,\n",
       "          2.09447348e+00,  3.67518973e-01, -3.05966154e+00,\n",
       "          2.68023453e+00, -4.77883784e+00, -4.47241355e-01,\n",
       "         -4.65001693e+00],\n",
       "        [ 2.92787716e-01, -1.65154126e+00, -3.39646461e+00,\n",
       "         -6.54384369e-01, -4.33298409e+00, -2.25513054e+00,\n",
       "         -2.88084164e+00, -3.93301353e+00, -2.35866482e+00,\n",
       "         -3.77958698e+00],\n",
       "        [-3.01425119e+00,  6.86817251e-01, -4.81844937e-01,\n",
       "          1.78772394e+00,  9.54100433e-01, -1.05175080e-01,\n",
       "         -5.39871235e+00,  7.31925494e-01, -3.34385519e+00,\n",
       "          4.33598503e-01],\n",
       "        [-4.20638057e+00,  1.00934177e-01, -4.88747297e+00,\n",
       "          1.81007207e+00, -2.52624410e+00, -4.62837479e+00,\n",
       "         -1.85973093e-01, -5.74315542e+00, -3.51750515e-01,\n",
       "          1.86577801e+00],\n",
       "        [-4.03931640e+00, -4.22560200e+00, -1.76823760e+00,\n",
       "          3.86932889e-01,  3.54333211e+00,  8.28980820e-01,\n",
       "          5.61474404e-01, -5.80243925e-01, -3.69080311e+00,\n",
       "         -5.06483833e+00],\n",
       "        [-3.66624637e+00, -5.23064243e+00,  3.31642887e-01,\n",
       "          2.34842960e+00, -2.92150293e+00, -5.58350211e+00,\n",
       "         -3.07115058e-02,  1.32085809e+00,  1.20325574e+00,\n",
       "         -2.89790133e+00],\n",
       "        [ 1.39583310e+00, -1.05690263e-01,  2.29544491e+00,\n",
       "         -2.07731847e+00, -6.11778897e+00,  1.30091567e+00,\n",
       "         -5.02974059e+00,  1.62158194e+00,  1.31610354e-01,\n",
       "          1.92816582e+00],\n",
       "        [-5.17206359e+00, -4.64061118e+00, -4.04459086e+00,\n",
       "         -2.12426055e+00, -1.03132681e+00, -7.56854248e+00,\n",
       "         -3.43584989e+00, -2.75831156e+00, -2.52359237e+00,\n",
       "          7.11968874e-01],\n",
       "        [ 2.69448568e-01,  1.63227495e+00,  6.12587004e-01,\n",
       "         -2.36729169e+00, -4.32806851e+00, -6.29887769e+00,\n",
       "          5.05383029e-01,  2.95557283e+00,  2.52223429e+00,\n",
       "          1.29574956e+00],\n",
       "        [-3.92380300e+00, -2.80452306e+00, -3.58146138e+00,\n",
       "         -4.27599045e+00, -4.69596792e+00, -3.10188385e+00,\n",
       "         -5.32095135e+00,  3.55159787e+00, -5.43594349e+00,\n",
       "         -1.80805279e+00],\n",
       "        [-4.61864602e+00, -2.49933112e+00, -3.80606356e+00,\n",
       "         -3.14307074e+00,  9.01651912e-02, -3.38627989e+00,\n",
       "         -2.18514570e+00, -4.15977608e+00, -2.38426638e+00,\n",
       "         -4.50678616e+00],\n",
       "        [-3.23534034e+00, -4.78189461e+00, -3.52680264e+00,\n",
       "         -5.77111044e+00, -4.13863087e+00,  8.08926352e-01,\n",
       "         -2.18236609e+00,  2.12385978e+00,  1.06752798e+00,\n",
       "         -2.68991237e+00],\n",
       "        [ 1.85463222e+00,  1.42132030e+00,  2.01244165e+00,\n",
       "          8.65270220e-01, -5.58656737e+00, -4.35880242e+00,\n",
       "          1.23975285e+00, -6.04593011e+00,  1.78578392e+00,\n",
       "         -3.22171132e+00],\n",
       "        [-4.58265659e-01,  9.98549077e-01, -2.42218103e+00,\n",
       "          1.98031557e+00,  1.04813626e+00, -4.14436438e+00,\n",
       "          1.97370855e+00, -7.95116128e-01, -4.48892187e+00,\n",
       "         -1.80143884e+00],\n",
       "        [ 1.43521171e+00, -3.66819147e+00, -7.25298428e-01,\n",
       "         -5.46841853e+00, -4.24486694e+00, -8.28560036e-01,\n",
       "          2.74673967e+00,  6.91091051e-01, -9.14006767e-01,\n",
       "          4.72339346e-01],\n",
       "        [ 2.42612390e+00,  1.76601014e+00,  2.51916132e+00,\n",
       "          1.10889090e+00,  2.25974804e+00,  1.73583864e+00,\n",
       "         -2.28857287e+00, -4.45350385e+00,  2.66942756e+00,\n",
       "          2.31580194e-01],\n",
       "        [ 1.08866128e+00,  1.67111812e+00, -3.95738569e-01,\n",
       "          6.95715090e-01, -3.01634001e+00, -4.83121833e+00,\n",
       "         -4.33549293e+00, -6.32719896e+00, -1.88053009e+00,\n",
       "         -4.55068730e+00],\n",
       "        [ 1.39007982e+00,  1.78834401e+00, -5.79105850e+00,\n",
       "          5.18381137e-01, -3.78306640e+00, -2.30865943e+00,\n",
       "          9.94829858e-01,  2.65136020e+00, -1.55112499e-01,\n",
       "          1.10773214e+00],\n",
       "        [ 1.31147068e+00, -3.44943232e+00, -2.95233365e+00,\n",
       "          1.49411429e+00,  2.44169408e+00,  1.09517933e+00,\n",
       "          8.62463914e-01, -3.28145167e+00, -5.27081419e+00,\n",
       "         -2.92449349e+00],\n",
       "        [-3.64143477e+00, -4.88560220e-01, -4.66597665e+00,\n",
       "         -3.38530238e+00,  2.43799506e+00, -4.45635306e+00,\n",
       "         -3.23093926e+00, -3.33986700e+00, -3.20964553e+00,\n",
       "          1.17206837e+00],\n",
       "        [-4.10119920e+00,  2.13707414e+00,  5.37613025e-01,\n",
       "         -4.07574278e+00,  2.18144823e+00,  2.57257829e+00,\n",
       "          3.06022857e+00, -4.15828271e+00, -3.80586206e+00,\n",
       "          7.06199654e-01],\n",
       "        [-3.23968189e+00, -5.32592649e+00, -3.58989544e+00,\n",
       "          1.98213194e+00,  1.85204202e+00, -3.34447358e+00,\n",
       "         -3.72398737e+00, -5.19124153e+00, -3.14846912e+00,\n",
       "         -5.48923595e+00],\n",
       "        [ 1.04241388e+00, -2.19506269e+00, -6.09430514e+00,\n",
       "          5.84461272e-01,  2.73518432e-01,  2.99715807e+00,\n",
       "          5.38353904e-01,  2.53132355e+00,  7.40623766e-01,\n",
       "         -2.92978318e+00],\n",
       "        [-2.63904597e-01, -4.56589136e+00, -2.73891557e+00,\n",
       "          2.31010049e+00,  1.42530715e+00, -3.57877834e+00,\n",
       "          1.38779136e+00,  7.10733310e-01,  1.05259739e+00,\n",
       "         -4.84625506e+00],\n",
       "        [ 1.55620270e+00,  2.15606206e+00, -3.25266935e+00,\n",
       "          2.12698242e+00, -2.26733144e+00, -3.54807204e+00,\n",
       "         -5.24010488e+00, -2.67210020e+00, -5.23236499e+00,\n",
       "         -4.05505147e+00],\n",
       "        [ 6.84250918e-01,  2.59406770e+00,  1.41462805e+00,\n",
       "         -5.14163637e+00, -5.23998137e+00, -4.07173995e+00,\n",
       "         -4.66546132e+00, -6.13561202e+00,  8.32608455e-01,\n",
       "          1.04578321e+00],\n",
       "        [-5.07530951e+00, -3.61104160e+00, -3.40631453e+00,\n",
       "         -3.47501956e+00,  2.63376946e-01,  3.87354099e-01,\n",
       "         -3.37281941e+00, -2.64721712e+00,  1.43574067e-01,\n",
       "         -6.31879470e+00],\n",
       "        [-3.35934100e+00, -1.56718217e+00,  3.15412529e-01,\n",
       "         -2.32468362e+00, -3.87843832e+00, -5.64271166e+00,\n",
       "          9.06924627e-01, -4.24592606e+00,  1.34612707e+00,\n",
       "          2.73701968e+00],\n",
       "        [-4.92699415e+00,  1.49019732e+00,  2.78162078e+00,\n",
       "         -4.89738800e+00,  1.54958719e+00,  3.30292211e+00,\n",
       "          2.04722358e+00,  6.54463179e-01,  1.61220029e+00,\n",
       "          1.98341711e+00],\n",
       "        [-2.26573320e+00, -3.17521993e-01, -5.18457249e+00,\n",
       "         -4.14216815e+00,  1.18725685e+00,  2.47399108e+00,\n",
       "         -7.57995645e-01,  3.26127287e-01,  5.27676042e-01,\n",
       "          4.22904568e-01],\n",
       "        [ 1.53617190e+00, -2.06144246e+00, -4.19001755e+00,\n",
       "         -3.23527313e+00, -4.11023586e+00, -1.60908705e+00,\n",
       "         -1.25893223e+00, -5.65361165e+00, -2.34768843e-01,\n",
       "         -6.86327593e+00],\n",
       "        [-3.02490185e+00, -4.79070700e+00,  1.34337749e+00,\n",
       "         -5.23119737e+00, -2.73058662e+00,  1.31158460e+00,\n",
       "          3.59469826e+00, -3.11840922e+00, -4.05902687e+00,\n",
       "          1.23327641e-01],\n",
       "        [-3.85165082e+00, -2.38497917e-01, -1.60956774e+00,\n",
       "         -4.39475516e+00, -3.62444451e+00, -3.10302037e+00,\n",
       "         -2.15573924e+00,  1.31891159e-01, -4.07436757e+00,\n",
       "         -5.24976821e+00],\n",
       "        [ 1.53052176e+00, -5.06491513e+00, -5.25748465e+00,\n",
       "         -3.07080725e+00, -3.37724437e+00,  2.19819143e+00,\n",
       "         -5.39647834e+00, -4.17404291e+00, -5.48693800e+00,\n",
       "          1.64608854e+00],\n",
       "        [ 2.00894740e+00, -4.62175577e+00,  1.79067870e+00,\n",
       "         -4.99445380e+00, -3.06741782e+00, -6.48963848e+00,\n",
       "         -1.63062778e+00, -4.04412044e+00, -5.98792571e+00,\n",
       "         -3.14223227e+00],\n",
       "        [-2.60700215e+00, -3.68057575e+00,  3.41240987e-01,\n",
       "          4.74779141e-01,  2.61995620e-01,  2.39491099e+00,\n",
       "          8.61974800e-01, -1.01905736e+00, -4.51288763e+00,\n",
       "         -4.16293948e-01],\n",
       "        [ 3.03986953e+00, -4.74824387e+00, -3.48465278e+00,\n",
       "          7.65566126e-01, -5.14051056e+00,  1.62217741e+00,\n",
       "         -5.76989935e+00,  4.60134930e-01, -3.77101809e+00,\n",
       "          5.62854936e-02],\n",
       "        [-2.76862329e+00,  1.04213253e+00, -2.51922619e+00,\n",
       "         -2.24537878e-01, -2.51942104e+00, -6.22046762e+00,\n",
       "          9.50720689e-01,  1.39286747e+00, -7.22671844e-01,\n",
       "         -4.45176879e+00],\n",
       "        [-4.95709192e-01, -6.28023421e+00,  1.38351522e-01,\n",
       "          2.36630752e-01, -3.39881681e+00,  8.90641198e-01,\n",
       "          2.12392831e+00, -6.71799439e+00, -3.79304208e+00,\n",
       "          1.47160736e+00],\n",
       "        [-2.06116092e-01,  6.92143722e-01,  2.49693837e+00,\n",
       "         -5.90741788e+00, -4.50962053e+00, -4.50628684e+00,\n",
       "          1.97623545e+00, -5.71787084e+00, -3.56353140e+00,\n",
       "         -3.32255351e+00],\n",
       "        [ 3.12926894e+00, -3.10803771e+00, -2.62778760e+00,\n",
       "         -2.37475757e+00,  7.70970767e-01, -5.36638101e+00,\n",
       "         -1.56472098e+00,  3.03094345e+00,  1.50874902e+00,\n",
       "         -3.96296473e+00],\n",
       "        [-3.70511893e+00, -4.71287763e-01,  4.92275004e-02,\n",
       "          1.42837304e+00, -4.36413716e+00, -5.29127804e+00,\n",
       "         -6.56153452e+00,  1.17004120e+00, -4.75908209e+00,\n",
       "         -4.79193469e+00],\n",
       "        [-3.59625116e+00,  2.41616321e+00,  1.69465292e+00,\n",
       "         -3.09174680e+00,  4.36977989e-01,  7.60482294e-01,\n",
       "         -4.18803817e+00, -4.16427104e+00, -3.34210253e+00,\n",
       "         -4.25521463e+00],\n",
       "        [-2.55055343e+00, -4.08073127e+00, -1.62322294e+00,\n",
       "         -4.94871041e+00, -3.02392837e+00, -4.49499070e+00,\n",
       "         -6.75545422e-01, -5.59737347e+00, -3.69752950e+00,\n",
       "          1.69491083e+00],\n",
       "        [ 1.79960526e-01, -3.73579469e+00, -4.20887105e-01,\n",
       "         -2.12113300e+00, -5.66539779e+00,  2.11239409e+00,\n",
       "          1.04149457e+00,  1.45756627e+00,  2.13734644e+00,\n",
       "          1.74053919e+00],\n",
       "        [-3.38414107e+00, -2.64801268e+00, -3.37881823e+00,\n",
       "         -5.41229429e+00, -4.85279662e+00, -3.36351124e+00,\n",
       "          2.88187675e+00, -5.57755053e+00, -6.40545990e+00,\n",
       "          1.68732895e+00],\n",
       "        [ 9.04985958e-02, -4.35313909e+00, -6.38292040e+00,\n",
       "          9.95300610e-01,  1.50124409e+00, -4.11970502e+00,\n",
       "          2.04619659e+00, -2.53527924e+00, -3.29724240e+00,\n",
       "         -2.90644474e+00],\n",
       "        [-2.20264266e+00, -8.52944366e-01,  1.82116156e+00,\n",
       "         -7.11545108e-02, -6.54964273e-01, -2.93841726e+00,\n",
       "         -2.28694102e+00,  2.24175302e+00, -8.89849441e-01,\n",
       "         -1.99539621e+00],\n",
       "        [ 1.69051102e+00, -3.17878286e+00, -3.26555291e+00,\n",
       "         -3.01779941e+00, -5.26100379e+00,  2.24967072e+00,\n",
       "          1.49331473e-01, -5.90049244e+00,  2.61829849e+00,\n",
       "         -3.66778839e+00],\n",
       "        [ 1.11878143e+00, -1.64786560e+00, -3.77152010e+00,\n",
       "         -3.33877002e+00, -2.96995529e-01,  3.10974949e+00,\n",
       "         -2.83419436e+00,  5.58509209e-01,  6.45670465e-01,\n",
       "          1.97843757e+00],\n",
       "        [-3.66763081e+00, -5.17121763e+00, -4.79890729e+00,\n",
       "         -3.73748580e+00, -3.64722152e+00,  5.03262474e-01,\n",
       "          1.32602035e+00,  1.87348685e+00,  2.69202908e-01,\n",
       "         -4.66173032e+00],\n",
       "        [-3.83880383e+00, -3.56264283e+00, -4.23769403e+00,\n",
       "          5.66869741e-01,  8.16793042e-01,  1.23004961e+00,\n",
       "         -4.95363316e+00,  1.67286083e+00, -3.61727831e+00,\n",
       "          4.45145222e+00],\n",
       "        [-4.00143957e+00,  1.34449497e+00, -4.40741016e+00,\n",
       "         -2.68290445e+00, -4.36630445e+00, -2.90321293e+00,\n",
       "          3.22589515e-01, -4.16886320e+00,  3.94231205e+00,\n",
       "         -1.73719705e+00],\n",
       "        [ 1.63340330e+00, -2.85750881e+00, -3.22186230e+00,\n",
       "         -2.23636796e+00, -9.89164420e-01, -2.76025170e+00,\n",
       "         -3.54623974e+00, -3.72634569e+00,  3.38872593e+00,\n",
       "         -2.28057794e+00],\n",
       "        [-2.75008934e+00, -5.31762700e+00,  1.36140275e+00,\n",
       "          2.62527350e+00,  1.75301215e+00, -1.98888483e+00,\n",
       "         -5.28846402e-01, -2.37655746e+00, -2.63453807e+00,\n",
       "         -5.19168949e-01],\n",
       "        [ 7.42015427e-01,  2.42825887e+00, -1.42242019e-01,\n",
       "         -4.03096918e+00,  7.31716841e-01, -5.58933229e+00,\n",
       "          3.84594501e-02, -4.71810529e+00,  1.48683707e+00,\n",
       "          1.59015907e+00],\n",
       "        [ 8.36058119e-01, -1.29026162e+00, -4.60379547e-01,\n",
       "          4.07805870e+00,  5.94903429e-01,  1.93718202e+00,\n",
       "          1.33173723e+00, -4.89661977e+00,  1.46524407e+00,\n",
       "          1.41464312e+00],\n",
       "        [-4.26159923e+00,  8.24811279e-01, -4.43173390e-01,\n",
       "          1.00486320e+00,  1.72275177e+00,  1.30392345e+00,\n",
       "         -2.77069900e+00,  1.22449619e+00, -4.33177709e+00,\n",
       "          2.25146500e+00],\n",
       "        [-4.44191203e+00,  5.02929258e-01, -5.73120519e+00,\n",
       "          7.79310524e-01,  2.40091830e+00,  1.66849478e+00,\n",
       "         -5.30449384e+00,  7.60640020e-01, -6.99329809e-01,\n",
       "          4.34976604e-02],\n",
       "        [-5.81609613e+00, -4.99534945e+00, -4.65089108e+00,\n",
       "         -3.19201156e+00,  4.51742592e-01,  1.61831762e+00,\n",
       "         -6.08121177e+00, -4.37073386e+00, -4.59062878e+00,\n",
       "          4.32928098e-01],\n",
       "        [ 1.30645373e-01, -4.87228600e+00,  2.83148860e+00,\n",
       "         -5.47401448e+00, -4.49234755e+00, -3.44017554e+00,\n",
       "          1.19635978e+00, -5.12778876e+00, -2.00523665e+00,\n",
       "          8.09448952e-01],\n",
       "        [ 1.35472883e-01, -1.71551892e+00,  2.24055741e+00,\n",
       "          5.02371366e-01,  5.46324186e-01, -3.71648645e+00,\n",
       "          9.59764071e-01, -3.36340486e+00, -1.92865377e+00,\n",
       "          1.72951838e+00],\n",
       "        [ 6.21087256e-01,  1.37739866e+00, -4.24304280e+00,\n",
       "          1.61762125e+00, -9.78849630e-02, -5.29647428e+00,\n",
       "         -3.96286715e+00, -3.26284374e+00, -2.62905920e+00,\n",
       "         -3.26694377e+00],\n",
       "        [-1.27000809e+00,  2.18524545e+00,  8.19643846e-01,\n",
       "         -1.95324474e+00, -4.74259091e+00,  3.19104898e+00,\n",
       "         -3.76796558e+00,  1.08509967e+00,  6.34694693e-01,\n",
       "         -3.95747487e+00],\n",
       "        [-2.14608740e+00, -4.87426690e+00, -5.41029448e+00,\n",
       "          1.74188693e+00, -8.71980803e-01, -3.38523872e+00,\n",
       "         -1.58546106e+00, -7.23774385e+00, -1.06183163e+00,\n",
       "         -4.43580656e+00],\n",
       "        [-3.76862573e+00, -3.64663704e+00, -5.36895569e+00,\n",
       "         -7.24218261e+00,  2.05416205e+00, -6.07543156e+00,\n",
       "         -5.21068347e+00, -2.79544652e-01,  6.65705629e-01,\n",
       "         -6.56334151e-01],\n",
       "        [ 3.06529324e+00, -2.56764509e+00, -2.95969847e+00,\n",
       "          2.88336699e-01,  1.81656133e-01,  5.70568020e-01,\n",
       "         -5.46547100e+00, -5.67301505e+00,  1.54023689e+00,\n",
       "         -4.57945432e+00],\n",
       "        [ 9.76302338e-03, -7.24978403e-01, -4.50801736e+00,\n",
       "         -3.55261987e+00,  2.37769390e+00,  4.87512246e-01,\n",
       "         -4.85024082e+00, -4.83195594e+00, -1.30689554e-01,\n",
       "         -4.46647799e+00],\n",
       "        [-4.77820209e+00, -3.41247659e+00, -4.42917194e+00,\n",
       "          3.10463943e+00,  1.59241708e+00,  3.20015999e+00,\n",
       "         -2.83818135e+00, -1.08617370e+00,  3.04448014e-01,\n",
       "         -3.38241372e+00],\n",
       "        [ 1.37493763e+00,  3.07103647e-01, -2.55570685e-01,\n",
       "         -2.84180292e+00,  4.38214999e-01, -6.47483678e-01,\n",
       "         -3.53977469e+00, -3.91331809e-01,  3.22818584e+00,\n",
       "          1.26195634e+00],\n",
       "        [-2.07491744e+00, -2.75495519e-01, -3.96250298e+00,\n",
       "         -2.86019510e+00,  1.87160554e+00, -3.15090363e+00,\n",
       "          2.74038835e+00, -5.43314439e+00, -3.19207093e+00,\n",
       "         -1.08051287e-01],\n",
       "        [ 2.15639862e+00, -5.34812742e+00,  6.96637610e-01,\n",
       "          5.73196184e-02, -1.44224222e+00, -5.98777444e+00,\n",
       "         -1.12314984e-02,  1.32681189e+00, -2.38361505e+00,\n",
       "          9.00736504e-01],\n",
       "        [-3.84357532e+00, -3.34574720e+00,  1.48248473e+00,\n",
       "         -4.35454266e+00,  2.45276229e+00, -2.54605602e+00,\n",
       "         -5.70149099e-01, -3.25143685e+00, -3.81135475e-01,\n",
       "          1.59461383e+00],\n",
       "        [-2.88883131e+00,  1.47233913e+00, -3.69592876e+00,\n",
       "          1.99098635e+00, -5.63835522e+00, -2.30973617e+00,\n",
       "          1.72907208e+00, -4.52301760e+00, -3.24214354e-03,\n",
       "         -2.54253393e+00],\n",
       "        [-4.62465885e+00, -3.09650303e+00,  1.75861688e+00,\n",
       "          1.97144310e+00, -1.73638826e-01, -3.37993359e+00,\n",
       "         -4.67789295e+00,  2.26578161e+00, -4.09205632e+00,\n",
       "          1.39359990e+00],\n",
       "        [ 7.60972721e-01, -4.83270091e+00, -2.06733262e-01,\n",
       "         -6.37637961e+00, -9.82007816e-01, -6.60657131e-02,\n",
       "         -4.31547115e+00, -3.29948091e+00, -4.71957588e+00,\n",
       "         -4.60106000e+00],\n",
       "        [-1.03980508e+00, -2.84727686e+00, -3.42523217e+00,\n",
       "          7.74162991e-01, -3.03756410e+00, -2.67360427e+00,\n",
       "         -2.78743738e+00, -6.13843113e+00, -5.14751113e+00,\n",
       "          2.45411506e+00],\n",
       "        [ 9.55823722e-01, -4.31433168e+00, -5.03820460e+00,\n",
       "         -4.33107813e+00, -5.59699965e+00, -4.25331120e+00,\n",
       "          5.23641097e-01, -3.45123523e+00, -7.33117367e+00,\n",
       "          1.30440142e+00],\n",
       "        [ 2.61225930e+00,  1.38589806e-01,  7.55532646e-01,\n",
       "         -2.49765952e+00,  1.38624248e+00, -2.96865264e+00,\n",
       "         -1.65990569e-01,  1.40883707e+00, -4.77504171e+00,\n",
       "         -5.52322525e+00],\n",
       "        [ 1.89115228e+00, -4.47447487e+00, -2.85440518e+00,\n",
       "         -3.17625464e+00,  8.02904841e-01, -4.82226330e+00,\n",
       "         -2.95128041e+00,  4.70681302e-01, -1.24940173e-01,\n",
       "          3.30210799e-01],\n",
       "        [ 3.08717672e+00, -4.92248534e-01, -3.88079989e+00,\n",
       "         -6.18306852e-01,  2.25148228e+00, -3.90351403e+00,\n",
       "         -1.84883991e-02, -2.37546132e-01, -3.58085090e+00,\n",
       "         -2.64851387e+00],\n",
       "        [-7.04705261e+00, -9.95085986e-01, -5.56010824e+00,\n",
       "          2.64659409e+00,  1.19646944e+00, -3.96110255e+00,\n",
       "         -5.34932633e+00, -5.58794686e+00,  1.09231212e+00,\n",
       "         -2.78843726e+00],\n",
       "        [-2.15452464e+00, -4.22514945e-02, -5.96339237e+00,\n",
       "         -5.03018813e+00,  3.35336201e-01, -4.95972333e+00,\n",
       "          1.74470646e+00, -4.97057606e+00, -1.73686570e+00,\n",
       "         -3.25091956e+00],\n",
       "        [-3.13711738e+00, -1.15077011e-01,  1.20740694e+00,\n",
       "          9.49580140e-01, -3.35920170e+00, -4.26123258e+00,\n",
       "         -4.65511410e+00, -4.05617526e+00, -4.59951921e+00,\n",
       "         -9.79177436e-01],\n",
       "        [ 7.84395515e-01, -4.13809627e-01,  1.41085863e+00,\n",
       "         -4.63050535e+00, -5.39971204e+00, -3.24620336e+00,\n",
       "          1.95280945e+00, -3.43467980e+00,  3.87899269e-01,\n",
       "         -1.84403895e-01],\n",
       "        [-1.11395309e+00, -4.40245876e-01, -3.34550783e+00,\n",
       "          1.52220430e+00, -3.12848330e+00,  1.43326817e+00,\n",
       "         -9.37865937e-01, -3.98684793e+00,  3.14015703e-01,\n",
       "         -1.17347652e+00],\n",
       "        [-3.82021605e+00, -3.07982084e+00, -3.57272346e+00,\n",
       "          1.82239943e+00, -3.38984172e+00,  1.12994085e+00,\n",
       "         -3.15006936e+00, -2.10005635e+00, -4.01709465e+00,\n",
       "          2.08473451e+00],\n",
       "        [ 1.37318640e+00, -4.54634340e+00,  1.87875077e+00,\n",
       "          1.67363338e-01,  1.03556232e+00, -5.03852373e+00,\n",
       "         -4.30860593e+00, -2.26527936e+00, -2.81279323e+00,\n",
       "         -1.23375765e+00],\n",
       "        [-3.41520453e+00,  1.76822650e-02, -1.23511557e-01,\n",
       "          2.17567230e+00, -2.87879549e-01, -1.51492160e-01,\n",
       "         -5.77578866e+00, -1.55364026e+00, -3.46809832e+00,\n",
       "          2.80649568e+00],\n",
       "        [-3.59150453e+00, -4.14104240e+00, -2.04649548e+00,\n",
       "         -4.98438501e+00, -3.44118327e+00, -5.73289593e+00,\n",
       "         -3.18884424e+00, -3.63286625e+00,  5.11030635e-01,\n",
       "          8.03403399e-01],\n",
       "        [-4.98553124e+00,  7.94740642e-01, -4.47220586e+00,\n",
       "          1.67852050e+00, -6.16227900e+00, -4.94408324e+00,\n",
       "         -5.53577803e+00, -2.92442516e+00,  1.89673243e+00,\n",
       "         -2.57164378e+00],\n",
       "        [ 2.98232083e+00, -2.41514504e+00, -4.61463666e+00,\n",
       "          2.65618329e+00,  9.27227459e-01, -2.81526925e+00,\n",
       "         -3.01841944e+00, -4.48419819e-01,  5.38195105e-01,\n",
       "         -5.04337737e+00],\n",
       "        [ 1.14082972e+00,  5.46984329e-01, -2.13652420e+00,\n",
       "          9.36938520e-01,  1.93915791e+00,  1.95708505e+00,\n",
       "         -2.30764354e+00, -1.60969585e+00, -2.26913483e+00,\n",
       "         -4.38453624e+00],\n",
       "        [-2.27427725e+00, -3.64469777e+00,  3.07450254e-01,\n",
       "         -2.81329322e+00,  1.39701585e+00, -1.20365950e+00,\n",
       "         -3.83528207e+00, -2.11515125e+00, -2.10306243e-01,\n",
       "         -4.71780900e+00],\n",
       "        [ 2.18870682e+00, -5.33398148e+00, -5.63523638e+00,\n",
       "          8.58016282e-01, -3.87140379e+00,  2.47536079e+00,\n",
       "         -1.26019366e+00, -2.83043170e+00,  1.90607413e+00,\n",
       "         -4.49877828e+00]]),\n",
       " array([[-2.99595756,  2.45307147, -0.83283283, -2.88696972, -0.34086804,\n",
       "          3.60782527, -0.15225492, -4.07831177,  3.3514109 ,  4.66640431],\n",
       "        [ 4.94158049,  1.05746633, -1.20360291, -1.09965944,  2.73113312,\n",
       "         -1.12941312,  0.77903488,  2.74796682,  1.62774485, -1.63065815],\n",
       "        [-1.6874496 , -3.59694895,  4.37017118, -2.21462828, -2.2620251 ,\n",
       "         -2.17858389,  5.0075178 ,  2.93155241,  3.80911957,  2.49246783],\n",
       "        [ 7.01773497,  4.17611399, -1.9496917 , -1.84089362,  4.93826699,\n",
       "          3.40710265, -1.80050614, -3.4755328 , -0.11255913,  4.5724714 ],\n",
       "        [ 3.07199708, -3.31182566, -2.71839808,  1.2181918 , -2.07043757,\n",
       "          5.39891165,  3.13161498,  3.84518233, -1.12556906, -0.60369814],\n",
       "        [ 4.17300952,  3.96653191, -1.4523845 ,  5.09447348,  3.36751897,\n",
       "         -0.05966154,  5.68023453, -1.77883784,  2.55275864, -1.65001693],\n",
       "        [ 3.29278772,  1.34845874, -0.39646461,  2.34561563, -1.33298409,\n",
       "          0.74486946,  0.11915836, -0.93301353,  0.64133518, -0.77958698],\n",
       "        [-0.01425119,  3.68681725,  2.51815506,  4.78772394,  3.95410043,\n",
       "          2.89482492, -2.39871235,  3.73192549, -0.34385519,  3.4335985 ],\n",
       "        [-1.20638057,  3.10093418, -1.88747297,  4.81007207,  0.4737559 ,\n",
       "         -1.62837479,  2.81402691, -2.74315542,  2.64824949,  4.86577801],\n",
       "        [-1.0393164 , -1.225602  ,  1.2317624 ,  3.38693289,  6.54333211,\n",
       "          3.82898082,  3.5614744 ,  2.41975607, -0.69080311, -2.06483833],\n",
       "        [-0.66624637, -2.23064243,  3.33164289,  5.3484296 ,  0.07849707,\n",
       "         -2.58350211,  2.96928849,  4.32085809,  4.20325574,  0.10209867],\n",
       "        [ 4.3958331 ,  2.89430974,  5.29544491,  0.92268153, -3.11778897,\n",
       "          4.30091567, -2.02974059,  4.62158194,  3.13161035,  4.92816582],\n",
       "        [-2.17206359, -1.64061118, -1.04459086,  0.87573945,  1.96867319,\n",
       "         -4.56854248, -0.43584989,  0.24168844,  0.47640763,  3.71196887],\n",
       "        [ 3.26944857,  4.63227495,  3.612587  ,  0.63270831, -1.32806851,\n",
       "         -3.29887769,  3.50538303,  5.95557283,  5.52223429,  4.29574956],\n",
       "        [-0.923803  ,  0.19547694, -0.58146138, -1.27599045, -1.69596792,\n",
       "         -0.10188385, -2.32095135,  6.55159787, -2.43594349,  1.19194721],\n",
       "        [-1.61864602,  0.50066888, -0.80606356, -0.14307074,  3.09016519,\n",
       "         -0.38627989,  0.8148543 , -1.15977608,  0.61573362, -1.50678616],\n",
       "        [-0.23534034, -1.78189461, -0.52680264, -2.77111044, -1.13863087,\n",
       "          3.80892635,  0.81763391,  5.12385978,  4.06752798,  0.31008763],\n",
       "        [ 4.85463222,  4.4213203 ,  5.01244165,  3.86527022, -2.58656737,\n",
       "         -1.35880242,  4.23975285, -3.04593011,  4.78578392, -0.22171132],\n",
       "        [ 2.54173434,  3.99854908,  0.57781897,  4.98031557,  4.04813626,\n",
       "         -1.14436438,  4.97370855,  2.20488387, -1.48892187,  1.19856116],\n",
       "        [ 4.43521171, -0.66819147,  2.27470157, -2.46841853, -1.24486694,\n",
       "          2.17143996,  5.74673967,  3.69109105,  2.08599323,  3.47233935],\n",
       "        [ 5.4261239 ,  4.76601014,  5.51916132,  4.1088909 ,  5.25974804,\n",
       "          4.73583864,  0.71142713, -1.45350385,  5.66942756,  3.23158019],\n",
       "        [ 4.08866128,  4.67111812,  2.60426143,  3.69571509, -0.01634001,\n",
       "         -1.83121833, -1.33549293, -3.32719896,  1.11946991, -1.5506873 ],\n",
       "        [ 4.39007982,  4.78834401, -2.7910585 ,  3.51838114, -0.7830664 ,\n",
       "          0.69134057,  3.99482986,  5.6513602 ,  2.8448875 ,  4.10773214],\n",
       "        [ 4.31147068, -0.44943232,  0.04766635,  4.49411429,  5.44169408,\n",
       "          4.09517933,  3.86246391, -0.28145167, -2.27081419,  0.07550651],\n",
       "        [-0.64143477,  2.51143978, -1.66597665, -0.38530238,  5.43799506,\n",
       "         -1.45635306, -0.23093926, -0.339867  , -0.20964553,  4.17206837],\n",
       "        [-1.1011992 ,  5.13707414,  3.53761302, -1.07574278,  5.18144823,\n",
       "          5.57257829,  6.06022857, -1.15828271, -0.80586206,  3.70619965],\n",
       "        [-0.23968189, -2.32592649, -0.58989544,  4.98213194,  4.85204202,\n",
       "         -0.34447358, -0.72398737, -2.19124153, -0.14846912, -2.48923595],\n",
       "        [ 4.04241388,  0.80493731, -3.09430514,  3.58446127,  3.27351843,\n",
       "          5.99715807,  3.5383539 ,  5.53132355,  3.74062377,  0.07021682],\n",
       "        [ 2.7360954 , -1.56589136,  0.26108443,  5.31010049,  4.42530715,\n",
       "         -0.57877834,  4.38779136,  3.71073331,  4.05259739, -1.84625506],\n",
       "        [ 4.5562027 ,  5.15606206, -0.25266935,  5.12698242,  0.73266856,\n",
       "         -0.54807204, -2.24010488,  0.3278998 , -2.23236499, -1.05505147],\n",
       "        [ 3.68425092,  5.5940677 ,  4.41462805, -2.14163637, -2.23998137,\n",
       "         -1.07173995, -1.66546132, -3.13561202,  3.83260846,  4.04578321],\n",
       "        [-2.07530951, -0.6110416 , -0.40631453, -0.47501956,  3.26337695,\n",
       "          3.3873541 , -0.37281941,  0.35278288,  3.14357407, -3.3187947 ],\n",
       "        [-0.359341  ,  1.43281783,  3.31541253,  0.67531638, -0.87843832,\n",
       "         -2.64271166,  3.90692463, -1.24592606,  4.34612707,  5.73701968],\n",
       "        [-1.92699415,  4.49019732,  5.78162078, -1.897388  ,  4.54958719,\n",
       "          6.30292211,  5.04722358,  3.65446318,  4.61220029,  4.98341711],\n",
       "        [ 0.7342668 ,  2.68247801, -2.18457249, -1.14216815,  4.18725685,\n",
       "          5.47399108,  2.24200435,  3.32612729,  3.52767604,  3.42290457],\n",
       "        [ 4.5361719 ,  0.93855754, -1.19001755, -0.23527313, -1.11023586,\n",
       "          1.39091295,  1.74106777, -2.65361165,  2.76523116, -3.86327593],\n",
       "        [-0.02490185, -1.790707  ,  4.34337749, -2.23119737,  0.26941338,\n",
       "          4.3115846 ,  6.59469826, -0.11840922, -1.05902687,  3.12332764],\n",
       "        [-0.85165082,  2.76150208,  1.39043226, -1.39475516, -0.62444451,\n",
       "         -0.10302037,  0.84426076,  3.13189116, -1.07436757, -2.24976821],\n",
       "        [ 4.53052176, -2.06491513, -2.25748465, -0.07080725, -0.37724437,\n",
       "          5.19819143, -2.39647834, -1.17404291, -2.486938  ,  4.64608854],\n",
       "        [ 5.0089474 , -1.62175577,  4.7906787 , -1.9944538 , -0.06741782,\n",
       "         -3.48963848,  1.36937222, -1.04412044, -2.98792571, -0.14223227],\n",
       "        [ 0.39299785, -0.68057575,  3.34124099,  3.47477914,  3.26199562,\n",
       "          5.39491099,  3.8619748 ,  1.98094264, -1.51288763,  2.58370605],\n",
       "        [ 6.03986953, -1.74824387, -0.48465278,  3.76556613, -2.14051056,\n",
       "          4.62217741, -2.76989935,  3.46013493, -0.77101809,  3.05628549],\n",
       "        [ 0.23137671,  4.04213253,  0.48077381,  2.77546212,  0.48057896,\n",
       "         -3.22046762,  3.95072069,  4.39286747,  2.27732816, -1.45176879],\n",
       "        [ 2.50429081, -3.28023421,  3.13835152,  3.23663075, -0.39881681,\n",
       "          3.8906412 ,  5.12392831, -3.71799439, -0.79304208,  4.47160736],\n",
       "        [ 2.79388391,  3.69214372,  5.49693837, -2.90741788, -1.50962053,\n",
       "         -1.50628684,  4.97623545, -2.71787084, -0.5635314 , -0.32255351],\n",
       "        [ 6.12926894, -0.10803771,  0.3722124 ,  0.62524243,  3.77097077,\n",
       "         -2.36638101,  1.43527902,  6.03094345,  4.50874902, -0.96296473],\n",
       "        [-0.70511893,  2.52871224,  3.0492275 ,  4.42837304, -1.36413716,\n",
       "         -2.29127804, -3.56153452,  4.1700412 , -1.75908209, -1.79193469],\n",
       "        [-0.59625116,  5.41616321,  4.69465292, -0.0917468 ,  3.43697799,\n",
       "          3.76048229, -1.18803817, -1.16427104, -0.34210253, -1.25521463],\n",
       "        [ 0.44944657, -1.08073127,  1.37677706, -1.94871041, -0.02392837,\n",
       "         -1.4949907 ,  2.32445458, -2.59737347, -0.6975295 ,  4.69491083],\n",
       "        [ 3.17996053, -0.73579469,  2.5791129 ,  0.878867  , -2.66539779,\n",
       "          5.11239409,  4.04149457,  4.45756627,  5.13734644,  4.74053919],\n",
       "        [-0.38414107,  0.35198732, -0.37881823, -2.41229429, -1.85279662,\n",
       "         -0.36351124,  5.88187675, -2.57755053, -3.4054599 ,  4.68732895],\n",
       "        [ 3.0904986 , -1.35313909, -3.3829204 ,  3.99530061,  4.50124409,\n",
       "         -1.11970502,  5.04619659,  0.46472076, -0.2972424 ,  0.09355526],\n",
       "        [ 0.79735734,  2.14705563,  4.82116156,  2.92884549,  2.34503573,\n",
       "          0.06158274,  0.71305898,  5.24175302,  2.11015056,  1.00460379],\n",
       "        [ 4.69051102, -0.17878286, -0.26555291, -0.01779941, -2.26100379,\n",
       "          5.24967072,  3.14933147, -2.90049244,  5.61829849, -0.66778839],\n",
       "        [ 4.11878143,  1.3521344 , -0.7715201 , -0.33877002,  2.70300447,\n",
       "          6.10974949,  0.16580564,  3.55850921,  3.64567047,  4.97843757],\n",
       "        [-0.66763081, -2.17121763, -1.79890729, -0.7374858 , -0.64722152,\n",
       "          3.50326247,  4.32602035,  4.87348685,  3.26920291, -1.66173032],\n",
       "        [-0.83880383, -0.56264283, -1.23769403,  3.56686974,  3.81679304,\n",
       "          4.23004961, -1.95363316,  4.67286083, -0.61727831,  7.45145222],\n",
       "        [-1.00143957,  4.34449497, -1.40741016,  0.31709555, -1.36630445,\n",
       "          0.09678707,  3.32258951, -1.1688632 ,  6.94231205,  1.26280295],\n",
       "        [ 4.6334033 ,  0.14249119, -0.2218623 ,  0.76363204,  2.01083558,\n",
       "          0.2397483 , -0.54623974, -0.72634569,  6.38872593,  0.71942206],\n",
       "        [ 0.24991066, -2.317627  ,  4.36140275,  5.6252735 ,  4.75301215,\n",
       "          1.01111517,  2.4711536 ,  0.62344254,  0.36546193,  2.48083105],\n",
       "        [ 3.74201543,  5.42825887,  2.85775798, -1.03096918,  3.73171684,\n",
       "         -2.58933229,  3.03845945, -1.71810529,  4.48683707,  4.59015907],\n",
       "        [ 3.83605812,  1.70973838,  2.53962045,  7.0780587 ,  3.59490343,\n",
       "          4.93718202,  4.33173723, -1.89661977,  4.46524407,  4.41464312],\n",
       "        [-1.26159923,  3.82481128,  2.55682661,  4.0048632 ,  4.72275177,\n",
       "          4.30392345,  0.229301  ,  4.22449619, -1.33177709,  5.251465  ],\n",
       "        [-1.44191203,  3.50292926, -2.73120519,  3.77931052,  5.4009183 ,\n",
       "          4.66849478, -2.30449384,  3.76064002,  2.30067019,  3.04349766],\n",
       "        [-2.81609613, -1.99534945, -1.65089108, -0.19201156,  3.45174259,\n",
       "          4.61831762, -3.08121177, -1.37073386, -1.59062878,  3.4329281 ],\n",
       "        [ 3.13064537, -1.872286  ,  5.8314886 , -2.47401448, -1.49234755,\n",
       "         -0.44017554,  4.19635978, -2.12778876,  0.99476335,  3.80944895],\n",
       "        [ 3.13547288,  1.28448108,  5.24055741,  3.50237137,  3.54632419,\n",
       "         -0.71648645,  3.95976407, -0.36340486,  1.07134623,  4.72951838],\n",
       "        [ 3.62108726,  4.37739866, -1.2430428 ,  4.61762125,  2.90211504,\n",
       "         -2.29647428, -0.96286715, -0.26284374,  0.3709408 , -0.26694377],\n",
       "        [ 1.72999191,  5.18524545,  3.81964385,  1.04675526, -1.74259091,\n",
       "          6.19104898, -0.76796558,  4.08509967,  3.63469469, -0.95747487],\n",
       "        [ 0.8539126 , -1.8742669 , -2.41029448,  4.74188693,  2.1280192 ,\n",
       "         -0.38523872,  1.41453894, -4.23774385,  1.93816837, -1.43580656],\n",
       "        [-0.76862573, -0.64663704, -2.36895569, -4.24218261,  5.05416205,\n",
       "         -3.07543156, -2.21068347,  2.72045535,  3.66570563,  2.34366585],\n",
       "        [ 6.06529324,  0.43235491,  0.04030153,  3.2883367 ,  3.18165613,\n",
       "          3.57056802, -2.465471  , -2.67301505,  4.54023689, -1.57945432],\n",
       "        [ 3.00976302,  2.2750216 , -1.50801736, -0.55261987,  5.3776939 ,\n",
       "          3.48751225, -1.85024082, -1.83195594,  2.86931045, -1.46647799],\n",
       "        [-1.77820209, -0.41247659, -1.42917194,  6.10463943,  4.59241708,\n",
       "          6.20015999,  0.16181865,  1.9138263 ,  3.30444801, -0.38241372],\n",
       "        [ 4.37493763,  3.30710365,  2.74442931,  0.15819708,  3.438215  ,\n",
       "          2.35251632, -0.53977469,  2.60866819,  6.22818584,  4.26195634],\n",
       "        [ 0.92508256,  2.72450448, -0.96250298,  0.1398049 ,  4.87160554,\n",
       "         -0.15090363,  5.74038835, -2.43314439, -0.19207093,  2.89194871],\n",
       "        [ 5.15639862, -2.34812742,  3.69663761,  3.05731962,  1.55775778,\n",
       "         -2.98777444,  2.9887685 ,  4.32681189,  0.61638495,  3.9007365 ],\n",
       "        [-0.84357532, -0.3457472 ,  4.48248473, -1.35454266,  5.45276229,\n",
       "          0.45394398,  2.4298509 , -0.25143685,  2.61886452,  4.59461383],\n",
       "        [ 0.11116869,  4.47233913, -0.69592876,  4.99098635, -2.63835522,\n",
       "          0.69026383,  4.72907208, -1.5230176 ,  2.99675786,  0.45746607],\n",
       "        [-1.62465885, -0.09650303,  4.75861688,  4.9714431 ,  2.82636117,\n",
       "         -0.37993359, -1.67789295,  5.26578161, -1.09205632,  4.3935999 ],\n",
       "        [ 3.76097272, -1.83270091,  2.79326674, -3.37637961,  2.01799218,\n",
       "          2.93393429, -1.31547115, -0.29948091, -1.71957588, -1.60106   ],\n",
       "        [ 1.96019492,  0.15272314, -0.42523217,  3.77416299, -0.0375641 ,\n",
       "          0.32639573,  0.21256262, -3.13843113, -2.14751113,  5.45411506],\n",
       "        [ 3.95582372, -1.31433168, -2.0382046 , -1.33107813, -2.59699965,\n",
       "         -1.2533112 ,  3.5236411 , -0.45123523, -4.33117367,  4.30440142],\n",
       "        [ 5.6122593 ,  3.13858981,  3.75553265,  0.50234048,  4.38624248,\n",
       "          0.03134736,  2.83400943,  4.40883707, -1.77504171, -2.52322525],\n",
       "        [ 4.89115228, -1.47447487,  0.14559482, -0.17625464,  3.80290484,\n",
       "         -1.8222633 ,  0.04871959,  3.4706813 ,  2.87505983,  3.3302108 ],\n",
       "        [ 6.08717672,  2.50775147, -0.88079989,  2.38169315,  5.25148228,\n",
       "         -0.90351403,  2.9815116 ,  2.76245387, -0.5808509 ,  0.35148613],\n",
       "        [-4.04705261,  2.00491401, -2.56010824,  5.64659409,  4.19646944,\n",
       "         -0.96110255, -2.34932633, -2.58794686,  4.09231212,  0.21156274],\n",
       "        [ 0.84547536,  2.95774851, -2.96339237, -2.03018813,  3.3353362 ,\n",
       "         -1.95972333,  4.74470646, -1.97057606,  1.2631343 , -0.25091956],\n",
       "        [-0.13711738,  2.88492299,  4.20740694,  3.94958014, -0.3592017 ,\n",
       "         -1.26123258, -1.6551141 , -1.05617526, -1.59951921,  2.02082256],\n",
       "        [ 3.78439552,  2.58619037,  4.41085863, -1.63050535, -2.39971204,\n",
       "         -0.24620336,  4.95280945, -0.4346798 ,  3.38789927,  2.8155961 ],\n",
       "        [ 1.88604691,  2.55975412, -0.34550783,  4.5222043 , -0.1284833 ,\n",
       "          4.43326817,  2.06213406, -0.98684793,  3.3140157 ,  1.82652348],\n",
       "        [-0.82021605, -0.07982084, -0.57272346,  4.82239943, -0.38984172,\n",
       "          4.12994085, -0.15006936,  0.89994365, -1.01709465,  5.08473451],\n",
       "        [ 4.3731864 , -1.5463434 ,  4.87875077,  3.16736334,  4.03556232,\n",
       "         -2.03852373, -1.30860593,  0.73472064,  0.18720677,  1.76624235],\n",
       "        [-0.41520453,  3.01768227,  2.87648844,  5.1756723 ,  2.71212045,\n",
       "          2.84850784, -2.77578866,  1.44635974, -0.46809832,  5.80649568],\n",
       "        [-0.59150453, -1.1410424 ,  0.95350452, -1.98438501, -0.44118327,\n",
       "         -2.73289593, -0.18884424, -0.63286625,  3.51103064,  3.8034034 ],\n",
       "        [-1.98553124,  3.79474064, -1.47220586,  4.6785205 , -3.162279  ,\n",
       "         -1.94408324, -2.53577803,  0.07557484,  4.89673243,  0.42835622],\n",
       "        [ 5.98232083,  0.58485496, -1.61463666,  5.65618329,  3.92722746,\n",
       "          0.18473075, -0.01841944,  2.55158018,  3.53819511, -2.04337737],\n",
       "        [ 4.14082972,  3.54698433,  0.8634758 ,  3.93693852,  4.93915791,\n",
       "          4.95708505,  0.69235646,  1.39030415,  0.73086517, -1.38453624],\n",
       "        [ 0.72572275, -0.64469777,  3.30745025,  0.18670678,  4.39701585,\n",
       "          1.7963405 , -0.83528207,  0.88484875,  2.78969376, -1.717809  ],\n",
       "        [ 5.18870682, -2.33398148, -2.63523638,  3.85801628, -0.87140379,\n",
       "          5.47536079,  1.73980634,  0.1695683 ,  4.90607413, -1.49877828]]),\n",
       " array([[0, 1, 0, 0, 0, 1, 0, 0, 1, 1],\n",
       "        [1, 0, 0, 0, 1, 0, 0, 1, 0, 0],\n",
       "        [0, 0, 1, 0, 0, 0, 1, 1, 1, 1],\n",
       "        [1, 1, 0, 0, 1, 1, 0, 0, 0, 1],\n",
       "        [1, 0, 0, 0, 0, 1, 1, 1, 0, 0],\n",
       "        [1, 1, 0, 1, 1, 0, 1, 0, 1, 0],\n",
       "        [1, 1, 0, 1, 0, 0, 0, 0, 0, 0],\n",
       "        [0, 1, 1, 1, 1, 1, 0, 1, 0, 1],\n",
       "        [0, 1, 0, 1, 0, 0, 1, 0, 1, 1],\n",
       "        [0, 0, 1, 1, 1, 1, 1, 1, 0, 0],\n",
       "        [0, 0, 1, 1, 0, 0, 1, 1, 1, 0],\n",
       "        [1, 1, 1, 0, 0, 1, 0, 1, 1, 1],\n",
       "        [0, 0, 0, 0, 0, 0, 0, 0, 0, 1],\n",
       "        [1, 1, 1, 0, 0, 0, 1, 1, 1, 1],\n",
       "        [0, 0, 0, 0, 0, 0, 0, 1, 0, 1],\n",
       "        [0, 0, 0, 0, 1, 0, 0, 0, 0, 0],\n",
       "        [0, 0, 0, 0, 0, 1, 1, 1, 1, 0],\n",
       "        [1, 1, 1, 1, 0, 0, 1, 0, 1, 0],\n",
       "        [1, 1, 0, 1, 1, 0, 1, 1, 0, 0],\n",
       "        [1, 0, 1, 0, 0, 1, 1, 1, 1, 1],\n",
       "        [1, 1, 1, 1, 1, 1, 0, 0, 1, 1],\n",
       "        [1, 1, 1, 1, 0, 0, 0, 0, 0, 0],\n",
       "        [1, 1, 0, 1, 0, 0, 1, 1, 1, 1],\n",
       "        [1, 0, 0, 1, 1, 1, 1, 0, 0, 0],\n",
       "        [0, 1, 0, 0, 1, 0, 0, 0, 0, 1],\n",
       "        [0, 1, 1, 0, 1, 1, 1, 0, 0, 1],\n",
       "        [0, 0, 0, 1, 1, 0, 0, 0, 0, 0],\n",
       "        [1, 0, 0, 1, 1, 1, 1, 1, 1, 0],\n",
       "        [1, 0, 0, 1, 1, 0, 1, 1, 1, 0],\n",
       "        [1, 1, 0, 1, 0, 0, 0, 0, 0, 0],\n",
       "        [1, 1, 1, 0, 0, 0, 0, 0, 1, 1],\n",
       "        [0, 0, 0, 0, 1, 1, 0, 0, 1, 0],\n",
       "        [0, 1, 1, 0, 0, 0, 1, 0, 1, 1],\n",
       "        [0, 1, 1, 0, 1, 1, 1, 1, 1, 1],\n",
       "        [0, 1, 0, 0, 1, 1, 1, 1, 1, 1],\n",
       "        [1, 0, 0, 0, 0, 1, 1, 0, 1, 0],\n",
       "        [0, 0, 1, 0, 0, 1, 1, 0, 0, 1],\n",
       "        [0, 1, 0, 0, 0, 0, 0, 1, 0, 0],\n",
       "        [1, 0, 0, 0, 0, 1, 0, 0, 0, 1],\n",
       "        [1, 0, 1, 0, 0, 0, 0, 0, 0, 0],\n",
       "        [0, 0, 1, 1, 1, 1, 1, 1, 0, 1],\n",
       "        [1, 0, 0, 1, 0, 1, 0, 1, 0, 1],\n",
       "        [0, 1, 0, 1, 0, 0, 1, 1, 1, 0],\n",
       "        [1, 0, 1, 1, 0, 1, 1, 0, 0, 1],\n",
       "        [1, 1, 1, 0, 0, 0, 1, 0, 0, 0],\n",
       "        [1, 0, 0, 0, 1, 0, 0, 1, 1, 0],\n",
       "        [0, 1, 1, 1, 0, 0, 0, 1, 0, 0],\n",
       "        [0, 1, 1, 0, 1, 1, 0, 0, 0, 0],\n",
       "        [0, 0, 0, 0, 0, 0, 1, 0, 0, 1],\n",
       "        [1, 0, 1, 0, 0, 1, 1, 1, 1, 1],\n",
       "        [0, 0, 0, 0, 0, 0, 1, 0, 0, 1],\n",
       "        [1, 0, 0, 1, 1, 0, 1, 0, 0, 0],\n",
       "        [0, 1, 1, 1, 1, 0, 0, 1, 1, 0],\n",
       "        [1, 0, 0, 0, 0, 1, 1, 0, 1, 0],\n",
       "        [1, 1, 0, 0, 1, 1, 0, 1, 1, 1],\n",
       "        [0, 0, 0, 0, 0, 1, 1, 1, 1, 0],\n",
       "        [0, 0, 0, 1, 1, 1, 0, 1, 0, 1],\n",
       "        [0, 1, 0, 0, 0, 0, 1, 0, 1, 1],\n",
       "        [1, 0, 0, 0, 1, 0, 0, 0, 1, 0],\n",
       "        [0, 0, 1, 1, 1, 0, 1, 0, 0, 1],\n",
       "        [1, 1, 1, 0, 1, 0, 1, 0, 1, 1],\n",
       "        [1, 1, 1, 1, 1, 1, 1, 0, 1, 1],\n",
       "        [0, 1, 1, 1, 1, 1, 0, 1, 0, 1],\n",
       "        [0, 1, 0, 1, 1, 1, 0, 1, 1, 1],\n",
       "        [0, 0, 0, 0, 1, 1, 0, 0, 0, 1],\n",
       "        [1, 0, 1, 0, 0, 0, 1, 0, 0, 1],\n",
       "        [1, 0, 1, 1, 1, 0, 1, 0, 0, 1],\n",
       "        [1, 1, 0, 1, 1, 0, 0, 0, 0, 0],\n",
       "        [0, 1, 1, 0, 0, 1, 0, 1, 1, 0],\n",
       "        [0, 0, 0, 1, 0, 0, 0, 0, 1, 0],\n",
       "        [0, 0, 0, 0, 1, 0, 0, 1, 1, 1],\n",
       "        [1, 1, 0, 1, 1, 1, 0, 0, 1, 0],\n",
       "        [1, 1, 0, 0, 1, 1, 0, 0, 1, 0],\n",
       "        [0, 0, 0, 1, 1, 1, 0, 1, 1, 0],\n",
       "        [1, 1, 1, 0, 1, 1, 0, 1, 1, 1],\n",
       "        [0, 1, 0, 0, 1, 0, 1, 0, 0, 1],\n",
       "        [1, 0, 1, 1, 0, 0, 1, 1, 0, 1],\n",
       "        [0, 0, 1, 0, 1, 0, 1, 0, 1, 1],\n",
       "        [0, 1, 0, 1, 0, 0, 1, 0, 1, 0],\n",
       "        [0, 0, 1, 1, 1, 0, 0, 1, 0, 1],\n",
       "        [1, 0, 1, 0, 0, 1, 0, 0, 0, 0],\n",
       "        [1, 0, 0, 1, 0, 0, 0, 0, 0, 1],\n",
       "        [1, 0, 0, 0, 0, 0, 1, 0, 0, 1],\n",
       "        [1, 1, 1, 0, 1, 0, 1, 1, 0, 0],\n",
       "        [1, 0, 0, 0, 1, 0, 0, 1, 1, 1],\n",
       "        [1, 1, 0, 1, 1, 0, 1, 1, 0, 0],\n",
       "        [0, 0, 0, 1, 1, 0, 0, 0, 1, 0],\n",
       "        [0, 1, 0, 0, 1, 0, 1, 0, 0, 0],\n",
       "        [0, 1, 1, 1, 0, 0, 0, 0, 0, 1],\n",
       "        [1, 1, 1, 0, 0, 0, 1, 0, 1, 1],\n",
       "        [1, 1, 0, 1, 0, 1, 1, 0, 1, 0],\n",
       "        [0, 0, 0, 1, 0, 1, 0, 0, 0, 1],\n",
       "        [1, 0, 1, 1, 1, 0, 0, 0, 0, 0],\n",
       "        [0, 1, 1, 1, 1, 1, 0, 0, 0, 1],\n",
       "        [0, 0, 0, 0, 0, 0, 0, 0, 1, 1],\n",
       "        [0, 1, 0, 1, 0, 0, 0, 0, 1, 0],\n",
       "        [1, 0, 0, 1, 1, 0, 0, 1, 1, 0],\n",
       "        [1, 1, 0, 1, 1, 1, 1, 1, 0, 0],\n",
       "        [0, 0, 1, 0, 1, 1, 0, 0, 1, 0],\n",
       "        [1, 0, 0, 1, 0, 1, 1, 0, 1, 0]]))"
      ]
     },
     "execution_count": 11,
     "metadata": {},
     "output_type": "execute_result"
    }
   ],
   "source": [
    "X_2 = np.random.normal(0,1,(100,10))\n",
    "print(X_2.shape)\n",
    "mus_2 = np.random.uniform(0,1,X_2.shape)\n",
    "\n",
    "trapmf(X_2, mus_2)"
   ]
  },
  {
   "cell_type": "code",
   "execution_count": 12,
   "metadata": {},
   "outputs": [],
   "source": [
    "def draw_trapmf(m1, m2, axs, dc=3, l=2,r=2, x=None, mu=None):\n",
    "    axs.plot([m1,m2], np.ones(2))\n",
    "    axs.plot([m1-l,m1],[0,1])\n",
    "    axs.plot([m2,m2+r], [1,0])\n",
    "    axs.plot([x],[mu],'x')\n",
    "    return axs"
   ]
  },
  {
   "cell_type": "code",
   "execution_count": 14,
   "metadata": {},
   "outputs": [],
   "source": [
    "import random\n",
    "import matplotlib.pyplot as plt\n",
    "someidx = random.sample(range(X.shape[0]), 5)\n",
    "\n",
    "fig, axs = plt.subplots(1,1)\n",
    "for x, mu in zip(\n",
    "    X[someidx].reshape(-1),\n",
    "    mus[someidx]\n",
    "):\n",
    "    m1, m2, p = trapmf(np.array([[x]]),np.array([[mu]])) \n",
    "    draw_trapmf(m1.reshape(-1), m2.reshape(-1), axs, x=x, mu=mu)"
   ]
  },
  {
   "cell_type": "code",
   "execution_count": 15,
   "metadata": {},
   "outputs": [],
   "source": [
    "import numpy as np\n",
    "from numpy.linalg import norm\n",
    "\n",
    "def fuzzy_distance(x_1, x_2, lambda_, ro_, L=None, R=None):\n",
    "    cl_1, cr_1, l_1, r_1 = x_1\n",
    "    cl_2, cr_2, l_2, r_2 = x_2\n",
    "    if lambda_ is None:\n",
    "        if L != None:\n",
    "            L_inv = inversefunc(L)\n",
    "            lambda_ = quad(L_inv, 0, 1)\n",
    "        else:\n",
    "            raise NameError('No information about L-side')\n",
    "    if ro_ is None:\n",
    "        if R != None:\n",
    "            R_inv = inversefunc(R)\n",
    "            ro_ = quad(R_inv, 0, 1)\n",
    "        else:\n",
    "            raise NameError('No information about R-side')\n",
    "            \n",
    "    return np.sqrt(\n",
    "        norm(cl_1 - cl_2) ** 2 + norm(cr_1 - cr_2) ** 2 + \\\n",
    "        norm((cl_1 - lambda_ * l_1) - (cl_2 - lambda_ * l_2)) ** 2 +\\\n",
    "        norm((cr_1 - ro_ * r_1) - (cr_2 - ro_ * r_2)) ** 2\n",
    "    )"
   ]
  },
  {
   "cell_type": "code",
   "execution_count": null,
   "metadata": {},
   "outputs": [],
   "source": []
  },
  {
   "cell_type": "code",
   "execution_count": null,
   "metadata": {},
   "outputs": [],
   "source": []
  },
  {
   "cell_type": "markdown",
   "metadata": {},
   "source": [
    "23/05/2021 Solving"
   ]
  },
  {
   "cell_type": "markdown",
   "metadata": {},
   "source": [
    "***Fuzzification***"
   ]
  },
  {
   "cell_type": "code",
   "execution_count": null,
   "metadata": {
    "scrolled": true
   },
   "outputs": [],
   "source": [
    "!pip install sympy"
   ]
  },
  {
   "cell_type": "code",
   "execution_count": 16,
   "metadata": {},
   "outputs": [
    {
     "data": {
      "text/plain": [
       "[-1, 1]"
      ]
     },
     "execution_count": 16,
     "metadata": {},
     "output_type": "execute_result"
    }
   ],
   "source": [
    "import numpy as np\n",
    "from sympy.solvers import solve\n",
    "from sympy import Symbol\n",
    "x = Symbol('x')\n",
    "solve(x**2 - 1, x)"
   ]
  },
  {
   "cell_type": "code",
   "execution_count": 63,
   "metadata": {},
   "outputs": [],
   "source": [
    "from tqdm.notebook import tqdm, trange"
   ]
  },
  {
   "cell_type": "code",
   "execution_count": 17,
   "metadata": {},
   "outputs": [],
   "source": [
    "def mu_func(mus, xs, ps=None, dc=3, l=2, r=2):\n",
    "    m1 = np.zeros(xs.shape)\n",
    "    m2 = np.zeros(xs.shape)\n",
    "    if ps is None:\n",
    "        ps = np.random.binomial(n=1,size=xs.shape, p=0.5)    # probability for left/right slope\n",
    "    dim = xs.shape[1]\n",
    "    for i, (x, mu, p) in tqdm(enumerate(zip(xs, mus, ps)), total=xs.shape[0]):\n",
    "        symbols = []\n",
    "        sols = []\n",
    "        eq = 1\n",
    "        for pj, xj in zip(p, x):\n",
    "            m = Symbol('x')\n",
    "            if pj == 1:\n",
    "                sols.append(solve((1 - (m - xj) / l) - np.power(mu,1/dim), m)[0])\n",
    "            else:\n",
    "                sols.append(solve((1 - (xj - m) / r) - np.power(mu,1/dim), m)[0])\n",
    "        for j in range(dim):\n",
    "            if p[j] == 1:\n",
    "                m1[i][j] = sols[j]\n",
    "                m2[i][j] = m1[i][j] + dc\n",
    "            else:\n",
    "                m2[i][j] = sols[j]\n",
    "                m1[i][j] = m2[i][j] - dc\n",
    "    return m1, m2, ps"
   ]
  },
  {
   "cell_type": "code",
   "execution_count": 18,
   "metadata": {},
   "outputs": [
    {
     "data": {
      "application/vnd.jupyter.widget-view+json": {
       "model_id": "e718f8bab30247ca9dfa450289c595c3",
       "version_major": 2,
       "version_minor": 0
      },
      "text/plain": [
       "  0%|          | 0/1 [00:00<?, ?it/s]"
      ]
     },
     "metadata": {},
     "output_type": "display_data"
    },
    {
     "data": {
      "text/plain": [
       "(array([[ 1.58578644, -3.58578644]]),\n",
       " array([[6.58578644, 1.41421356]]),\n",
       " array([[1, 0]]))"
      ]
     },
     "execution_count": 18,
     "metadata": {},
     "output_type": "execute_result"
    }
   ],
   "source": [
    "mu_func([0.5], np.array([[1,2]]), np.array([[1,0]]), 5, 2, 2)"
   ]
  },
  {
   "cell_type": "code",
   "execution_count": 19,
   "metadata": {},
   "outputs": [],
   "source": [
    "from sklearn.datasets import make_blobs\n",
    "X, y, centers = make_blobs(n_features=2, centers=5, return_centers=True)"
   ]
  },
  {
   "cell_type": "code",
   "execution_count": 3,
   "metadata": {},
   "outputs": [],
   "source": [
    "import numpy as np"
   ]
  },
  {
   "cell_type": "code",
   "execution_count": 4,
   "metadata": {},
   "outputs": [],
   "source": [
    "mus = np.random.uniform(0,1,X.shape).reshape(-1)"
   ]
  },
  {
   "cell_type": "code",
   "execution_count": 8,
   "metadata": {},
   "outputs": [],
   "source": [
    "from tqdm.notebook import tqdm, trange"
   ]
  },
  {
   "cell_type": "code",
   "execution_count": 20,
   "metadata": {},
   "outputs": [
    {
     "data": {
      "application/vnd.jupyter.widget-view+json": {
       "model_id": "e3be9390f568455fb82f7ae4a9ffb4f0",
       "version_major": 2,
       "version_minor": 0
      },
      "text/plain": [
       "  0%|          | 0/100 [00:00<?, ?it/s]"
      ]
     },
     "metadata": {},
     "output_type": "display_data"
    }
   ],
   "source": [
    "m1, m2, p = mu_func(mus, X)"
   ]
  },
  {
   "cell_type": "code",
   "execution_count": 62,
   "metadata": {},
   "outputs": [
    {
     "name": "stdout",
     "output_type": "stream",
     "text": [
      "5.88 s ± 172 ms per loop (mean ± std. dev. of 7 runs, 1 loop each)\n"
     ]
    }
   ],
   "source": [
    "%%timeit\n",
    "mu_func(mus, X)"
   ]
  },
  {
   "cell_type": "code",
   "execution_count": 21,
   "metadata": {},
   "outputs": [],
   "source": [
    "def mu_func_2(mus, xs, ps=None, dc=3, l=2, r=2, verbose=False):\n",
    "    m1 = np.zeros(xs.shape)\n",
    "    m2 = np.zeros(xs.shape)\n",
    "    if ps is None:\n",
    "        ps = np.random.binomial(n=1,size=xs.shape, p=0.5)    # probability for left/right slope\n",
    "    dim = xs.shape[1]\n",
    "    for i, (x, mu, p) in tqdm(enumerate(zip(xs, mus, ps)), leave=verbose, total=xs.shape[0]):\n",
    "        m = (l * p + (1-p) * r) * (1-np.power(mu, 1/dim)) * (2*p-1) + x\n",
    "        m1[i][p == 1] = m[p == 1]\n",
    "        m2[i][p == 0] = m[p == 0]\n",
    "        m1[i][p == 0] = m2[i][p == 0] - dc\n",
    "        m2[i][p == 1] = m1[i][p == 1] + dc\n",
    "    return m1, m2, ps"
   ]
  },
  {
   "cell_type": "code",
   "execution_count": 22,
   "metadata": {
    "scrolled": true
   },
   "outputs": [
    {
     "data": {
      "application/vnd.jupyter.widget-view+json": {
       "model_id": "",
       "version_major": 2,
       "version_minor": 0
      },
      "text/plain": [
       "  0%|          | 0/100 [00:00<?, ?it/s]"
      ]
     },
     "metadata": {},
     "output_type": "display_data"
    }
   ],
   "source": [
    "m1, m2, p = mu_func_2(mus, X)"
   ]
  },
  {
   "cell_type": "code",
   "execution_count": 23,
   "metadata": {},
   "outputs": [],
   "source": [
    "ps = np.random.binomial(n=1,size=X.shape, p=0.5)    # probability for left/right slope"
   ]
  },
  {
   "cell_type": "code",
   "execution_count": 24,
   "metadata": {},
   "outputs": [
    {
     "data": {
      "application/vnd.jupyter.widget-view+json": {
       "model_id": "d4eec7f066824da19792ad4bded0a8b0",
       "version_major": 2,
       "version_minor": 0
      },
      "text/plain": [
       "  0%|          | 0/100 [00:00<?, ?it/s]"
      ]
     },
     "metadata": {},
     "output_type": "display_data"
    }
   ],
   "source": [
    "m1, m2, p = mu_func(mus, X, ps=ps)"
   ]
  },
  {
   "cell_type": "code",
   "execution_count": 25,
   "metadata": {},
   "outputs": [
    {
     "data": {
      "application/vnd.jupyter.widget-view+json": {
       "model_id": "",
       "version_major": 2,
       "version_minor": 0
      },
      "text/plain": [
       "  0%|          | 0/100 [00:00<?, ?it/s]"
      ]
     },
     "metadata": {},
     "output_type": "display_data"
    }
   ],
   "source": [
    "m1_2, m2_2, p = mu_func_2(mus, X, ps=ps)"
   ]
  },
  {
   "cell_type": "code",
   "execution_count": 26,
   "metadata": {},
   "outputs": [
    {
     "data": {
      "application/vnd.jupyter.widget-view+json": {
       "model_id": "",
       "version_major": 2,
       "version_minor": 0
      },
      "text/plain": [
       "  0%|          | 0/100 [00:00<?, ?it/s]"
      ]
     },
     "metadata": {},
     "output_type": "display_data"
    },
    {
     "data": {
      "application/vnd.jupyter.widget-view+json": {
       "model_id": "",
       "version_major": 2,
       "version_minor": 0
      },
      "text/plain": [
       "  0%|          | 0/100 [00:00<?, ?it/s]"
      ]
     },
     "metadata": {},
     "output_type": "display_data"
    },
    {
     "data": {
      "application/vnd.jupyter.widget-view+json": {
       "model_id": "",
       "version_major": 2,
       "version_minor": 0
      },
      "text/plain": [
       "  0%|          | 0/100 [00:00<?, ?it/s]"
      ]
     },
     "metadata": {},
     "output_type": "display_data"
    },
    {
     "data": {
      "application/vnd.jupyter.widget-view+json": {
       "model_id": "",
       "version_major": 2,
       "version_minor": 0
      },
      "text/plain": [
       "  0%|          | 0/100 [00:00<?, ?it/s]"
      ]
     },
     "metadata": {},
     "output_type": "display_data"
    },
    {
     "data": {
      "application/vnd.jupyter.widget-view+json": {
       "model_id": "",
       "version_major": 2,
       "version_minor": 0
      },
      "text/plain": [
       "  0%|          | 0/100 [00:00<?, ?it/s]"
      ]
     },
     "metadata": {},
     "output_type": "display_data"
    },
    {
     "data": {
      "application/vnd.jupyter.widget-view+json": {
       "model_id": "",
       "version_major": 2,
       "version_minor": 0
      },
      "text/plain": [
       "  0%|          | 0/100 [00:00<?, ?it/s]"
      ]
     },
     "metadata": {},
     "output_type": "display_data"
    },
    {
     "data": {
      "application/vnd.jupyter.widget-view+json": {
       "model_id": "",
       "version_major": 2,
       "version_minor": 0
      },
      "text/plain": [
       "  0%|          | 0/100 [00:00<?, ?it/s]"
      ]
     },
     "metadata": {},
     "output_type": "display_data"
    },
    {
     "data": {
      "application/vnd.jupyter.widget-view+json": {
       "model_id": "",
       "version_major": 2,
       "version_minor": 0
      },
      "text/plain": [
       "  0%|          | 0/100 [00:00<?, ?it/s]"
      ]
     },
     "metadata": {},
     "output_type": "display_data"
    },
    {
     "data": {
      "application/vnd.jupyter.widget-view+json": {
       "model_id": "",
       "version_major": 2,
       "version_minor": 0
      },
      "text/plain": [
       "  0%|          | 0/100 [00:00<?, ?it/s]"
      ]
     },
     "metadata": {},
     "output_type": "display_data"
    },
    {
     "data": {
      "application/vnd.jupyter.widget-view+json": {
       "model_id": "",
       "version_major": 2,
       "version_minor": 0
      },
      "text/plain": [
       "  0%|          | 0/100 [00:00<?, ?it/s]"
      ]
     },
     "metadata": {},
     "output_type": "display_data"
    },
    {
     "data": {
      "application/vnd.jupyter.widget-view+json": {
       "model_id": "",
       "version_major": 2,
       "version_minor": 0
      },
      "text/plain": [
       "  0%|          | 0/100 [00:00<?, ?it/s]"
      ]
     },
     "metadata": {},
     "output_type": "display_data"
    },
    {
     "data": {
      "application/vnd.jupyter.widget-view+json": {
       "model_id": "",
       "version_major": 2,
       "version_minor": 0
      },
      "text/plain": [
       "  0%|          | 0/100 [00:00<?, ?it/s]"
      ]
     },
     "metadata": {},
     "output_type": "display_data"
    },
    {
     "data": {
      "application/vnd.jupyter.widget-view+json": {
       "model_id": "",
       "version_major": 2,
       "version_minor": 0
      },
      "text/plain": [
       "  0%|          | 0/100 [00:00<?, ?it/s]"
      ]
     },
     "metadata": {},
     "output_type": "display_data"
    },
    {
     "data": {
      "application/vnd.jupyter.widget-view+json": {
       "model_id": "",
       "version_major": 2,
       "version_minor": 0
      },
      "text/plain": [
       "  0%|          | 0/100 [00:00<?, ?it/s]"
      ]
     },
     "metadata": {},
     "output_type": "display_data"
    },
    {
     "data": {
      "application/vnd.jupyter.widget-view+json": {
       "model_id": "",
       "version_major": 2,
       "version_minor": 0
      },
      "text/plain": [
       "  0%|          | 0/100 [00:00<?, ?it/s]"
      ]
     },
     "metadata": {},
     "output_type": "display_data"
    },
    {
     "data": {
      "application/vnd.jupyter.widget-view+json": {
       "model_id": "",
       "version_major": 2,
       "version_minor": 0
      },
      "text/plain": [
       "  0%|          | 0/100 [00:00<?, ?it/s]"
      ]
     },
     "metadata": {},
     "output_type": "display_data"
    },
    {
     "data": {
      "application/vnd.jupyter.widget-view+json": {
       "model_id": "",
       "version_major": 2,
       "version_minor": 0
      },
      "text/plain": [
       "  0%|          | 0/100 [00:00<?, ?it/s]"
      ]
     },
     "metadata": {},
     "output_type": "display_data"
    },
    {
     "data": {
      "application/vnd.jupyter.widget-view+json": {
       "model_id": "",
       "version_major": 2,
       "version_minor": 0
      },
      "text/plain": [
       "  0%|          | 0/100 [00:00<?, ?it/s]"
      ]
     },
     "metadata": {},
     "output_type": "display_data"
    },
    {
     "data": {
      "application/vnd.jupyter.widget-view+json": {
       "model_id": "",
       "version_major": 2,
       "version_minor": 0
      },
      "text/plain": [
       "  0%|          | 0/100 [00:00<?, ?it/s]"
      ]
     },
     "metadata": {},
     "output_type": "display_data"
    },
    {
     "data": {
      "application/vnd.jupyter.widget-view+json": {
       "model_id": "",
       "version_major": 2,
       "version_minor": 0
      },
      "text/plain": [
       "  0%|          | 0/100 [00:00<?, ?it/s]"
      ]
     },
     "metadata": {},
     "output_type": "display_data"
    },
    {
     "data": {
      "application/vnd.jupyter.widget-view+json": {
       "model_id": "",
       "version_major": 2,
       "version_minor": 0
      },
      "text/plain": [
       "  0%|          | 0/100 [00:00<?, ?it/s]"
      ]
     },
     "metadata": {},
     "output_type": "display_data"
    },
    {
     "data": {
      "application/vnd.jupyter.widget-view+json": {
       "model_id": "",
       "version_major": 2,
       "version_minor": 0
      },
      "text/plain": [
       "  0%|          | 0/100 [00:00<?, ?it/s]"
      ]
     },
     "metadata": {},
     "output_type": "display_data"
    },
    {
     "data": {
      "application/vnd.jupyter.widget-view+json": {
       "model_id": "",
       "version_major": 2,
       "version_minor": 0
      },
      "text/plain": [
       "  0%|          | 0/100 [00:00<?, ?it/s]"
      ]
     },
     "metadata": {},
     "output_type": "display_data"
    },
    {
     "data": {
      "application/vnd.jupyter.widget-view+json": {
       "model_id": "",
       "version_major": 2,
       "version_minor": 0
      },
      "text/plain": [
       "  0%|          | 0/100 [00:00<?, ?it/s]"
      ]
     },
     "metadata": {},
     "output_type": "display_data"
    },
    {
     "data": {
      "application/vnd.jupyter.widget-view+json": {
       "model_id": "",
       "version_major": 2,
       "version_minor": 0
      },
      "text/plain": [
       "  0%|          | 0/100 [00:00<?, ?it/s]"
      ]
     },
     "metadata": {},
     "output_type": "display_data"
    },
    {
     "data": {
      "application/vnd.jupyter.widget-view+json": {
       "model_id": "",
       "version_major": 2,
       "version_minor": 0
      },
      "text/plain": [
       "  0%|          | 0/100 [00:00<?, ?it/s]"
      ]
     },
     "metadata": {},
     "output_type": "display_data"
    },
    {
     "data": {
      "application/vnd.jupyter.widget-view+json": {
       "model_id": "",
       "version_major": 2,
       "version_minor": 0
      },
      "text/plain": [
       "  0%|          | 0/100 [00:00<?, ?it/s]"
      ]
     },
     "metadata": {},
     "output_type": "display_data"
    },
    {
     "data": {
      "application/vnd.jupyter.widget-view+json": {
       "model_id": "",
       "version_major": 2,
       "version_minor": 0
      },
      "text/plain": [
       "  0%|          | 0/100 [00:00<?, ?it/s]"
      ]
     },
     "metadata": {},
     "output_type": "display_data"
    },
    {
     "data": {
      "application/vnd.jupyter.widget-view+json": {
       "model_id": "",
       "version_major": 2,
       "version_minor": 0
      },
      "text/plain": [
       "  0%|          | 0/100 [00:00<?, ?it/s]"
      ]
     },
     "metadata": {},
     "output_type": "display_data"
    },
    {
     "data": {
      "application/vnd.jupyter.widget-view+json": {
       "model_id": "",
       "version_major": 2,
       "version_minor": 0
      },
      "text/plain": [
       "  0%|          | 0/100 [00:00<?, ?it/s]"
      ]
     },
     "metadata": {},
     "output_type": "display_data"
    },
    {
     "data": {
      "application/vnd.jupyter.widget-view+json": {
       "model_id": "",
       "version_major": 2,
       "version_minor": 0
      },
      "text/plain": [
       "  0%|          | 0/100 [00:00<?, ?it/s]"
      ]
     },
     "metadata": {},
     "output_type": "display_data"
    },
    {
     "data": {
      "application/vnd.jupyter.widget-view+json": {
       "model_id": "",
       "version_major": 2,
       "version_minor": 0
      },
      "text/plain": [
       "  0%|          | 0/100 [00:00<?, ?it/s]"
      ]
     },
     "metadata": {},
     "output_type": "display_data"
    },
    {
     "data": {
      "application/vnd.jupyter.widget-view+json": {
       "model_id": "",
       "version_major": 2,
       "version_minor": 0
      },
      "text/plain": [
       "  0%|          | 0/100 [00:00<?, ?it/s]"
      ]
     },
     "metadata": {},
     "output_type": "display_data"
    },
    {
     "data": {
      "application/vnd.jupyter.widget-view+json": {
       "model_id": "",
       "version_major": 2,
       "version_minor": 0
      },
      "text/plain": [
       "  0%|          | 0/100 [00:00<?, ?it/s]"
      ]
     },
     "metadata": {},
     "output_type": "display_data"
    },
    {
     "data": {
      "application/vnd.jupyter.widget-view+json": {
       "model_id": "",
       "version_major": 2,
       "version_minor": 0
      },
      "text/plain": [
       "  0%|          | 0/100 [00:00<?, ?it/s]"
      ]
     },
     "metadata": {},
     "output_type": "display_data"
    },
    {
     "data": {
      "application/vnd.jupyter.widget-view+json": {
       "model_id": "",
       "version_major": 2,
       "version_minor": 0
      },
      "text/plain": [
       "  0%|          | 0/100 [00:00<?, ?it/s]"
      ]
     },
     "metadata": {},
     "output_type": "display_data"
    },
    {
     "data": {
      "application/vnd.jupyter.widget-view+json": {
       "model_id": "",
       "version_major": 2,
       "version_minor": 0
      },
      "text/plain": [
       "  0%|          | 0/100 [00:00<?, ?it/s]"
      ]
     },
     "metadata": {},
     "output_type": "display_data"
    },
    {
     "data": {
      "application/vnd.jupyter.widget-view+json": {
       "model_id": "",
       "version_major": 2,
       "version_minor": 0
      },
      "text/plain": [
       "  0%|          | 0/100 [00:00<?, ?it/s]"
      ]
     },
     "metadata": {},
     "output_type": "display_data"
    },
    {
     "data": {
      "application/vnd.jupyter.widget-view+json": {
       "model_id": "",
       "version_major": 2,
       "version_minor": 0
      },
      "text/plain": [
       "  0%|          | 0/100 [00:00<?, ?it/s]"
      ]
     },
     "metadata": {},
     "output_type": "display_data"
    },
    {
     "data": {
      "application/vnd.jupyter.widget-view+json": {
       "model_id": "",
       "version_major": 2,
       "version_minor": 0
      },
      "text/plain": [
       "  0%|          | 0/100 [00:00<?, ?it/s]"
      ]
     },
     "metadata": {},
     "output_type": "display_data"
    },
    {
     "data": {
      "application/vnd.jupyter.widget-view+json": {
       "model_id": "",
       "version_major": 2,
       "version_minor": 0
      },
      "text/plain": [
       "  0%|          | 0/100 [00:00<?, ?it/s]"
      ]
     },
     "metadata": {},
     "output_type": "display_data"
    },
    {
     "data": {
      "application/vnd.jupyter.widget-view+json": {
       "model_id": "",
       "version_major": 2,
       "version_minor": 0
      },
      "text/plain": [
       "  0%|          | 0/100 [00:00<?, ?it/s]"
      ]
     },
     "metadata": {},
     "output_type": "display_data"
    },
    {
     "data": {
      "application/vnd.jupyter.widget-view+json": {
       "model_id": "",
       "version_major": 2,
       "version_minor": 0
      },
      "text/plain": [
       "  0%|          | 0/100 [00:00<?, ?it/s]"
      ]
     },
     "metadata": {},
     "output_type": "display_data"
    },
    {
     "data": {
      "application/vnd.jupyter.widget-view+json": {
       "model_id": "",
       "version_major": 2,
       "version_minor": 0
      },
      "text/plain": [
       "  0%|          | 0/100 [00:00<?, ?it/s]"
      ]
     },
     "metadata": {},
     "output_type": "display_data"
    },
    {
     "data": {
      "application/vnd.jupyter.widget-view+json": {
       "model_id": "",
       "version_major": 2,
       "version_minor": 0
      },
      "text/plain": [
       "  0%|          | 0/100 [00:00<?, ?it/s]"
      ]
     },
     "metadata": {},
     "output_type": "display_data"
    },
    {
     "data": {
      "application/vnd.jupyter.widget-view+json": {
       "model_id": "",
       "version_major": 2,
       "version_minor": 0
      },
      "text/plain": [
       "  0%|          | 0/100 [00:00<?, ?it/s]"
      ]
     },
     "metadata": {},
     "output_type": "display_data"
    },
    {
     "data": {
      "application/vnd.jupyter.widget-view+json": {
       "model_id": "",
       "version_major": 2,
       "version_minor": 0
      },
      "text/plain": [
       "  0%|          | 0/100 [00:00<?, ?it/s]"
      ]
     },
     "metadata": {},
     "output_type": "display_data"
    },
    {
     "data": {
      "application/vnd.jupyter.widget-view+json": {
       "model_id": "",
       "version_major": 2,
       "version_minor": 0
      },
      "text/plain": [
       "  0%|          | 0/100 [00:00<?, ?it/s]"
      ]
     },
     "metadata": {},
     "output_type": "display_data"
    },
    {
     "data": {
      "application/vnd.jupyter.widget-view+json": {
       "model_id": "",
       "version_major": 2,
       "version_minor": 0
      },
      "text/plain": [
       "  0%|          | 0/100 [00:00<?, ?it/s]"
      ]
     },
     "metadata": {},
     "output_type": "display_data"
    },
    {
     "data": {
      "application/vnd.jupyter.widget-view+json": {
       "model_id": "",
       "version_major": 2,
       "version_minor": 0
      },
      "text/plain": [
       "  0%|          | 0/100 [00:00<?, ?it/s]"
      ]
     },
     "metadata": {},
     "output_type": "display_data"
    },
    {
     "data": {
      "application/vnd.jupyter.widget-view+json": {
       "model_id": "",
       "version_major": 2,
       "version_minor": 0
      },
      "text/plain": [
       "  0%|          | 0/100 [00:00<?, ?it/s]"
      ]
     },
     "metadata": {},
     "output_type": "display_data"
    },
    {
     "data": {
      "application/vnd.jupyter.widget-view+json": {
       "model_id": "",
       "version_major": 2,
       "version_minor": 0
      },
      "text/plain": [
       "  0%|          | 0/100 [00:00<?, ?it/s]"
      ]
     },
     "metadata": {},
     "output_type": "display_data"
    },
    {
     "data": {
      "application/vnd.jupyter.widget-view+json": {
       "model_id": "",
       "version_major": 2,
       "version_minor": 0
      },
      "text/plain": [
       "  0%|          | 0/100 [00:00<?, ?it/s]"
      ]
     },
     "metadata": {},
     "output_type": "display_data"
    },
    {
     "data": {
      "application/vnd.jupyter.widget-view+json": {
       "model_id": "",
       "version_major": 2,
       "version_minor": 0
      },
      "text/plain": [
       "  0%|          | 0/100 [00:00<?, ?it/s]"
      ]
     },
     "metadata": {},
     "output_type": "display_data"
    },
    {
     "data": {
      "application/vnd.jupyter.widget-view+json": {
       "model_id": "",
       "version_major": 2,
       "version_minor": 0
      },
      "text/plain": [
       "  0%|          | 0/100 [00:00<?, ?it/s]"
      ]
     },
     "metadata": {},
     "output_type": "display_data"
    },
    {
     "data": {
      "application/vnd.jupyter.widget-view+json": {
       "model_id": "",
       "version_major": 2,
       "version_minor": 0
      },
      "text/plain": [
       "  0%|          | 0/100 [00:00<?, ?it/s]"
      ]
     },
     "metadata": {},
     "output_type": "display_data"
    },
    {
     "data": {
      "application/vnd.jupyter.widget-view+json": {
       "model_id": "",
       "version_major": 2,
       "version_minor": 0
      },
      "text/plain": [
       "  0%|          | 0/100 [00:00<?, ?it/s]"
      ]
     },
     "metadata": {},
     "output_type": "display_data"
    },
    {
     "data": {
      "application/vnd.jupyter.widget-view+json": {
       "model_id": "",
       "version_major": 2,
       "version_minor": 0
      },
      "text/plain": [
       "  0%|          | 0/100 [00:00<?, ?it/s]"
      ]
     },
     "metadata": {},
     "output_type": "display_data"
    },
    {
     "data": {
      "application/vnd.jupyter.widget-view+json": {
       "model_id": "",
       "version_major": 2,
       "version_minor": 0
      },
      "text/plain": [
       "  0%|          | 0/100 [00:00<?, ?it/s]"
      ]
     },
     "metadata": {},
     "output_type": "display_data"
    },
    {
     "data": {
      "application/vnd.jupyter.widget-view+json": {
       "model_id": "",
       "version_major": 2,
       "version_minor": 0
      },
      "text/plain": [
       "  0%|          | 0/100 [00:00<?, ?it/s]"
      ]
     },
     "metadata": {},
     "output_type": "display_data"
    },
    {
     "data": {
      "application/vnd.jupyter.widget-view+json": {
       "model_id": "",
       "version_major": 2,
       "version_minor": 0
      },
      "text/plain": [
       "  0%|          | 0/100 [00:00<?, ?it/s]"
      ]
     },
     "metadata": {},
     "output_type": "display_data"
    },
    {
     "data": {
      "application/vnd.jupyter.widget-view+json": {
       "model_id": "",
       "version_major": 2,
       "version_minor": 0
      },
      "text/plain": [
       "  0%|          | 0/100 [00:00<?, ?it/s]"
      ]
     },
     "metadata": {},
     "output_type": "display_data"
    },
    {
     "data": {
      "application/vnd.jupyter.widget-view+json": {
       "model_id": "",
       "version_major": 2,
       "version_minor": 0
      },
      "text/plain": [
       "  0%|          | 0/100 [00:00<?, ?it/s]"
      ]
     },
     "metadata": {},
     "output_type": "display_data"
    },
    {
     "data": {
      "application/vnd.jupyter.widget-view+json": {
       "model_id": "",
       "version_major": 2,
       "version_minor": 0
      },
      "text/plain": [
       "  0%|          | 0/100 [00:00<?, ?it/s]"
      ]
     },
     "metadata": {},
     "output_type": "display_data"
    },
    {
     "data": {
      "application/vnd.jupyter.widget-view+json": {
       "model_id": "",
       "version_major": 2,
       "version_minor": 0
      },
      "text/plain": [
       "  0%|          | 0/100 [00:00<?, ?it/s]"
      ]
     },
     "metadata": {},
     "output_type": "display_data"
    },
    {
     "data": {
      "application/vnd.jupyter.widget-view+json": {
       "model_id": "",
       "version_major": 2,
       "version_minor": 0
      },
      "text/plain": [
       "  0%|          | 0/100 [00:00<?, ?it/s]"
      ]
     },
     "metadata": {},
     "output_type": "display_data"
    },
    {
     "data": {
      "application/vnd.jupyter.widget-view+json": {
       "model_id": "",
       "version_major": 2,
       "version_minor": 0
      },
      "text/plain": [
       "  0%|          | 0/100 [00:00<?, ?it/s]"
      ]
     },
     "metadata": {},
     "output_type": "display_data"
    },
    {
     "data": {
      "application/vnd.jupyter.widget-view+json": {
       "model_id": "",
       "version_major": 2,
       "version_minor": 0
      },
      "text/plain": [
       "  0%|          | 0/100 [00:00<?, ?it/s]"
      ]
     },
     "metadata": {},
     "output_type": "display_data"
    },
    {
     "data": {
      "application/vnd.jupyter.widget-view+json": {
       "model_id": "",
       "version_major": 2,
       "version_minor": 0
      },
      "text/plain": [
       "  0%|          | 0/100 [00:00<?, ?it/s]"
      ]
     },
     "metadata": {},
     "output_type": "display_data"
    },
    {
     "data": {
      "application/vnd.jupyter.widget-view+json": {
       "model_id": "",
       "version_major": 2,
       "version_minor": 0
      },
      "text/plain": [
       "  0%|          | 0/100 [00:00<?, ?it/s]"
      ]
     },
     "metadata": {},
     "output_type": "display_data"
    },
    {
     "data": {
      "application/vnd.jupyter.widget-view+json": {
       "model_id": "",
       "version_major": 2,
       "version_minor": 0
      },
      "text/plain": [
       "  0%|          | 0/100 [00:00<?, ?it/s]"
      ]
     },
     "metadata": {},
     "output_type": "display_data"
    },
    {
     "data": {
      "application/vnd.jupyter.widget-view+json": {
       "model_id": "",
       "version_major": 2,
       "version_minor": 0
      },
      "text/plain": [
       "  0%|          | 0/100 [00:00<?, ?it/s]"
      ]
     },
     "metadata": {},
     "output_type": "display_data"
    },
    {
     "data": {
      "application/vnd.jupyter.widget-view+json": {
       "model_id": "",
       "version_major": 2,
       "version_minor": 0
      },
      "text/plain": [
       "  0%|          | 0/100 [00:00<?, ?it/s]"
      ]
     },
     "metadata": {},
     "output_type": "display_data"
    },
    {
     "data": {
      "application/vnd.jupyter.widget-view+json": {
       "model_id": "",
       "version_major": 2,
       "version_minor": 0
      },
      "text/plain": [
       "  0%|          | 0/100 [00:00<?, ?it/s]"
      ]
     },
     "metadata": {},
     "output_type": "display_data"
    },
    {
     "data": {
      "application/vnd.jupyter.widget-view+json": {
       "model_id": "",
       "version_major": 2,
       "version_minor": 0
      },
      "text/plain": [
       "  0%|          | 0/100 [00:00<?, ?it/s]"
      ]
     },
     "metadata": {},
     "output_type": "display_data"
    },
    {
     "data": {
      "application/vnd.jupyter.widget-view+json": {
       "model_id": "",
       "version_major": 2,
       "version_minor": 0
      },
      "text/plain": [
       "  0%|          | 0/100 [00:00<?, ?it/s]"
      ]
     },
     "metadata": {},
     "output_type": "display_data"
    },
    {
     "data": {
      "application/vnd.jupyter.widget-view+json": {
       "model_id": "",
       "version_major": 2,
       "version_minor": 0
      },
      "text/plain": [
       "  0%|          | 0/100 [00:00<?, ?it/s]"
      ]
     },
     "metadata": {},
     "output_type": "display_data"
    },
    {
     "data": {
      "application/vnd.jupyter.widget-view+json": {
       "model_id": "",
       "version_major": 2,
       "version_minor": 0
      },
      "text/plain": [
       "  0%|          | 0/100 [00:00<?, ?it/s]"
      ]
     },
     "metadata": {},
     "output_type": "display_data"
    },
    {
     "data": {
      "application/vnd.jupyter.widget-view+json": {
       "model_id": "",
       "version_major": 2,
       "version_minor": 0
      },
      "text/plain": [
       "  0%|          | 0/100 [00:00<?, ?it/s]"
      ]
     },
     "metadata": {},
     "output_type": "display_data"
    },
    {
     "data": {
      "application/vnd.jupyter.widget-view+json": {
       "model_id": "",
       "version_major": 2,
       "version_minor": 0
      },
      "text/plain": [
       "  0%|          | 0/100 [00:00<?, ?it/s]"
      ]
     },
     "metadata": {},
     "output_type": "display_data"
    },
    {
     "data": {
      "application/vnd.jupyter.widget-view+json": {
       "model_id": "",
       "version_major": 2,
       "version_minor": 0
      },
      "text/plain": [
       "  0%|          | 0/100 [00:00<?, ?it/s]"
      ]
     },
     "metadata": {},
     "output_type": "display_data"
    },
    {
     "name": "stdout",
     "output_type": "stream",
     "text": [
      "39.4 ms ± 3.48 ms per loop (mean ± std. dev. of 7 runs, 10 loops each)\n"
     ]
    }
   ],
   "source": [
    "%%timeit\n",
    "mu_func_2(mus, X)"
   ]
  },
  {
   "cell_type": "code",
   "execution_count": 70,
   "metadata": {},
   "outputs": [
    {
     "data": {
      "text/plain": [
       "array([ 4.95649791, -1.14462532,  4.38150001])"
      ]
     },
     "execution_count": 70,
     "metadata": {},
     "output_type": "execute_result"
    }
   ],
   "source": [
    "m1[:3,0]"
   ]
  },
  {
   "cell_type": "code",
   "execution_count": 71,
   "metadata": {},
   "outputs": [
    {
     "data": {
      "text/plain": [
       "array([7.95649791, 1.85537468, 7.38150001])"
      ]
     },
     "execution_count": 71,
     "metadata": {},
     "output_type": "execute_result"
    }
   ],
   "source": [
    "m2[:3,0]"
   ]
  },
  {
   "cell_type": "code",
   "execution_count": 27,
   "metadata": {},
   "outputs": [],
   "source": [
    "def draw_trapmf(m1, m2, axs, dc=3, l=2,r=2, x=None, mu=None):\n",
    "    axs.plot([m1,m2], np.ones(2))\n",
    "    axs.plot([m1-l,m1],[0,1])\n",
    "    axs.plot([m2,m2+r], [1,0])\n",
    "    axs.plot([x],[mu],'x')\n",
    "    return axs"
   ]
  },
  {
   "cell_type": "code",
   "execution_count": 28,
   "metadata": {},
   "outputs": [],
   "source": [
    "import matplotlib.pyplot as plt\n",
    "import seaborn as sns"
   ]
  },
  {
   "cell_type": "code",
   "execution_count": 37,
   "metadata": {},
   "outputs": [
    {
     "data": {
      "text/plain": [
       "<AxesSubplot:>"
      ]
     },
     "execution_count": 37,
     "metadata": {},
     "output_type": "execute_result"
    },
    {
     "data": {
      "image/png": "[encoded data removed]",
      "text/plain": [
       "<Figure size 432x288 with 1 Axes>"
      ]
     },
     "metadata": {},
     "output_type": "display_data"
    }
   ],
   "source": [
    "fig, axs = plt.subplots(1,1)\n",
    "draw_trapmf(m1[:,1], m2[:,1], x=X[2,1], mu=mus[2], axs=axs)"
   ]
  },
  {
   "cell_type": "code",
   "execution_count": 46,
   "metadata": {},
   "outputs": [
    {
     "data": {
      "application/vnd.jupyter.widget-view+json": {
       "model_id": "7d2dfe56ab2d4f1e9deac95bd303b02c",
       "version_major": 2,
       "version_minor": 0
      },
      "text/plain": [
       "  0%|          | 0/5 [00:00<?, ?it/s]"
      ]
     },
     "metadata": {},
     "output_type": "display_data"
    },
    {
     "data": {
      "image/png": "[encoded data removed]",
      "text/plain": [
       "<Figure size 432x288 with 1 Axes>"
      ]
     },
     "metadata": {},
     "output_type": "display_data"
    }
   ],
   "source": [
    "import random\n",
    "someidx = random.sample(range(X.shape[0]), 5)\n",
    "sns.set_style('whitegrid')\n",
    "m1, m2, p = mu_func(mus[someidx], X[someidx])\n",
    "fig, axs = plt.subplots(1,1,figsize=(6,4))\n",
    "for ft, ax in zip(range(X.shape[1]-1), [axs]):\n",
    "    ax.set(ylabel='mu(x)', xlabel='x')\n",
    "    ax.set_title('Нечёткие числа')\n",
    "    for x, mu, m1_, m2_ in zip(X[someidx,ft], mus[someidx],m1[:,ft],m2[:,ft]):\n",
    "        draw_trapmf(m1_, m2_, ax, x=x, mu=mu)"
   ]
  },
  {
   "cell_type": "code",
   "execution_count": 89,
   "metadata": {},
   "outputs": [
    {
     "data": {
      "application/vnd.jupyter.widget-view+json": {
       "model_id": "9049d892bff743389a2c795b65fca51c",
       "version_major": 2,
       "version_minor": 0
      },
      "text/plain": [
       "  0%|          | 0/5 [00:00<?, ?it/s]"
      ]
     },
     "metadata": {},
     "output_type": "display_data"
    },
    {
     "data": {
      "image/png": "[encoded data removed]",
      "text/plain": [
       "<Figure size 1080x360 with 2 Axes>"
      ]
     },
     "metadata": {},
     "output_type": "display_data"
    }
   ],
   "source": [
    "import random\n",
    "someidx = random.sample(range(X.shape[0]), 5)\n",
    "sns.set_style('whitegrid')\n",
    "m1, m2, p = mu_func(mus[someidx], X[someidx])\n",
    "fig, axs = plt.subplots(1,2,figsize=(15,5))\n",
    "for ft, ax in zip(range(X.shape[1]), axs.reshape(-1)):\n",
    "    for x, mu, m1_, m2_ in zip(X[someidx,ft], mus[someidx],m1[:,ft],m2[:,ft]):\n",
    "        draw_trapmf(m1_, m2_, ax, x=x, mu=mu)"
   ]
  },
  {
   "cell_type": "markdown",
   "metadata": {},
   "source": [
    "***Calculating distances***"
   ]
  },
  {
   "cell_type": "code",
   "execution_count": 93,
   "metadata": {},
   "outputs": [
    {
     "data": {
      "text/plain": [
       "array(4.)"
      ]
     },
     "execution_count": 93,
     "metadata": {},
     "output_type": "execute_result"
    }
   ],
   "source": [
    "from pynverse import inversefunc    # to get inverse function\n",
    "inv = inversefunc((lambda x: x** 2))\n",
    "inv(16)"
   ]
  },
  {
   "cell_type": "code",
   "execution_count": 94,
   "metadata": {},
   "outputs": [],
   "source": [
    "from scipy.integrate import quad    # for integrating"
   ]
  },
  {
   "cell_type": "code",
   "execution_count": 114,
   "metadata": {},
   "outputs": [
    {
     "data": {
      "text/plain": [
       "(0.49999999999999994, 5.551115123125782e-15)"
      ]
     },
     "execution_count": 114,
     "metadata": {},
     "output_type": "execute_result"
    }
   ],
   "source": [
    "quad(inversefunc(lambda x: 1-x),0,1)"
   ]
  },
  {
   "cell_type": "code",
   "execution_count": 110,
   "metadata": {},
   "outputs": [],
   "source": [
    "import numpy as np\n",
    "from numpy.linalg import norm\n",
    "\n",
    "def fuzzy_distance(x_1, x_2, lambda_=.5, ro_=.5, L=None, R=None):\n",
    "    m1_1, m2_1, l_1, r_1 = x_1\n",
    "    m1_2, m2_2, l_2, r_2 = x_2\n",
    "    if lambda_ is None:\n",
    "        if L != None:\n",
    "            L_inv = inversefunc(L)\n",
    "            lambda_ = quad(L_inv, 0, 1)[0]\n",
    "        else:\n",
    "            raise NameError('No information about L-side')\n",
    "    if ro_ is None:\n",
    "        if R != None:\n",
    "            R_inv = inversefunc(R)\n",
    "            ro_ = quad(R_inv, 0, 1)[0]\n",
    "        else:\n",
    "            raise NameError('No information about R-side')\n",
    "            \n",
    "    return np.sqrt(\n",
    "        norm(m1_1 - m1_2) ** 2 + norm(m2_1 - m2_2) ** 2 + \\\n",
    "        norm((m1_1 - lambda_ * l_1) - (m1_2 - lambda_ * l_2)) ** 2 +\\\n",
    "        norm((m2_1 - ro_ * r_1) - (m2_2 - ro_ * r_2)) ** 2\n",
    "    )"
   ]
  },
  {
   "cell_type": "code",
   "execution_count": 100,
   "metadata": {},
   "outputs": [],
   "source": [
    "from scipy.spatial.distance import pdist"
   ]
  },
  {
   "cell_type": "code",
   "execution_count": 108,
   "metadata": {},
   "outputs": [],
   "source": [
    "X_fuzzy = list(zip(m1, m2,np.full(X.shape[0], 2),np.full(X.shape[0], 2)))"
   ]
  },
  {
   "cell_type": "code",
   "execution_count": 98,
   "metadata": {},
   "outputs": [
    {
     "data": {
      "text/plain": [
       "42.23377671748375"
      ]
     },
     "execution_count": 98,
     "metadata": {},
     "output_type": "execute_result"
    }
   ],
   "source": [
    "fuzzy_distance((m1[0],m2[0],2,2), (m1[1],m2[1],2,2))"
   ]
  },
  {
   "cell_type": "code",
   "execution_count": 112,
   "metadata": {},
   "outputs": [
    {
     "name": "stdout",
     "output_type": "stream",
     "text": [
      "520 µs ± 21.2 µs per loop (mean ± std. dev. of 7 runs, 1000 loops each)\n"
     ]
    }
   ],
   "source": [
    "%%timeit\n",
    "pdist(X_fuzzy, fuzzy_distance)"
   ]
  },
  {
   "cell_type": "code",
   "execution_count": 113,
   "metadata": {},
   "outputs": [
    {
     "data": {
      "text/plain": [
       "array([42.23377672, 14.9369482 , 10.25939129, 27.03612967, 57.10152835,\n",
       "       32.26680615, 16.73463787, 24.88448668, 41.9290475 , 18.13388446])"
      ]
     },
     "execution_count": 113,
     "metadata": {},
     "output_type": "execute_result"
    }
   ],
   "source": [
    "pdist(X_fuzzy, fuzzy_distance)"
   ]
  },
  {
   "cell_type": "code",
   "execution_count": null,
   "metadata": {},
   "outputs": [],
   "source": []
  },
  {
   "cell_type": "code",
   "execution_count": 168,
   "metadata": {},
   "outputs": [],
   "source": [
    "def fuzzify(X, mus, l=2, r=2, dc=3):\n",
    "    m1, m2, p = mu_func(mus, X, l=l, r=r, dc=dc)\n",
    "    X_fuzzy = np.array(list(zip(m1, m2, np.full(X.shape[0], l), np.full(X.shape[0], r))), dtype=object)\n",
    "    return X_fuzzy"
   ]
  },
  {
   "cell_type": "code",
   "execution_count": 121,
   "metadata": {},
   "outputs": [],
   "source": [
    "X_5, y_5 = make_blobs(n_features=5,centers=4)\n",
    "mu_5 = np.random.uniform(0,1,X_5.shape[0])"
   ]
  },
  {
   "cell_type": "code",
   "execution_count": 169,
   "metadata": {},
   "outputs": [
    {
     "data": {
      "application/vnd.jupyter.widget-view+json": {
       "model_id": "062894ce716944bb8e2e2cdfef1569d1",
       "version_major": 2,
       "version_minor": 0
      },
      "text/plain": [
       "  0%|          | 0/100 [00:00<?, ?it/s]"
      ]
     },
     "metadata": {},
     "output_type": "display_data"
    }
   ],
   "source": [
    "X_5_fuzzy = fuzzify(X_5, mu_5)"
   ]
  },
  {
   "cell_type": "code",
   "execution_count": 171,
   "metadata": {},
   "outputs": [
    {
     "data": {
      "text/plain": [
       "array([array([  5.15848476, -10.15705944,  -1.5981618 ,  -5.10922108,\n",
       "               -3.09761737])                                         ,\n",
       "       array([ 8.15848476, -7.15705944,  1.4018382 , -2.10922108, -0.09761737]),\n",
       "       2, 2], dtype=object)"
      ]
     },
     "execution_count": 171,
     "metadata": {},
     "output_type": "execute_result"
    }
   ],
   "source": [
    "X_5_fuzzy[0]"
   ]
  },
  {
   "cell_type": "code",
   "execution_count": 141,
   "metadata": {},
   "outputs": [],
   "source": [
    "%load_ext autoreload\n",
    "%autoreload 2"
   ]
  },
  {
   "cell_type": "code",
   "execution_count": 143,
   "metadata": {},
   "outputs": [],
   "source": [
    "from fuzzifier import Fuzzifier"
   ]
  },
  {
   "cell_type": "code",
   "execution_count": 146,
   "metadata": {},
   "outputs": [
    {
     "data": {
      "application/vnd.jupyter.widget-view+json": {
       "model_id": "",
       "version_major": 2,
       "version_minor": 0
      },
      "text/plain": [
       "  0%|          | 0/5 [00:00<?, ?it/s]"
      ]
     },
     "metadata": {},
     "output_type": "display_data"
    },
    {
     "data": {
      "text/plain": [
       "[(array([  6.78566692, -11.76009363]),\n",
       "  array([ 9.78566692, -8.76009363]),\n",
       "  2,\n",
       "  2),\n",
       " (array([-8.92376131,  9.30956024]), array([-5.92376131, 12.30956024]), 2, 2),\n",
       " (array([ 3.512333  , -9.20918049]), array([ 6.512333  , -6.20918049]), 2, 2),\n",
       " (array([ 4.38150001, -6.60413711]), array([ 7.38150001, -3.60413711]), 2, 2),\n",
       " (array([-2.31977408,  1.23497272]), array([0.68022592, 4.23497272]), 2, 2)]"
      ]
     },
     "execution_count": 146,
     "metadata": {},
     "output_type": "execute_result"
    }
   ],
   "source": [
    "fz = Fuzzifier(2,2,3)\n",
    "fz.fuzzify(X[someidx],mus[someidx])"
   ]
  },
  {
   "cell_type": "markdown",
   "metadata": {},
   "source": [
    "***Find K-neighbors***"
   ]
  },
  {
   "cell_type": "code",
   "execution_count": 115,
   "metadata": {},
   "outputs": [],
   "source": [
    "from sklearn.neighbors import NearestNeighbors"
   ]
  },
  {
   "cell_type": "code",
   "execution_count": 160,
   "metadata": {},
   "outputs": [
    {
     "data": {
      "text/plain": [
       "array([42.23377672, 14.9369482 , 10.25939129, 27.03612967, 57.10152835,\n",
       "       32.26680615, 16.73463787, 24.88448668, 41.9290475 , 18.13388446])"
      ]
     },
     "execution_count": 160,
     "metadata": {},
     "output_type": "execute_result"
    }
   ],
   "source": [
    "pdist(X_fuzzy, fuzzy_distance)"
   ]
  },
  {
   "cell_type": "code",
   "execution_count": 172,
   "metadata": {},
   "outputs": [],
   "source": [
    "from scipy.spatial.distance import squareform\n",
    "X_dist = squareform(pdist(X_fuzzy, fuzzy_distance))"
   ]
  },
  {
   "cell_type": "code",
   "execution_count": 149,
   "metadata": {},
   "outputs": [
    {
     "data": {
      "text/plain": [
       "NearestNeighbors(metric='precomputed', n_neighbors=2)"
      ]
     },
     "execution_count": 149,
     "metadata": {},
     "output_type": "execute_result"
    }
   ],
   "source": [
    "nn = NearestNeighbors(n_neighbors=2, metric='precomputed')\n",
    "nn.fit(X_dist)"
   ]
  },
  {
   "cell_type": "code",
   "execution_count": 136,
   "metadata": {},
   "outputs": [
    {
     "data": {
      "text/plain": [
       "array([[ 0.        , 42.23377672, 14.9369482 , 10.25939129, 27.03612967],\n",
       "       [42.23377672,  0.        , 57.10152835, 32.26680615, 16.73463787],\n",
       "       [14.9369482 , 57.10152835,  0.        , 24.88448668, 41.9290475 ],\n",
       "       [10.25939129, 32.26680615, 24.88448668,  0.        , 18.13388446],\n",
       "       [27.03612967, 16.73463787, 41.9290475 , 18.13388446,  0.        ]])"
      ]
     },
     "execution_count": 136,
     "metadata": {},
     "output_type": "execute_result"
    }
   ],
   "source": [
    "X_dist"
   ]
  },
  {
   "cell_type": "code",
   "execution_count": 150,
   "metadata": {},
   "outputs": [
    {
     "data": {
      "text/plain": [
       "(array([[ 0.        , 10.25939129],\n",
       "        [ 0.        , 16.73463787],\n",
       "        [ 0.        , 14.9369482 ],\n",
       "        [ 0.        , 10.25939129],\n",
       "        [ 0.        , 16.73463787]]), array([[0, 3],\n",
       "        [1, 4],\n",
       "        [2, 0],\n",
       "        [3, 0],\n",
       "        [4, 1]]))"
      ]
     },
     "execution_count": 150,
     "metadata": {},
     "output_type": "execute_result"
    }
   ],
   "source": [
    "nn.kneighbors(X_dist, return_distance=True)"
   ]
  },
  {
   "cell_type": "code",
   "execution_count": 137,
   "metadata": {},
   "outputs": [],
   "source": [
    "distances, neighbors = nn.kneighbors(X_dist, return_distance=True)"
   ]
  },
  {
   "cell_type": "code",
   "execution_count": 138,
   "metadata": {},
   "outputs": [
    {
     "data": {
      "text/plain": [
       "array([10.25939129, 16.73463787, 14.9369482 , 10.25939129, 16.73463787])"
      ]
     },
     "execution_count": 138,
     "metadata": {},
     "output_type": "execute_result"
    }
   ],
   "source": [
    "distances[:,-1]"
   ]
  },
  {
   "cell_type": "code",
   "execution_count": 140,
   "metadata": {},
   "outputs": [
    {
     "data": {
      "text/plain": [
       "array([[3],\n",
       "       [4],\n",
       "       [0],\n",
       "       [0],\n",
       "       [1]])"
      ]
     },
     "execution_count": 140,
     "metadata": {},
     "output_type": "execute_result"
    }
   ],
   "source": [
    "neighbors[:,1:]"
   ]
  },
  {
   "cell_type": "code",
   "execution_count": null,
   "metadata": {},
   "outputs": [],
   "source": []
  },
  {
   "cell_type": "markdown",
   "metadata": {},
   "source": [
    "***Wishart on fuzzy data***"
   ]
  },
  {
   "cell_type": "code",
   "execution_count": 152,
   "metadata": {},
   "outputs": [],
   "source": [
    "from Wishart_fuzzy import Wishart_fuzzy"
   ]
  },
  {
   "cell_type": "code",
   "execution_count": 154,
   "metadata": {},
   "outputs": [],
   "source": [
    "wf = Wishart_fuzzy(3,0.2,2,2,5)"
   ]
  },
  {
   "cell_type": "code",
   "execution_count": 223,
   "metadata": {},
   "outputs": [
    {
     "data": {
      "application/vnd.jupyter.widget-view+json": {
       "model_id": "",
       "version_major": 2,
       "version_minor": 0
      },
      "text/plain": [
       "Fuzzifying...:   0%|          | 0/100 [00:00<?, ?it/s]"
      ]
     },
     "metadata": {},
     "output_type": "display_data"
    },
    {
     "name": "stdout",
     "output_type": "stream",
     "text": [
      "Calculating distances\n"
     ]
    },
    {
     "name": "stderr",
     "output_type": "stream",
     "text": [
      "100%|██████████| 100/100 [00:00<00:00, 28357.14it/s]"
     ]
    },
    {
     "name": "stdout",
     "output_type": "stream",
     "text": [
      "Distances calculated, 0.285539\n",
      "Finding neighbors\n",
      "Neighbors found, time 0.000982\n"
     ]
    },
    {
     "name": "stderr",
     "output_type": "stream",
     "text": [
      "\n"
     ]
    },
    {
     "data": {
      "text/plain": [
       "<Wishart_fuzzy.Wishart_fuzzy at 0x7f6eb971cfd0>"
      ]
     },
     "execution_count": 223,
     "metadata": {},
     "output_type": "execute_result"
    }
   ],
   "source": [
    "wf.fit(X, mus)"
   ]
  },
  {
   "cell_type": "code",
   "execution_count": 225,
   "metadata": {},
   "outputs": [
    {
     "data": {
      "application/vnd.jupyter.widget-view+json": {
       "model_id": "",
       "version_major": 2,
       "version_minor": 0
      },
      "text/plain": [
       "Fuzzifying...:   0%|          | 0/100 [00:00<?, ?it/s]"
      ]
     },
     "metadata": {},
     "output_type": "display_data"
    },
    {
     "name": "stdout",
     "output_type": "stream",
     "text": [
      "Calculating distances\n",
      "Distances calculated, 0.289075\n",
      "Finding neighbors\n",
      "Neighbors found, time 0.000979\n"
     ]
    },
    {
     "data": {
      "text/plain": [
       "<Wishart_fuzzy.Wishart_fuzzy at 0x7f6eb971cfd0>"
      ]
     },
     "execution_count": 225,
     "metadata": {},
     "output_type": "execute_result"
    }
   ],
   "source": [
    "#wf = Wishart_fuzzy(3,0.2,2,2,5)\n",
    "\n",
    "wf.fit(X, np.ones(X.shape[0]), verbose=False)"
   ]
  },
  {
   "cell_type": "code",
   "execution_count": 226,
   "metadata": {},
   "outputs": [
    {
     "data": {
      "image/png": "[encoded data removed]",
      "text/plain": [
       "<Figure size 1080x360 with 2 Axes>"
      ]
     },
     "metadata": {},
     "output_type": "display_data"
    }
   ],
   "source": [
    "fig, axs = plt.subplots(1,2,figsize=(15,5))\n",
    "sns.scatterplot(x=X[:,0], y=X[:,1], hue=y, ax=axs[0])\n",
    "sns.scatterplot(x=X[:,0], y=X[:,1], hue=wf.object_labels, ax=axs[1])\n",
    "plt.show()"
   ]
  }
 ],
 "metadata": {
  "kernelspec": {
   "display_name": "Python 3",
   "language": "python",
   "name": "python3"
  },
  "language_info": {
   "codemirror_mode": {
    "name": "ipython",
    "version": 3
   },
   "file_extension": ".py",
   "mimetype": "text/x-python",
   "name": "python",
   "nbconvert_exporter": "python",
   "pygments_lexer": "ipython3",
   "version": "3.7.3"
  }
 },
 "nbformat": 4,
 "nbformat_minor": 2
}
